{
  "nbformat": 4,
  "nbformat_minor": 0,
  "metadata": {
    "colab": {
      "provenance": [],
      "machine_shape": "hm",
      "authorship_tag": "ABX9TyPR6tCzHHv+HGtSMlrJnsed",
      "include_colab_link": true
    },
    "kernelspec": {
      "name": "python3",
      "display_name": "Python 3"
    },
    "language_info": {
      "name": "python"
    },
    "accelerator": "GPU",
    "gpuClass": "premium"
  },
  "cells": [
    {
      "cell_type": "markdown",
      "metadata": {
        "id": "view-in-github",
        "colab_type": "text"
      },
      "source": [
        "<a href=\"https://colab.research.google.com/github/SquareGraph/imaging-1d-data/blob/main/02_TS_I_Transfer_learning_on_Markov_and_Gramian_transormations_of_FordA_Dataset.ipynb\" target=\"_parent\"><img src=\"https://colab.research.google.com/assets/colab-badge.svg\" alt=\"Open In Colab\"/></a>"
      ]
    },
    {
      "cell_type": "markdown",
      "source": [
        "# The evaluation of Time Series Imaging - transfer learning & well known models\n",
        "\n",
        "In addition to the previous [notebook](https://github.com/SquareGraph/imaging-1d-data/blob/main/02_TS_I_Transfer_learning_on_Markov_and_Gramian_transormations_of_FordA_Dataset.ipynb) following is an enhancment.\n",
        "\n",
        "Below you can find\n",
        ">1. Downloading and preprocessing FordA dataset (GASF & Markov Transition Field)\n",
        ">2. Building models from pretrained & well known architectures like:\n",
        "<br>a) Resnet101 \n",
        "<br>b) InceptionV3 \n",
        ">3. Fitting models on datasets.\n",
        ">4. Comparing them.\n",
        "\n"
      ],
      "metadata": {
        "id": "14C8lX1fZ5rC"
      }
    },
    {
      "cell_type": "markdown",
      "source": [
        "#1. Downloading datasets"
      ],
      "metadata": {
        "id": "LuoEH__vdwxl"
      }
    },
    {
      "cell_type": "code",
      "source": [
        "!wget https://www.timeseriesclassification.com/Downloads/FordA.zip"
      ],
      "metadata": {
        "colab": {
          "base_uri": "https://localhost:8080/"
        },
        "id": "BzYQEfItdvC5",
        "outputId": "4998baba-16ad-4347-b16b-22d49d8a9e77"
      },
      "execution_count": null,
      "outputs": [
        {
          "output_type": "stream",
          "name": "stdout",
          "text": [
            "--2022-10-18 14:13:21--  https://www.timeseriesclassification.com/Downloads/FordA.zip\n",
            "Resolving www.timeseriesclassification.com (www.timeseriesclassification.com)... 109.123.71.232\n",
            "Connecting to www.timeseriesclassification.com (www.timeseriesclassification.com)|109.123.71.232|:443... connected.\n",
            "HTTP request sent, awaiting response... 200 OK\n",
            "Length: 36365254 (35M) [application/zip]\n",
            "Saving to: ‘FordA.zip.5’\n",
            "\n",
            "FordA.zip.5         100%[===================>]  34.68M  20.9MB/s    in 1.7s    \n",
            "\n",
            "2022-10-18 14:13:23 (20.9 MB/s) - ‘FordA.zip.5’ saved [36365254/36365254]\n",
            "\n"
          ]
        }
      ]
    },
    {
      "cell_type": "code",
      "source": [
        "!unzip /content/FordA.zip #unzipping to to the working directory"
      ],
      "metadata": {
        "colab": {
          "base_uri": "https://localhost:8080/"
        },
        "id": "JKOKnF8ceHrN",
        "outputId": "63e6a594-f6c6-4837-f7b7-52a9c6477298"
      },
      "execution_count": null,
      "outputs": [
        {
          "output_type": "stream",
          "name": "stdout",
          "text": [
            "Archive:  /content/FordA.zip\n",
            "replace FordA.txt? [y]es, [n]o, [A]ll, [N]one, [r]ename: N\n"
          ]
        }
      ]
    },
    {
      "cell_type": "code",
      "source": [
        "#Let's build a simple function that will extract features and labels from the text files. Also we want to turn classess into one_hot vector\n",
        "import numpy as np\n",
        "import tensorflow as tf\n",
        "\n",
        "def read_file_to_xy(filepath: str):\n",
        "    \"\"\"\n",
        "    Opens a text file from Ford Dataset, and split data into X & y for supervised learning problems.\n",
        "\n",
        "    Returns: tuple(X,y)\n",
        "    \"\"\"\n",
        "    with open(filepath, \"r\") as f:\n",
        "        train_set = f.readlines()\n",
        "\n",
        "    X = np.asarray([datapoint.split()[1:] for datapoint in train_set]).astype(np.float32)\n",
        "    y = np.asarray([datapoint.split()[0] for datapoint in train_set]).astype(np.float32)\n",
        "\n",
        "    y[y == -1] = 0 #labels were -1 and 1, so for the sigmoid activation we need values from 0 to 1.\n",
        "    \n",
        "    return X,y"
      ],
      "metadata": {
        "id": "o5eztLpGeNT6"
      },
      "execution_count": null,
      "outputs": []
    },
    {
      "cell_type": "code",
      "source": [
        "X_train_FordA, y_train_FordA = read_file_to_xy(\"/content/FordA_TRAIN.txt\") #Train dataset\n",
        "X_test_FordA, y_test_FordA = read_file_to_xy(\"/content/FordA_TEST.txt\") #Test dataset"
      ],
      "metadata": {
        "id": "tuWP9oOGegwn"
      },
      "execution_count": null,
      "outputs": []
    },
    {
      "cell_type": "code",
      "source": [
        "X_train_FordA.shape, y_train_FordA.shape #checking if shapes matches"
      ],
      "metadata": {
        "colab": {
          "base_uri": "https://localhost:8080/"
        },
        "id": "8R0xHQ2Cehno",
        "outputId": "54c866d3-3c4b-430b-ab38-7852c0fb8d73"
      },
      "execution_count": null,
      "outputs": [
        {
          "output_type": "execute_result",
          "data": {
            "text/plain": [
              "((3601, 500), (3601,))"
            ]
          },
          "metadata": {},
          "execution_count": 5
        }
      ]
    },
    {
      "cell_type": "code",
      "source": [
        "X_test_FordA.shape, y_test_FordA.shape #checking if shapes matches"
      ],
      "metadata": {
        "colab": {
          "base_uri": "https://localhost:8080/"
        },
        "id": "Tbj9bSS3f-si",
        "outputId": "b5f6235c-1e10-44c8-eb2f-ac404333b339"
      },
      "execution_count": null,
      "outputs": [
        {
          "output_type": "execute_result",
          "data": {
            "text/plain": [
              "((1320, 500), (1320,))"
            ]
          },
          "metadata": {},
          "execution_count": 6
        }
      ]
    },
    {
      "cell_type": "markdown",
      "source": [
        "# 2. Imaging Time Series:\n",
        "\n",
        "We'll build a function that will take our features data as an input, and return imaged features, according to the method we pick."
      ],
      "metadata": {
        "id": "PT0u8XwAi0FS"
      }
    },
    {
      "cell_type": "code",
      "source": [
        "!pip install pyts # colab doesn't come with Ppyts installed"
      ],
      "metadata": {
        "colab": {
          "base_uri": "https://localhost:8080/"
        },
        "id": "1nAlwM_WiO-c",
        "outputId": "8ffe3e83-42ab-49d5-9aab-82198586a74a"
      },
      "execution_count": null,
      "outputs": [
        {
          "output_type": "stream",
          "name": "stdout",
          "text": [
            "Looking in indexes: https://pypi.org/simple, https://us-python.pkg.dev/colab-wheels/public/simple/\n",
            "Requirement already satisfied: pyts in /usr/local/lib/python3.7/dist-packages (0.12.0)\n",
            "Requirement already satisfied: scipy>=1.3.0 in /usr/local/lib/python3.7/dist-packages (from pyts) (1.7.3)\n",
            "Requirement already satisfied: scikit-learn>=0.22.1 in /usr/local/lib/python3.7/dist-packages (from pyts) (1.0.2)\n",
            "Requirement already satisfied: joblib>=0.12 in /usr/local/lib/python3.7/dist-packages (from pyts) (1.2.0)\n",
            "Requirement already satisfied: numpy>=1.17.5 in /usr/local/lib/python3.7/dist-packages (from pyts) (1.21.6)\n",
            "Requirement already satisfied: numba>=0.48.0 in /usr/local/lib/python3.7/dist-packages (from pyts) (0.56.2)\n",
            "Requirement already satisfied: importlib-metadata in /usr/local/lib/python3.7/dist-packages (from numba>=0.48.0->pyts) (5.0.0)\n",
            "Requirement already satisfied: setuptools<60 in /usr/local/lib/python3.7/dist-packages (from numba>=0.48.0->pyts) (57.4.0)\n",
            "Requirement already satisfied: llvmlite<0.40,>=0.39.0dev0 in /usr/local/lib/python3.7/dist-packages (from numba>=0.48.0->pyts) (0.39.1)\n",
            "Requirement already satisfied: threadpoolctl>=2.0.0 in /usr/local/lib/python3.7/dist-packages (from scikit-learn>=0.22.1->pyts) (3.1.0)\n",
            "Requirement already satisfied: zipp>=0.5 in /usr/local/lib/python3.7/dist-packages (from importlib-metadata->numba>=0.48.0->pyts) (3.9.0)\n",
            "Requirement already satisfied: typing-extensions>=3.6.4 in /usr/local/lib/python3.7/dist-packages (from importlib-metadata->numba>=0.48.0->pyts) (4.1.1)\n"
          ]
        }
      ]
    },
    {
      "cell_type": "code",
      "source": [
        "from pyts.image import MarkovTransitionField, GramianAngularField, RecurrencePlot\n",
        "import matplotlib.pyplot as plt\n",
        "\n",
        "\n",
        "# First we'll make a function to transform 1D data into two dimensional data.\n",
        "# Next we'll use matplotlib to add a channel dimension instead of broadcasting shapes into black-and-white format\n",
        "\n",
        "\n",
        "def transform_image_2D(features, method: str, \n",
        "                       bins: int=8,\n",
        "                       markov_strategy: str='quantile',\n",
        "                       gramian_method: str = 'summation',\n",
        "                       sample_range: tuple =(-1,1),\n",
        "                       size=1):\n",
        "\n",
        "    \"\"\"\"\n",
        "    Transforms a timeseries into image by one of the following method:\n",
        "\n",
        "    method: \"Gramian\", \"Markov\", \"Recurrence\"\n",
        "    size: Images will be square images of size  features.shape[1] x features.shape[1]\n",
        "\n",
        "    For Markov Transition Field:\n",
        "\n",
        "    bins: \"size of the alphabet\". Default 8.\n",
        "    markove strategy: quantile, uniform or normal, for width of the bins. Default quantile\n",
        "\n",
        "    For Gramian Angular field\n",
        "\n",
        "    gramian_method: \"summation\" or \"difference\", methods of generating images\n",
        "    sample_range: value range after transformation, tuple, default (0,1)\n",
        "\n",
        "    For RecurrencePlot\n",
        "    All the parameters will be default as defined here:\n",
        "    https://pyts.readthedocs.io/en/0.10.0/auto_examples/image/plot_rp.html\n",
        "\n",
        "    Returns: An array of shape features.shape[0], features.shape[1], features.shape[1]\n",
        "    \"\"\"\n",
        "\n",
        "    image_size = np.round(features.shape[1]*size, decimals=1).astype(int)\n",
        "    \n",
        "    if method == \"Markov\": \n",
        "\n",
        "        method = MarkovTransitionField(image_size, n_bins=bins, strategy=markov_strategy)\n",
        "        return method.fit_transform(features)\n",
        "\n",
        "    elif method == \"Gramian\":\n",
        "\n",
        "        method = GramianAngularField(image_size, sample_range=sample_range)\n",
        "        return method.fit_transform(features)\n",
        "\n",
        "    # elif method == \"Recurrence\":\n",
        "\n",
        "    #     method = RecurrencePlot()\n",
        "    #     return method.fit_transform(features)\n",
        "\n",
        "    else:\n",
        "        raise ValueError(\"Method should be equal to 'Markov','Gramian' or 'Recurrence'\")\n",
        "\n",
        "     "
      ],
      "metadata": {
        "id": "CYHsmGRtiTMO"
      },
      "execution_count": null,
      "outputs": []
    },
    {
      "cell_type": "code",
      "source": [
        "# create three datasets, on default params, but with size reduction to save computing power. There is absolutely no need to go beyond image size bigger then 200px x 200px\n",
        "\n",
        "X_train_FordA_Markov = transform_image_2D(X_train_FordA, method='Markov', size=0.35)\n",
        "X_train_FordA_Gramian = transform_image_2D(X_train_FordA, method='Gramian', size=0.35)"
      ],
      "metadata": {
        "id": "4jh3kjLujvVR"
      },
      "execution_count": null,
      "outputs": []
    },
    {
      "cell_type": "code",
      "source": [
        "# And the same for test\n",
        "\n",
        "X_test_FordA_Markov = transform_image_2D(X_test_FordA, method='Markov', size=0.35)\n",
        "X_test_FordA_Gramian = transform_image_2D(X_test_FordA, method='Gramian', size=0.35)"
      ],
      "metadata": {
        "id": "tl2bSTo6upa9"
      },
      "execution_count": null,
      "outputs": []
    },
    {
      "cell_type": "code",
      "source": [
        "def turn_into_rgb(two_dim_img):\n",
        "\n",
        "    \"\"\"\n",
        "    Takes 2D input, normalize it and \"colorize\" it through the matplotlib cmap\n",
        "    \"\"\"\n",
        "\n",
        "    cmap = plt.cm.rainbow # could be any colour, but let's stick with a rainbow colors as in the Pyts documentation. Maybe it's a good idea how colormap with higher contrast affect the performance of Conv2D...\n",
        "    norm = plt.Normalize(vmin=two_dim_img.min(), \n",
        "                     vmax=two_dim_img.max())\n",
        "    \n",
        "    return (cmap(norm(two_dim_img)))[:,:,:3] #Cmap adds also an alpha channel, but in this case and also for saving some computation power, we just want to get rid of the last alpha channel, that's why we slice.\n",
        "\n",
        "\n",
        "def get_rgb_array(X_data_2d):\n",
        "    return np.stack([turn_into_rgb(img2d) for img2d in X_data_2d])"
      ],
      "metadata": {
        "id": "w1kU2NznwfyP"
      },
      "execution_count": null,
      "outputs": []
    },
    {
      "cell_type": "code",
      "source": [
        "# Markov transformation follows:\n",
        "\n",
        "train_fordA_rgb_markov = get_rgb_array(X_train_FordA_Markov) \n",
        "test_fordA_rgb_markov = get_rgb_array(X_test_FordA_Markov)"
      ],
      "metadata": {
        "id": "GnVVpMva4GNs"
      },
      "execution_count": null,
      "outputs": []
    },
    {
      "cell_type": "code",
      "source": [
        "# Gramian transformation follows:\n",
        "\n",
        "train_fordA_rgb_gramian = get_rgb_array(X_train_FordA_Gramian)\n",
        "test_fordA_rgb_gramian = get_rgb_array(X_test_FordA_Gramian)"
      ],
      "metadata": {
        "id": "OGcD4jxM4BGi"
      },
      "execution_count": null,
      "outputs": []
    },
    {
      "cell_type": "code",
      "source": [
        "# now into tensorflow dataset\n",
        "# If you don;t know those tricks, please read this article: https://www.tensorflow.org/guide/data_performance\n",
        "\n",
        "def to_dataset(dataset_tuple, \n",
        "                batch=True, \n",
        "                batch_size=32, \n",
        "                cache=True, \n",
        "                prefetch=True):\n",
        "    \n",
        "    \"\"\"\n",
        "    Turns tuple of data into datasets\n",
        "    \"\"\"\n",
        "    \n",
        "    dataset = tf.data.Dataset.from_tensor_slices(dataset_tuple)\n",
        "    dataset = dataset.batch(batch_size) if batch else dataset\n",
        "    dataset = dataset.cache() if cache else dataset\n",
        "    dataset = dataset.prefetch(tf.data.AUTOTUNE) if prefetch else dataset\n",
        "\n",
        "    return dataset"
      ],
      "metadata": {
        "id": "wgRuAG3vAbax"
      },
      "execution_count": null,
      "outputs": []
    },
    {
      "cell_type": "code",
      "source": [
        "# Markov datasets\n",
        "\n",
        "train_ds_markov = to_dataset((train_fordA_rgb_markov, y_train_FordA))\n",
        "test_ds_markov = to_dataset((test_fordA_rgb_markov, y_test_FordA))"
      ],
      "metadata": {
        "id": "pMa-V_rAG4--"
      },
      "execution_count": null,
      "outputs": []
    },
    {
      "cell_type": "code",
      "source": [
        "# Gramian datasets\n",
        "\n",
        "train_ds_gramian = to_dataset((train_fordA_rgb_gramian, y_train_FordA))\n",
        "test_ds_gramian = to_dataset((test_fordA_rgb_gramian, y_test_FordA))"
      ],
      "metadata": {
        "id": "fQOsgX5DGwk2"
      },
      "execution_count": null,
      "outputs": []
    },
    {
      "cell_type": "markdown",
      "source": [
        "#3. Transfer Learning\n",
        "\n",
        "In this approach we will train two pretrained architectures, on each of a dataset, and then extract some features, retrain on unfrozen layers. And compare results. \n",
        "\n",
        "We will use TF keras functional API with models from tf.keras.applications, with nearly all of the parameteres trainable.\n",
        "\n",
        "> 1. We start from training trainable architectures of Resnet101 and Inception v3 on both of our datasets.\n",
        "> 2. Second approach is to fit the same architectures, on the same datasets, but firstyl with frozen trainable parameters, and then to extract features, unfreeze some layers and retrain the architectures again.\n",
        "> 3. As a last step we will make an inference with each model, to have some data that will help us compare results."
      ],
      "metadata": {
        "id": "0tJO6gcQhvQW"
      }
    },
    {
      "cell_type": "code",
      "source": [
        "#Mount drive for saving model checkpoints on my GDriv\n",
        "from google.colab import drive\n",
        "drive.mount(\"/content/gdrive\")\n",
        "\n",
        "\n",
        "# HYPERPARAMS\n",
        "\n",
        "INPUT_SHAPE = train_fordA_rgb_markov[0].shape\n",
        "\n",
        "\n",
        "#Download architecture\n",
        "resnet_101 = tf.keras.applications.ResNet101(include_top=False, input_shape=INPUT_SHAPE)\n",
        "inception_v3 = tf.keras.applications.InceptionV3(include_top=False, input_shape=INPUT_SHAPE)"
      ],
      "metadata": {
        "colab": {
          "base_uri": "https://localhost:8080/"
        },
        "id": "16wMhfn-iEJz",
        "outputId": "ff76970b-403a-4a4e-aa0c-92b6fd2f5817"
      },
      "execution_count": null,
      "outputs": [
        {
          "output_type": "stream",
          "name": "stdout",
          "text": [
            "Drive already mounted at /content/gdrive; to attempt to forcibly remount, call drive.mount(\"/content/gdrive\", force_remount=True).\n"
          ]
        }
      ]
    },
    {
      "cell_type": "code",
      "source": [
        "def callbacks(model):\n",
        "    return [tf.keras.callbacks.ReduceLROnPlateau(),\n",
        "             tf.keras.callbacks.ModelCheckpoint(f\"/content/gdrive/MyDrive/AI_ML/Experiments/TimeSeriesImaging/{model.name}\", save_best_only=True)]"
      ],
      "metadata": {
        "id": "rG_bgmc5jTsb"
      },
      "execution_count": null,
      "outputs": []
    },
    {
      "cell_type": "code",
      "source": [
        "from tensorflow.keras import layers\n",
        "\n",
        "def transfer_learning_model(applications_layer, name: str):\n",
        "\n",
        "    inputs = layers.Input(shape=INPUT_SHAPE)\n",
        "    custom = applications_layer(inputs)\n",
        "    flatten = layers.Flatten()(custom)\n",
        "    outputs = layers.Dense(1, activation=\"sigmoid\")(flatten)\n",
        "\n",
        "    model = tf.keras.Model(inputs, outputs, name=name)\n",
        "\n",
        "    model.compile(loss = tf.keras.losses.BinaryCrossentropy(),\n",
        "                  optimizer = tf.keras.optimizers.Adam(),\n",
        "                  metrics=['accuracy'])\n",
        "    \n",
        "    model.summary()\n",
        "\n",
        "    return model"
      ],
      "metadata": {
        "id": "M8WnL-GXlnyq"
      },
      "execution_count": null,
      "outputs": []
    },
    {
      "cell_type": "markdown",
      "source": [
        "### Trainining Inception v3 and Resnet_101 on Markov Transition Field Data"
      ],
      "metadata": {
        "id": "QYoOHwFU0bZs"
      }
    },
    {
      "cell_type": "code",
      "source": [
        "resnet = transfer_learning_model(resnet_101, \"resnet101\")"
      ],
      "metadata": {
        "colab": {
          "base_uri": "https://localhost:8080/"
        },
        "id": "maHyk1PjzKbc",
        "outputId": "dff087b9-960a-410f-e84b-f2fca9ea7cb6"
      },
      "execution_count": null,
      "outputs": [
        {
          "output_type": "stream",
          "name": "stdout",
          "text": [
            "Model: \"resnet101\"\n",
            "_________________________________________________________________\n",
            " Layer (type)                Output Shape              Param #   \n",
            "=================================================================\n",
            " input_3 (InputLayer)        [(None, 175, 175, 3)]     0         \n",
            "                                                                 \n",
            " resnet101 (Functional)      (None, 6, 6, 2048)        42658176  \n",
            "                                                                 \n",
            " flatten (Flatten)           (None, 73728)             0         \n",
            "                                                                 \n",
            " dense (Dense)               (None, 1)                 73729     \n",
            "                                                                 \n",
            "=================================================================\n",
            "Total params: 42,731,905\n",
            "Trainable params: 42,626,561\n",
            "Non-trainable params: 105,344\n",
            "_________________________________________________________________\n"
          ]
        }
      ]
    },
    {
      "cell_type": "code",
      "source": [
        "inception_v3 = transfer_learning_model(inception_v3, \"inception_v3\")"
      ],
      "metadata": {
        "colab": {
          "base_uri": "https://localhost:8080/"
        },
        "id": "sMklTQE2tdlP",
        "outputId": "3e707cb9-bc8e-4f1f-9f2b-b4b9b257dfbd"
      },
      "execution_count": null,
      "outputs": [
        {
          "output_type": "stream",
          "name": "stdout",
          "text": [
            "Model: \"inception_v3\"\n",
            "_________________________________________________________________\n",
            " Layer (type)                Output Shape              Param #   \n",
            "=================================================================\n",
            " input_4 (InputLayer)        [(None, 175, 175, 3)]     0         \n",
            "                                                                 \n",
            " inception_v3 (Functional)   (None, 4, 4, 2048)        21802784  \n",
            "                                                                 \n",
            " flatten_1 (Flatten)         (None, 32768)             0         \n",
            "                                                                 \n",
            " dense_1 (Dense)             (None, 1)                 32769     \n",
            "                                                                 \n",
            "=================================================================\n",
            "Total params: 21,835,553\n",
            "Trainable params: 21,801,121\n",
            "Non-trainable params: 34,432\n",
            "_________________________________________________________________\n"
          ]
        }
      ]
    },
    {
      "cell_type": "code",
      "source": [
        "resnet_history = resnet.fit(train_ds_markov, validation_data=test_ds_markov, \n",
        "                            epochs=40, callbacks=callbacks(resnet))"
      ],
      "metadata": {
        "colab": {
          "base_uri": "https://localhost:8080/"
        },
        "id": "n6OXyvBSvlx8",
        "outputId": "84f3d147-4fa1-4f07-b587-8dce4cb1e666"
      },
      "execution_count": null,
      "outputs": [
        {
          "output_type": "stream",
          "name": "stdout",
          "text": [
            "Epoch 1/40\n",
            "113/113 [==============================] - ETA: 0s - loss: 2.0700 - accuracy: 0.6437"
          ]
        },
        {
          "output_type": "stream",
          "name": "stderr",
          "text": [
            "WARNING:absl:Found untraced functions such as _jit_compiled_convolution_op, _jit_compiled_convolution_op, _jit_compiled_convolution_op, _jit_compiled_convolution_op, _jit_compiled_convolution_op while saving (showing 5 of 104). These functions will not be directly callable after loading.\n"
          ]
        },
        {
          "output_type": "stream",
          "name": "stdout",
          "text": [
            "\b\b\b\b\b\b\b\b\b\b\b\b\b\b\b\b\b\b\b\b\b\b\b\b\b\b\b\b\b\b\b\b\b\b\b\b\b\b\b\b\b\b\b\b\b\b\b\b\b\b\b\b\b\b\b\b\b\b\b\b\b\b\b\b\b\b\b\b\b\b\b\b\b\b\b\b\b\b\b\b\b\b\b\b\r113/113 [==============================] - 82s 531ms/step - loss: 2.0700 - accuracy: 0.6437 - val_loss: 1853475.1250 - val_accuracy: 0.5159 - lr: 0.0010\n",
            "Epoch 2/40\n",
            "113/113 [==============================] - ETA: 0s - loss: 1.3285 - accuracy: 0.7006"
          ]
        },
        {
          "output_type": "stream",
          "name": "stderr",
          "text": [
            "WARNING:absl:Found untraced functions such as _jit_compiled_convolution_op, _jit_compiled_convolution_op, _jit_compiled_convolution_op, _jit_compiled_convolution_op, _jit_compiled_convolution_op while saving (showing 5 of 104). These functions will not be directly callable after loading.\n"
          ]
        },
        {
          "output_type": "stream",
          "name": "stdout",
          "text": [
            "\b\b\b\b\b\b\b\b\b\b\b\b\b\b\b\b\b\b\b\b\b\b\b\b\b\b\b\b\b\b\b\b\b\b\b\b\b\b\b\b\b\b\b\b\b\b\b\b\b\b\b\b\b\b\b\b\b\b\b\b\b\b\b\b\b\b\b\b\b\b\b\b\b\b\b\b\b\b\b\b\b\b\b\b\r113/113 [==============================] - 58s 514ms/step - loss: 1.3285 - accuracy: 0.7006 - val_loss: 1.0862 - val_accuracy: 0.5159 - lr: 0.0010\n",
            "Epoch 3/40\n",
            "113/113 [==============================] - ETA: 0s - loss: 0.5263 - accuracy: 0.7570"
          ]
        },
        {
          "output_type": "stream",
          "name": "stderr",
          "text": [
            "WARNING:absl:Found untraced functions such as _jit_compiled_convolution_op, _jit_compiled_convolution_op, _jit_compiled_convolution_op, _jit_compiled_convolution_op, _jit_compiled_convolution_op while saving (showing 5 of 104). These functions will not be directly callable after loading.\n"
          ]
        },
        {
          "output_type": "stream",
          "name": "stdout",
          "text": [
            "\b\b\b\b\b\b\b\b\b\b\b\b\b\b\b\b\b\b\b\b\b\b\b\b\b\b\b\b\b\b\b\b\b\b\b\b\b\b\b\b\b\b\b\b\b\b\b\b\b\b\b\b\b\b\b\b\b\b\b\b\b\b\b\b\b\b\b\b\b\b\b\b\b\b\b\b\b\b\b\b\b\b\b\b\r113/113 [==============================] - 58s 518ms/step - loss: 0.5263 - accuracy: 0.7570 - val_loss: 0.7018 - val_accuracy: 0.5159 - lr: 0.0010\n",
            "Epoch 4/40\n",
            "113/113 [==============================] - 10s 91ms/step - loss: 0.4074 - accuracy: 0.8056 - val_loss: 0.7685 - val_accuracy: 0.5159 - lr: 0.0010\n",
            "Epoch 5/40\n",
            "113/113 [==============================] - 10s 90ms/step - loss: 0.3378 - accuracy: 0.8475 - val_loss: 1.0822 - val_accuracy: 0.5159 - lr: 0.0010\n",
            "Epoch 6/40\n",
            "113/113 [==============================] - 10s 90ms/step - loss: 0.2719 - accuracy: 0.8764 - val_loss: 1.9362 - val_accuracy: 0.5159 - lr: 0.0010\n",
            "Epoch 7/40\n",
            "113/113 [==============================] - 10s 90ms/step - loss: 0.2145 - accuracy: 0.9081 - val_loss: 1.6630 - val_accuracy: 0.5159 - lr: 0.0010\n",
            "Epoch 8/40\n",
            "113/113 [==============================] - ETA: 0s - loss: 0.1513 - accuracy: 0.9436"
          ]
        },
        {
          "output_type": "stream",
          "name": "stderr",
          "text": [
            "WARNING:absl:Found untraced functions such as _jit_compiled_convolution_op, _jit_compiled_convolution_op, _jit_compiled_convolution_op, _jit_compiled_convolution_op, _jit_compiled_convolution_op while saving (showing 5 of 104). These functions will not be directly callable after loading.\n"
          ]
        },
        {
          "output_type": "stream",
          "name": "stdout",
          "text": [
            "\b\b\b\b\b\b\b\b\b\b\b\b\b\b\b\b\b\b\b\b\b\b\b\b\b\b\b\b\b\b\b\b\b\b\b\b\b\b\b\b\b\b\b\b\b\b\b\b\b\b\b\b\b\b\b\b\b\b\b\b\b\b\b\b\b\b\b\b\b\b\b\b\b\b\b\b\b\b\b\b\b\b\b\b\r113/113 [==============================] - 57s 512ms/step - loss: 0.1513 - accuracy: 0.9436 - val_loss: 0.6809 - val_accuracy: 0.6508 - lr: 0.0010\n",
            "Epoch 9/40\n",
            "113/113 [==============================] - 10s 91ms/step - loss: 0.0876 - accuracy: 0.9706 - val_loss: 2.0831 - val_accuracy: 0.4879 - lr: 0.0010\n",
            "Epoch 10/40\n",
            "113/113 [==============================] - 10s 91ms/step - loss: 0.0681 - accuracy: 0.9778 - val_loss: 4.2201 - val_accuracy: 0.5273 - lr: 0.0010\n",
            "Epoch 11/40\n",
            "113/113 [==============================] - 10s 90ms/step - loss: 0.0825 - accuracy: 0.9700 - val_loss: 0.6931 - val_accuracy: 0.8182 - lr: 0.0010\n",
            "Epoch 12/40\n",
            "113/113 [==============================] - ETA: 0s - loss: 0.0614 - accuracy: 0.9795"
          ]
        },
        {
          "output_type": "stream",
          "name": "stderr",
          "text": [
            "WARNING:absl:Found untraced functions such as _jit_compiled_convolution_op, _jit_compiled_convolution_op, _jit_compiled_convolution_op, _jit_compiled_convolution_op, _jit_compiled_convolution_op while saving (showing 5 of 104). These functions will not be directly callable after loading.\n"
          ]
        },
        {
          "output_type": "stream",
          "name": "stdout",
          "text": [
            "\b\b\b\b\b\b\b\b\b\b\b\b\b\b\b\b\b\b\b\b\b\b\b\b\b\b\b\b\b\b\b\b\b\b\b\b\b\b\b\b\b\b\b\b\b\b\b\b\b\b\b\b\b\b\b\b\b\b\b\b\b\b\b\b\b\b\b\b\b\b\b\b\b\b\b\b\b\b\b\b\b\b\b\b\r113/113 [==============================] - 58s 514ms/step - loss: 0.0614 - accuracy: 0.9795 - val_loss: 0.4470 - val_accuracy: 0.8591 - lr: 0.0010\n",
            "Epoch 13/40\n",
            "113/113 [==============================] - 10s 91ms/step - loss: 0.0605 - accuracy: 0.9786 - val_loss: 1.8245 - val_accuracy: 0.7114 - lr: 0.0010\n",
            "Epoch 14/40\n",
            "113/113 [==============================] - 10s 91ms/step - loss: 0.0495 - accuracy: 0.9797 - val_loss: 0.6468 - val_accuracy: 0.8682 - lr: 0.0010\n",
            "Epoch 15/40\n",
            "113/113 [==============================] - ETA: 0s - loss: 0.0430 - accuracy: 0.9861"
          ]
        },
        {
          "output_type": "stream",
          "name": "stderr",
          "text": [
            "WARNING:absl:Found untraced functions such as _jit_compiled_convolution_op, _jit_compiled_convolution_op, _jit_compiled_convolution_op, _jit_compiled_convolution_op, _jit_compiled_convolution_op while saving (showing 5 of 104). These functions will not be directly callable after loading.\n"
          ]
        },
        {
          "output_type": "stream",
          "name": "stdout",
          "text": [
            "\b\b\b\b\b\b\b\b\b\b\b\b\b\b\b\b\b\b\b\b\b\b\b\b\b\b\b\b\b\b\b\b\b\b\b\b\b\b\b\b\b\b\b\b\b\b\b\b\b\b\b\b\b\b\b\b\b\b\b\b\b\b\b\b\b\b\b\b\b\b\b\b\b\b\b\b\b\b\b\b\b\b\b\b\r113/113 [==============================] - 58s 514ms/step - loss: 0.0430 - accuracy: 0.9861 - val_loss: 0.4158 - val_accuracy: 0.8947 - lr: 0.0010\n",
            "Epoch 16/40\n",
            "113/113 [==============================] - 10s 91ms/step - loss: 0.0215 - accuracy: 0.9947 - val_loss: 0.4670 - val_accuracy: 0.8795 - lr: 0.0010\n",
            "Epoch 17/40\n",
            "113/113 [==============================] - ETA: 0s - loss: 0.0192 - accuracy: 0.9939"
          ]
        },
        {
          "output_type": "stream",
          "name": "stderr",
          "text": [
            "WARNING:absl:Found untraced functions such as _jit_compiled_convolution_op, _jit_compiled_convolution_op, _jit_compiled_convolution_op, _jit_compiled_convolution_op, _jit_compiled_convolution_op while saving (showing 5 of 104). These functions will not be directly callable after loading.\n"
          ]
        },
        {
          "output_type": "stream",
          "name": "stdout",
          "text": [
            "\b\b\b\b\b\b\b\b\b\b\b\b\b\b\b\b\b\b\b\b\b\b\b\b\b\b\b\b\b\b\b\b\b\b\b\b\b\b\b\b\b\b\b\b\b\b\b\b\b\b\b\b\b\b\b\b\b\b\b\b\b\b\b\b\b\b\b\b\b\b\b\b\b\b\b\b\b\b\b\b\b\b\b\b\r113/113 [==============================] - 58s 520ms/step - loss: 0.0192 - accuracy: 0.9939 - val_loss: 0.3800 - val_accuracy: 0.9061 - lr: 0.0010\n",
            "Epoch 18/40\n",
            "113/113 [==============================] - 10s 91ms/step - loss: 0.0076 - accuracy: 0.9989 - val_loss: 0.7276 - val_accuracy: 0.8273 - lr: 0.0010\n",
            "Epoch 19/40\n",
            "113/113 [==============================] - ETA: 0s - loss: 0.0045 - accuracy: 0.9992"
          ]
        },
        {
          "output_type": "stream",
          "name": "stderr",
          "text": [
            "WARNING:absl:Found untraced functions such as _jit_compiled_convolution_op, _jit_compiled_convolution_op, _jit_compiled_convolution_op, _jit_compiled_convolution_op, _jit_compiled_convolution_op while saving (showing 5 of 104). These functions will not be directly callable after loading.\n"
          ]
        },
        {
          "output_type": "stream",
          "name": "stdout",
          "text": [
            "\b\b\b\b\b\b\b\b\b\b\b\b\b\b\b\b\b\b\b\b\b\b\b\b\b\b\b\b\b\b\b\b\b\b\b\b\b\b\b\b\b\b\b\b\b\b\b\b\b\b\b\b\b\b\b\b\b\b\b\b\b\b\b\b\b\b\b\b\b\b\b\b\b\b\b\b\b\b\b\b\b\b\b\b\r113/113 [==============================] - 58s 513ms/step - loss: 0.0045 - accuracy: 0.9992 - val_loss: 0.3347 - val_accuracy: 0.9189 - lr: 0.0010\n",
            "Epoch 20/40\n",
            "113/113 [==============================] - 10s 91ms/step - loss: 0.0013 - accuracy: 1.0000 - val_loss: 0.3531 - val_accuracy: 0.9167 - lr: 0.0010\n",
            "Epoch 21/40\n",
            "113/113 [==============================] - 10s 92ms/step - loss: 2.0463e-04 - accuracy: 1.0000 - val_loss: 0.3702 - val_accuracy: 0.9227 - lr: 0.0010\n",
            "Epoch 22/40\n",
            "113/113 [==============================] - 10s 90ms/step - loss: 1.1893e-04 - accuracy: 1.0000 - val_loss: 0.3836 - val_accuracy: 0.9212 - lr: 0.0010\n",
            "Epoch 23/40\n",
            "113/113 [==============================] - 10s 90ms/step - loss: 8.4757e-05 - accuracy: 1.0000 - val_loss: 0.3969 - val_accuracy: 0.9235 - lr: 0.0010\n",
            "Epoch 24/40\n",
            "113/113 [==============================] - 10s 90ms/step - loss: 6.7230e-05 - accuracy: 1.0000 - val_loss: 0.4080 - val_accuracy: 0.9235 - lr: 0.0010\n",
            "Epoch 25/40\n",
            "113/113 [==============================] - 10s 89ms/step - loss: 5.5985e-05 - accuracy: 1.0000 - val_loss: 0.4167 - val_accuracy: 0.9242 - lr: 0.0010\n",
            "Epoch 26/40\n",
            "113/113 [==============================] - 10s 90ms/step - loss: 4.7790e-05 - accuracy: 1.0000 - val_loss: 0.4237 - val_accuracy: 0.9242 - lr: 0.0010\n",
            "Epoch 27/40\n",
            "113/113 [==============================] - 10s 90ms/step - loss: 4.1503e-05 - accuracy: 1.0000 - val_loss: 0.4293 - val_accuracy: 0.9235 - lr: 0.0010\n",
            "Epoch 28/40\n",
            "113/113 [==============================] - 10s 90ms/step - loss: 3.6441e-05 - accuracy: 1.0000 - val_loss: 0.4342 - val_accuracy: 0.9235 - lr: 0.0010\n",
            "Epoch 29/40\n",
            "113/113 [==============================] - 10s 90ms/step - loss: 3.2243e-05 - accuracy: 1.0000 - val_loss: 0.4388 - val_accuracy: 0.9227 - lr: 0.0010\n",
            "Epoch 30/40\n",
            "113/113 [==============================] - 10s 90ms/step - loss: 2.9269e-05 - accuracy: 1.0000 - val_loss: 0.4410 - val_accuracy: 0.9227 - lr: 1.0000e-04\n",
            "Epoch 31/40\n",
            "113/113 [==============================] - 10s 91ms/step - loss: 2.8929e-05 - accuracy: 1.0000 - val_loss: 0.4421 - val_accuracy: 0.9227 - lr: 1.0000e-04\n",
            "Epoch 32/40\n",
            "113/113 [==============================] - 10s 91ms/step - loss: 2.8568e-05 - accuracy: 1.0000 - val_loss: 0.4428 - val_accuracy: 0.9227 - lr: 1.0000e-04\n",
            "Epoch 33/40\n",
            "113/113 [==============================] - 10s 91ms/step - loss: 2.8195e-05 - accuracy: 1.0000 - val_loss: 0.4435 - val_accuracy: 0.9227 - lr: 1.0000e-04\n",
            "Epoch 34/40\n",
            "113/113 [==============================] - 10s 91ms/step - loss: 2.7820e-05 - accuracy: 1.0000 - val_loss: 0.4441 - val_accuracy: 0.9227 - lr: 1.0000e-04\n",
            "Epoch 35/40\n",
            "113/113 [==============================] - 10s 91ms/step - loss: 2.7418e-05 - accuracy: 1.0000 - val_loss: 0.4447 - val_accuracy: 0.9227 - lr: 1.0000e-04\n",
            "Epoch 36/40\n",
            "113/113 [==============================] - 10s 91ms/step - loss: 2.7007e-05 - accuracy: 1.0000 - val_loss: 0.4454 - val_accuracy: 0.9227 - lr: 1.0000e-04\n",
            "Epoch 37/40\n",
            "113/113 [==============================] - 10s 91ms/step - loss: 2.6588e-05 - accuracy: 1.0000 - val_loss: 0.4461 - val_accuracy: 0.9227 - lr: 1.0000e-04\n",
            "Epoch 38/40\n",
            "113/113 [==============================] - 10s 92ms/step - loss: 2.6157e-05 - accuracy: 1.0000 - val_loss: 0.4468 - val_accuracy: 0.9227 - lr: 1.0000e-04\n",
            "Epoch 39/40\n",
            "113/113 [==============================] - 10s 92ms/step - loss: 2.5708e-05 - accuracy: 1.0000 - val_loss: 0.4476 - val_accuracy: 0.9227 - lr: 1.0000e-04\n",
            "Epoch 40/40\n",
            "113/113 [==============================] - 10s 92ms/step - loss: 2.5338e-05 - accuracy: 1.0000 - val_loss: 0.4479 - val_accuracy: 0.9227 - lr: 1.0000e-05\n"
          ]
        }
      ]
    },
    {
      "cell_type": "code",
      "source": [
        "inception_v3_history = inception_v3.fit(train_ds_markov, validation_data=test_ds_markov, \n",
        "                            epochs=40, callbacks=callbacks(resnet))"
      ],
      "metadata": {
        "colab": {
          "base_uri": "https://localhost:8080/"
        },
        "id": "IiRXpxXm0Brq",
        "outputId": "8c79591f-fca0-4435-a2cc-61c8aad9d972"
      },
      "execution_count": null,
      "outputs": [
        {
          "output_type": "stream",
          "name": "stdout",
          "text": [
            "Epoch 1/40\n",
            "113/113 [==============================] - ETA: 0s - loss: 0.5124 - accuracy: 0.8023"
          ]
        },
        {
          "output_type": "stream",
          "name": "stderr",
          "text": [
            "WARNING:absl:Found untraced functions such as _jit_compiled_convolution_op, _jit_compiled_convolution_op, _jit_compiled_convolution_op, _jit_compiled_convolution_op, _jit_compiled_convolution_op while saving (showing 5 of 94). These functions will not be directly callable after loading.\n"
          ]
        },
        {
          "output_type": "stream",
          "name": "stdout",
          "text": [
            "\b\b\b\b\b\b\b\b\b\b\b\b\b\b\b\b\b\b\b\b\b\b\b\b\b\b\b\b\b\b\b\b\b\b\b\b\b\b\b\b\b\b\b\b\b\b\b\b\b\b\b\b\b\b\b\b\b\b\b\b\b\b\b\b\b\b\b\b\b\b\b\b\b\b\b\b\b\b\b\b\b\b\b\b\r113/113 [==============================] - 56s 412ms/step - loss: 0.5124 - accuracy: 0.8023 - val_loss: 1.5661 - val_accuracy: 0.8023 - lr: 0.0010\n",
            "Epoch 2/40\n",
            "113/113 [==============================] - ETA: 0s - loss: 0.2770 - accuracy: 0.8845"
          ]
        },
        {
          "output_type": "stream",
          "name": "stderr",
          "text": [
            "WARNING:absl:Found untraced functions such as _jit_compiled_convolution_op, _jit_compiled_convolution_op, _jit_compiled_convolution_op, _jit_compiled_convolution_op, _jit_compiled_convolution_op while saving (showing 5 of 94). These functions will not be directly callable after loading.\n"
          ]
        },
        {
          "output_type": "stream",
          "name": "stdout",
          "text": [
            "\b\b\b\b\b\b\b\b\b\b\b\b\b\b\b\b\b\b\b\b\b\b\b\b\b\b\b\b\b\b\b\b\b\b\b\b\b\b\b\b\b\b\b\b\b\b\b\b\b\b\b\b\b\b\b\b\b\b\b\b\b\b\b\b\b\b\b\b\b\b\b\b\b\b\b\b\b\b\b\b\b\b\b\b\r113/113 [==============================] - 45s 397ms/step - loss: 0.2770 - accuracy: 0.8845 - val_loss: 0.3793 - val_accuracy: 0.8902 - lr: 0.0010\n",
            "Epoch 3/40\n",
            "113/113 [==============================] - 7s 62ms/step - loss: 0.2208 - accuracy: 0.9147 - val_loss: 3914.5708 - val_accuracy: 0.5144 - lr: 0.0010\n",
            "Epoch 4/40\n",
            "113/113 [==============================] - 7s 64ms/step - loss: 0.4915 - accuracy: 0.8506 - val_loss: 1320.6252 - val_accuracy: 0.4841 - lr: 0.0010\n",
            "Epoch 5/40\n",
            "113/113 [==============================] - 7s 62ms/step - loss: 0.4447 - accuracy: 0.8142 - val_loss: 0.8914 - val_accuracy: 0.4189 - lr: 0.0010\n",
            "Epoch 6/40\n",
            "113/113 [==============================] - 7s 62ms/step - loss: 0.3471 - accuracy: 0.8442 - val_loss: 0.8446 - val_accuracy: 0.7492 - lr: 0.0010\n",
            "Epoch 7/40\n",
            "113/113 [==============================] - 7s 62ms/step - loss: 0.2579 - accuracy: 0.8964 - val_loss: 0.6233 - val_accuracy: 0.7545 - lr: 0.0010\n",
            "Epoch 8/40\n",
            "113/113 [==============================] - 7s 63ms/step - loss: 0.1924 - accuracy: 0.9242 - val_loss: 0.7669 - val_accuracy: 0.7970 - lr: 0.0010\n",
            "Epoch 9/40\n",
            "113/113 [==============================] - 7s 62ms/step - loss: 0.1428 - accuracy: 0.9420 - val_loss: 0.4137 - val_accuracy: 0.8841 - lr: 0.0010\n",
            "Epoch 10/40\n",
            "113/113 [==============================] - 7s 63ms/step - loss: 0.1368 - accuracy: 0.9453 - val_loss: 0.4476 - val_accuracy: 0.8742 - lr: 0.0010\n",
            "Epoch 11/40\n",
            "113/113 [==============================] - 7s 63ms/step - loss: 0.1126 - accuracy: 0.9625 - val_loss: 1.3204 - val_accuracy: 0.6591 - lr: 0.0010\n",
            "Epoch 12/40\n",
            "113/113 [==============================] - 7s 64ms/step - loss: 0.1035 - accuracy: 0.9617 - val_loss: 1.0649 - val_accuracy: 0.8182 - lr: 0.0010\n",
            "Epoch 13/40\n",
            "112/113 [============================>.] - ETA: 0s - loss: 0.0630 - accuracy: 0.9782"
          ]
        },
        {
          "output_type": "stream",
          "name": "stderr",
          "text": [
            "WARNING:absl:Found untraced functions such as _jit_compiled_convolution_op, _jit_compiled_convolution_op, _jit_compiled_convolution_op, _jit_compiled_convolution_op, _jit_compiled_convolution_op while saving (showing 5 of 94). These functions will not be directly callable after loading.\n"
          ]
        },
        {
          "output_type": "stream",
          "name": "stdout",
          "text": [
            "\b\b\b\b\b\b\b\b\b\b\b\b\b\b\b\b\b\b\b\b\b\b\b\b\b\b\b\b\b\b\b\b\b\b\b\b\b\b\b\b\b\b\b\b\b\b\b\b\b\b\b\b\b\b\b\b\b\b\b\b\b\b\b\b\b\b\b\b\b\b\b\b\b\b\b\b\b\b\b\b\b\b\b\b\r113/113 [==============================] - 45s 398ms/step - loss: 0.0627 - accuracy: 0.9783 - val_loss: 0.3254 - val_accuracy: 0.9068 - lr: 1.0000e-04\n",
            "Epoch 14/40\n",
            "112/113 [============================>.] - ETA: 0s - loss: 0.0315 - accuracy: 0.9919"
          ]
        },
        {
          "output_type": "stream",
          "name": "stderr",
          "text": [
            "WARNING:absl:Found untraced functions such as _jit_compiled_convolution_op, _jit_compiled_convolution_op, _jit_compiled_convolution_op, _jit_compiled_convolution_op, _jit_compiled_convolution_op while saving (showing 5 of 94). These functions will not be directly callable after loading.\n"
          ]
        },
        {
          "output_type": "stream",
          "name": "stdout",
          "text": [
            "\b\b\b\b\b\b\b\b\b\b\b\b\b\b\b\b\b\b\b\b\b\b\b\b\b\b\b\b\b\b\b\b\b\b\b\b\b\b\b\b\b\b\b\b\b\b\b\b\b\b\b\b\b\b\b\b\b\b\b\b\b\b\b\b\b\b\b\b\b\b\b\b\b\b\b\b\b\b\b\b\b\b\b\b\r113/113 [==============================] - 44s 396ms/step - loss: 0.0313 - accuracy: 0.9919 - val_loss: 0.3080 - val_accuracy: 0.9129 - lr: 1.0000e-04\n",
            "Epoch 15/40\n",
            "113/113 [==============================] - 7s 63ms/step - loss: 0.0201 - accuracy: 0.9950 - val_loss: 0.3233 - val_accuracy: 0.9121 - lr: 1.0000e-04\n",
            "Epoch 16/40\n",
            "113/113 [==============================] - 7s 66ms/step - loss: 0.0129 - accuracy: 0.9972 - val_loss: 0.3507 - val_accuracy: 0.9106 - lr: 1.0000e-04\n",
            "Epoch 17/40\n",
            "113/113 [==============================] - 7s 62ms/step - loss: 0.0090 - accuracy: 0.9992 - val_loss: 0.3768 - val_accuracy: 0.9121 - lr: 1.0000e-04\n",
            "Epoch 18/40\n",
            "113/113 [==============================] - 7s 63ms/step - loss: 0.0068 - accuracy: 0.9992 - val_loss: 0.4022 - val_accuracy: 0.9114 - lr: 1.0000e-04\n",
            "Epoch 19/40\n",
            "113/113 [==============================] - 7s 63ms/step - loss: 0.0050 - accuracy: 0.9992 - val_loss: 0.4244 - val_accuracy: 0.9121 - lr: 1.0000e-04\n",
            "Epoch 20/40\n",
            "113/113 [==============================] - 8s 67ms/step - loss: 0.0038 - accuracy: 0.9994 - val_loss: 0.4509 - val_accuracy: 0.9106 - lr: 1.0000e-04\n",
            "Epoch 21/40\n",
            "113/113 [==============================] - 7s 64ms/step - loss: 0.0028 - accuracy: 0.9994 - val_loss: 0.4714 - val_accuracy: 0.9114 - lr: 1.0000e-04\n",
            "Epoch 22/40\n",
            "113/113 [==============================] - 7s 63ms/step - loss: 0.0016 - accuracy: 0.9994 - val_loss: 0.4915 - val_accuracy: 0.9152 - lr: 1.0000e-04\n",
            "Epoch 23/40\n",
            "113/113 [==============================] - 7s 63ms/step - loss: 9.0043e-04 - accuracy: 0.9997 - val_loss: 0.5148 - val_accuracy: 0.9136 - lr: 1.0000e-04\n",
            "Epoch 24/40\n",
            "113/113 [==============================] - 7s 65ms/step - loss: 5.7412e-04 - accuracy: 1.0000 - val_loss: 0.5386 - val_accuracy: 0.9129 - lr: 1.0000e-04\n",
            "Epoch 25/40\n",
            "113/113 [==============================] - 7s 66ms/step - loss: 4.1519e-04 - accuracy: 1.0000 - val_loss: 0.5519 - val_accuracy: 0.9129 - lr: 1.0000e-05\n",
            "Epoch 26/40\n",
            "113/113 [==============================] - 7s 65ms/step - loss: 4.0099e-04 - accuracy: 1.0000 - val_loss: 0.5580 - val_accuracy: 0.9129 - lr: 1.0000e-05\n",
            "Epoch 27/40\n",
            "113/113 [==============================] - 7s 64ms/step - loss: 3.8688e-04 - accuracy: 1.0000 - val_loss: 0.5615 - val_accuracy: 0.9136 - lr: 1.0000e-05\n",
            "Epoch 28/40\n",
            "113/113 [==============================] - 7s 63ms/step - loss: 3.7320e-04 - accuracy: 1.0000 - val_loss: 0.5643 - val_accuracy: 0.9136 - lr: 1.0000e-05\n",
            "Epoch 29/40\n",
            "113/113 [==============================] - 7s 64ms/step - loss: 3.5958e-04 - accuracy: 1.0000 - val_loss: 0.5668 - val_accuracy: 0.9136 - lr: 1.0000e-05\n",
            "Epoch 30/40\n",
            "113/113 [==============================] - 7s 62ms/step - loss: 3.4591e-04 - accuracy: 1.0000 - val_loss: 0.5694 - val_accuracy: 0.9136 - lr: 1.0000e-05\n",
            "Epoch 31/40\n",
            "113/113 [==============================] - 7s 63ms/step - loss: 3.3246e-04 - accuracy: 1.0000 - val_loss: 0.5720 - val_accuracy: 0.9136 - lr: 1.0000e-05\n",
            "Epoch 32/40\n",
            "113/113 [==============================] - 7s 63ms/step - loss: 3.1911e-04 - accuracy: 1.0000 - val_loss: 0.5748 - val_accuracy: 0.9136 - lr: 1.0000e-05\n",
            "Epoch 33/40\n",
            "113/113 [==============================] - 7s 66ms/step - loss: 3.0569e-04 - accuracy: 1.0000 - val_loss: 0.5775 - val_accuracy: 0.9136 - lr: 1.0000e-05\n",
            "Epoch 34/40\n",
            "113/113 [==============================] - 7s 65ms/step - loss: 2.9288e-04 - accuracy: 1.0000 - val_loss: 0.5803 - val_accuracy: 0.9129 - lr: 1.0000e-05\n",
            "Epoch 35/40\n",
            "113/113 [==============================] - 7s 64ms/step - loss: 2.8278e-04 - accuracy: 1.0000 - val_loss: 0.5818 - val_accuracy: 0.9129 - lr: 1.0000e-06\n",
            "Epoch 36/40\n",
            "113/113 [==============================] - 7s 63ms/step - loss: 2.8150e-04 - accuracy: 1.0000 - val_loss: 0.5825 - val_accuracy: 0.9129 - lr: 1.0000e-06\n",
            "Epoch 37/40\n",
            "113/113 [==============================] - 7s 64ms/step - loss: 2.8022e-04 - accuracy: 1.0000 - val_loss: 0.5830 - val_accuracy: 0.9129 - lr: 1.0000e-06\n",
            "Epoch 38/40\n",
            "113/113 [==============================] - 7s 63ms/step - loss: 2.7861e-04 - accuracy: 1.0000 - val_loss: 0.5834 - val_accuracy: 0.9129 - lr: 1.0000e-06\n",
            "Epoch 39/40\n",
            "113/113 [==============================] - 7s 64ms/step - loss: 2.7722e-04 - accuracy: 1.0000 - val_loss: 0.5838 - val_accuracy: 0.9129 - lr: 1.0000e-06\n",
            "Epoch 40/40\n",
            "113/113 [==============================] - 7s 62ms/step - loss: 2.7569e-04 - accuracy: 1.0000 - val_loss: 0.5841 - val_accuracy: 0.9129 - lr: 1.0000e-06\n"
          ]
        }
      ]
    },
    {
      "cell_type": "markdown",
      "source": [
        "### Training on Gramian Angular Field"
      ],
      "metadata": {
        "id": "JCotHJLH1CoZ"
      }
    },
    {
      "cell_type": "code",
      "source": [
        "# Create new models for Gramian Angular Field data\n",
        "\n",
        "resnet_gramian = transfer_learning_model(resnet_101, \"resnet101_gramian\")\n",
        "inception_v3_gramian = transfer_learning_model(inception_v3, \"inception_v3_gramian\")"
      ],
      "metadata": {
        "colab": {
          "base_uri": "https://localhost:8080/"
        },
        "id": "BCr7WevR1JzC",
        "outputId": "c5558ef3-58b6-41e7-af52-99102e2295dd"
      },
      "execution_count": null,
      "outputs": [
        {
          "output_type": "stream",
          "name": "stdout",
          "text": [
            "Model: \"resnet101_gramian\"\n",
            "_________________________________________________________________\n",
            " Layer (type)                Output Shape              Param #   \n",
            "=================================================================\n",
            " input_5 (InputLayer)        [(None, 175, 175, 3)]     0         \n",
            "                                                                 \n",
            " resnet101 (Functional)      (None, 6, 6, 2048)        42658176  \n",
            "                                                                 \n",
            " flatten_2 (Flatten)         (None, 73728)             0         \n",
            "                                                                 \n",
            " dense_2 (Dense)             (None, 1)                 73729     \n",
            "                                                                 \n",
            "=================================================================\n",
            "Total params: 42,731,905\n",
            "Trainable params: 42,626,561\n",
            "Non-trainable params: 105,344\n",
            "_________________________________________________________________\n",
            "Model: \"inception_v3_gramian\"\n",
            "_________________________________________________________________\n",
            " Layer (type)                Output Shape              Param #   \n",
            "=================================================================\n",
            " input_6 (InputLayer)        [(None, 175, 175, 3)]     0         \n",
            "                                                                 \n",
            " inception_v3 (Functional)   (None, 1)                 21835553  \n",
            "                                                                 \n",
            " flatten_3 (Flatten)         (None, 1)                 0         \n",
            "                                                                 \n",
            " dense_3 (Dense)             (None, 1)                 2         \n",
            "                                                                 \n",
            "=================================================================\n",
            "Total params: 21,835,555\n",
            "Trainable params: 21,801,123\n",
            "Non-trainable params: 34,432\n",
            "_________________________________________________________________\n"
          ]
        }
      ]
    },
    {
      "cell_type": "code",
      "source": [
        "resnet_history_gramian = resnet_gramian.fit(train_ds_gramian, validation_data=test_ds_gramian, \n",
        "                            epochs=40, callbacks=callbacks(resnet_gramian))"
      ],
      "metadata": {
        "colab": {
          "base_uri": "https://localhost:8080/"
        },
        "id": "gDiRcms21gKB",
        "outputId": "09d2d31a-e8dc-48ce-d6ad-93c76bb70f82"
      },
      "execution_count": null,
      "outputs": [
        {
          "output_type": "stream",
          "name": "stdout",
          "text": [
            "Epoch 1/40\n",
            "113/113 [==============================] - ETA: 0s - loss: 0.9339 - accuracy: 0.6623"
          ]
        },
        {
          "output_type": "stream",
          "name": "stderr",
          "text": [
            "WARNING:absl:Found untraced functions such as _jit_compiled_convolution_op, _jit_compiled_convolution_op, _jit_compiled_convolution_op, _jit_compiled_convolution_op, _jit_compiled_convolution_op while saving (showing 5 of 104). These functions will not be directly callable after loading.\n"
          ]
        },
        {
          "output_type": "stream",
          "name": "stdout",
          "text": [
            "\b\b\b\b\b\b\b\b\b\b\b\b\b\b\b\b\b\b\b\b\b\b\b\b\b\b\b\b\b\b\b\b\b\b\b\b\b\b\b\b\b\b\b\b\b\b\b\b\b\b\b\b\b\b\b\b\b\b\b\b\b\b\b\b\b\b\b\b\b\b\b\b\b\b\b\b\b\b\b\b\b\b\b\b\r113/113 [==============================] - 73s 546ms/step - loss: 0.9339 - accuracy: 0.6623 - val_loss: 67992.4688 - val_accuracy: 0.5174 - lr: 0.0010\n",
            "Epoch 2/40\n",
            "113/113 [==============================] - ETA: 0s - loss: 0.4857 - accuracy: 0.7901"
          ]
        },
        {
          "output_type": "stream",
          "name": "stderr",
          "text": [
            "WARNING:absl:Found untraced functions such as _jit_compiled_convolution_op, _jit_compiled_convolution_op, _jit_compiled_convolution_op, _jit_compiled_convolution_op, _jit_compiled_convolution_op while saving (showing 5 of 104). These functions will not be directly callable after loading.\n"
          ]
        },
        {
          "output_type": "stream",
          "name": "stdout",
          "text": [
            "\b\b\b\b\b\b\b\b\b\b\b\b\b\b\b\b\b\b\b\b\b\b\b\b\b\b\b\b\b\b\b\b\b\b\b\b\b\b\b\b\b\b\b\b\b\b\b\b\b\b\b\b\b\b\b\b\b\b\b\b\b\b\b\b\b\b\b\b\b\b\b\b\b\b\b\b\b\b\b\b\b\b\b\b\r113/113 [==============================] - 58s 520ms/step - loss: 0.4857 - accuracy: 0.7901 - val_loss: 29.0966 - val_accuracy: 0.5992 - lr: 0.0010\n",
            "Epoch 3/40\n",
            "113/113 [==============================] - 10s 91ms/step - loss: 0.3562 - accuracy: 0.8392 - val_loss: 70.4404 - val_accuracy: 0.5159 - lr: 0.0010\n",
            "Epoch 4/40\n",
            "113/113 [==============================] - ETA: 0s - loss: 0.3188 - accuracy: 0.8645"
          ]
        },
        {
          "output_type": "stream",
          "name": "stderr",
          "text": [
            "WARNING:absl:Found untraced functions such as _jit_compiled_convolution_op, _jit_compiled_convolution_op, _jit_compiled_convolution_op, _jit_compiled_convolution_op, _jit_compiled_convolution_op while saving (showing 5 of 104). These functions will not be directly callable after loading.\n"
          ]
        },
        {
          "output_type": "stream",
          "name": "stdout",
          "text": [
            "\b\b\b\b\b\b\b\b\b\b\b\b\b\b\b\b\b\b\b\b\b\b\b\b\b\b\b\b\b\b\b\b\b\b\b\b\b\b\b\b\b\b\b\b\b\b\b\b\b\b\b\b\b\b\b\b\b\b\b\b\b\b\b\b\b\b\b\b\b\b\b\b\b\b\b\b\b\b\b\b\b\b\b\b\r113/113 [==============================] - 58s 521ms/step - loss: 0.3188 - accuracy: 0.8645 - val_loss: 4.3399 - val_accuracy: 0.5008 - lr: 0.0010\n",
            "Epoch 5/40\n",
            "113/113 [==============================] - ETA: 0s - loss: 0.2598 - accuracy: 0.8853"
          ]
        },
        {
          "output_type": "stream",
          "name": "stderr",
          "text": [
            "WARNING:absl:Found untraced functions such as _jit_compiled_convolution_op, _jit_compiled_convolution_op, _jit_compiled_convolution_op, _jit_compiled_convolution_op, _jit_compiled_convolution_op while saving (showing 5 of 104). These functions will not be directly callable after loading.\n"
          ]
        },
        {
          "output_type": "stream",
          "name": "stdout",
          "text": [
            "\b\b\b\b\b\b\b\b\b\b\b\b\b\b\b\b\b\b\b\b\b\b\b\b\b\b\b\b\b\b\b\b\b\b\b\b\b\b\b\b\b\b\b\b\b\b\b\b\b\b\b\b\b\b\b\b\b\b\b\b\b\b\b\b\b\b\b\b\b\b\b\b\b\b\b\b\b\b\b\b\b\b\b\b\r113/113 [==============================] - 59s 524ms/step - loss: 0.2598 - accuracy: 0.8853 - val_loss: 0.5625 - val_accuracy: 0.8841 - lr: 0.0010\n",
            "Epoch 6/40\n",
            "113/113 [==============================] - 10s 91ms/step - loss: 0.2195 - accuracy: 0.9081 - val_loss: 0.8695 - val_accuracy: 0.7098 - lr: 0.0010\n",
            "Epoch 7/40\n",
            "113/113 [==============================] - 10s 92ms/step - loss: 0.1893 - accuracy: 0.9250 - val_loss: 0.9940 - val_accuracy: 0.7402 - lr: 0.0010\n",
            "Epoch 8/40\n",
            "113/113 [==============================] - ETA: 0s - loss: 0.1541 - accuracy: 0.9397"
          ]
        },
        {
          "output_type": "stream",
          "name": "stderr",
          "text": [
            "WARNING:absl:Found untraced functions such as _jit_compiled_convolution_op, _jit_compiled_convolution_op, _jit_compiled_convolution_op, _jit_compiled_convolution_op, _jit_compiled_convolution_op while saving (showing 5 of 104). These functions will not be directly callable after loading.\n"
          ]
        },
        {
          "output_type": "stream",
          "name": "stdout",
          "text": [
            "\b\b\b\b\b\b\b\b\b\b\b\b\b\b\b\b\b\b\b\b\b\b\b\b\b\b\b\b\b\b\b\b\b\b\b\b\b\b\b\b\b\b\b\b\b\b\b\b\b\b\b\b\b\b\b\b\b\b\b\b\b\b\b\b\b\b\b\b\b\b\b\b\b\b\b\b\b\b\b\b\b\b\b\b\r113/113 [==============================] - 59s 525ms/step - loss: 0.1541 - accuracy: 0.9397 - val_loss: 0.5574 - val_accuracy: 0.8886 - lr: 0.0010\n",
            "Epoch 9/40\n",
            "113/113 [==============================] - 10s 91ms/step - loss: 0.1225 - accuracy: 0.9550 - val_loss: 0.5657 - val_accuracy: 0.9023 - lr: 0.0010\n",
            "Epoch 10/40\n",
            "113/113 [==============================] - ETA: 0s - loss: 0.1161 - accuracy: 0.9520"
          ]
        },
        {
          "output_type": "stream",
          "name": "stderr",
          "text": [
            "WARNING:absl:Found untraced functions such as _jit_compiled_convolution_op, _jit_compiled_convolution_op, _jit_compiled_convolution_op, _jit_compiled_convolution_op, _jit_compiled_convolution_op while saving (showing 5 of 104). These functions will not be directly callable after loading.\n"
          ]
        },
        {
          "output_type": "stream",
          "name": "stdout",
          "text": [
            "\b\b\b\b\b\b\b\b\b\b\b\b\b\b\b\b\b\b\b\b\b\b\b\b\b\b\b\b\b\b\b\b\b\b\b\b\b\b\b\b\b\b\b\b\b\b\b\b\b\b\b\b\b\b\b\b\b\b\b\b\b\b\b\b\b\b\b\b\b\b\b\b\b\b\b\b\b\b\b\b\b\b\b\b\r113/113 [==============================] - 59s 525ms/step - loss: 0.1161 - accuracy: 0.9520 - val_loss: 0.4306 - val_accuracy: 0.8432 - lr: 0.0010\n",
            "Epoch 11/40\n",
            "113/113 [==============================] - 11s 93ms/step - loss: 0.1024 - accuracy: 0.9617 - val_loss: 3.1500 - val_accuracy: 0.5720 - lr: 0.0010\n",
            "Epoch 12/40\n",
            "113/113 [==============================] - 10s 92ms/step - loss: 0.0962 - accuracy: 0.9631 - val_loss: 1.0628 - val_accuracy: 0.8636 - lr: 0.0010\n",
            "Epoch 13/40\n",
            "113/113 [==============================] - 10s 92ms/step - loss: 0.0743 - accuracy: 0.9717 - val_loss: 7.9204 - val_accuracy: 0.6417 - lr: 0.0010\n",
            "Epoch 14/40\n",
            "113/113 [==============================] - 10s 92ms/step - loss: 0.0732 - accuracy: 0.9745 - val_loss: 0.9167 - val_accuracy: 0.8121 - lr: 0.0010\n",
            "Epoch 15/40\n",
            "113/113 [==============================] - 10s 90ms/step - loss: 0.0430 - accuracy: 0.9858 - val_loss: 1.3465 - val_accuracy: 0.7765 - lr: 0.0010\n",
            "Epoch 16/40\n",
            "113/113 [==============================] - 10s 91ms/step - loss: 0.0547 - accuracy: 0.9811 - val_loss: 1.0509 - val_accuracy: 0.7742 - lr: 0.0010\n",
            "Epoch 17/40\n",
            "113/113 [==============================] - 10s 90ms/step - loss: 0.0487 - accuracy: 0.9836 - val_loss: 0.8925 - val_accuracy: 0.8621 - lr: 0.0010\n",
            "Epoch 18/40\n",
            "113/113 [==============================] - 10s 91ms/step - loss: 0.0304 - accuracy: 0.9900 - val_loss: 1.7823 - val_accuracy: 0.7439 - lr: 0.0010\n",
            "Epoch 19/40\n",
            "113/113 [==============================] - 10s 90ms/step - loss: 0.0600 - accuracy: 0.9825 - val_loss: 3.0893 - val_accuracy: 0.5667 - lr: 0.0010\n",
            "Epoch 20/40\n",
            "113/113 [==============================] - 10s 90ms/step - loss: 0.0286 - accuracy: 0.9906 - val_loss: 2.9954 - val_accuracy: 0.8644 - lr: 0.0010\n",
            "Epoch 21/40\n",
            "113/113 [==============================] - 10s 90ms/step - loss: 0.0146 - accuracy: 0.9967 - val_loss: 1.1238 - val_accuracy: 0.9144 - lr: 1.0000e-04\n",
            "Epoch 22/40\n",
            "113/113 [==============================] - 10s 91ms/step - loss: 0.0043 - accuracy: 1.0000 - val_loss: 1.0085 - val_accuracy: 0.9174 - lr: 1.0000e-04\n",
            "Epoch 23/40\n",
            "113/113 [==============================] - 10s 91ms/step - loss: 0.0029 - accuracy: 1.0000 - val_loss: 0.9686 - val_accuracy: 0.9197 - lr: 1.0000e-04\n",
            "Epoch 24/40\n",
            "113/113 [==============================] - 10s 90ms/step - loss: 0.0023 - accuracy: 1.0000 - val_loss: 0.9583 - val_accuracy: 0.9212 - lr: 1.0000e-04\n",
            "Epoch 25/40\n",
            "113/113 [==============================] - 10s 91ms/step - loss: 0.0019 - accuracy: 1.0000 - val_loss: 0.9600 - val_accuracy: 0.9227 - lr: 1.0000e-04\n",
            "Epoch 26/40\n",
            "113/113 [==============================] - 10s 90ms/step - loss: 0.0016 - accuracy: 1.0000 - val_loss: 0.9607 - val_accuracy: 0.9227 - lr: 1.0000e-04\n",
            "Epoch 27/40\n",
            "113/113 [==============================] - 10s 90ms/step - loss: 0.0014 - accuracy: 1.0000 - val_loss: 0.9607 - val_accuracy: 0.9220 - lr: 1.0000e-04\n",
            "Epoch 28/40\n",
            "113/113 [==============================] - 10s 90ms/step - loss: 0.0012 - accuracy: 1.0000 - val_loss: 0.9616 - val_accuracy: 0.9227 - lr: 1.0000e-04\n",
            "Epoch 29/40\n",
            "113/113 [==============================] - 10s 90ms/step - loss: 0.0010 - accuracy: 1.0000 - val_loss: 0.9641 - val_accuracy: 0.9227 - lr: 1.0000e-04\n",
            "Epoch 30/40\n",
            "113/113 [==============================] - 10s 90ms/step - loss: 8.6256e-04 - accuracy: 1.0000 - val_loss: 0.9669 - val_accuracy: 0.9227 - lr: 1.0000e-04\n",
            "Epoch 31/40\n",
            "113/113 [==============================] - 10s 90ms/step - loss: 7.5633e-04 - accuracy: 1.0000 - val_loss: 0.9739 - val_accuracy: 0.9220 - lr: 1.0000e-05\n",
            "Epoch 32/40\n",
            "113/113 [==============================] - 10s 91ms/step - loss: 7.4354e-04 - accuracy: 1.0000 - val_loss: 0.9765 - val_accuracy: 0.9220 - lr: 1.0000e-05\n",
            "Epoch 33/40\n",
            "113/113 [==============================] - 10s 90ms/step - loss: 7.3067e-04 - accuracy: 1.0000 - val_loss: 0.9777 - val_accuracy: 0.9227 - lr: 1.0000e-05\n",
            "Epoch 34/40\n",
            "113/113 [==============================] - 10s 90ms/step - loss: 7.1727e-04 - accuracy: 1.0000 - val_loss: 0.9782 - val_accuracy: 0.9227 - lr: 1.0000e-05\n",
            "Epoch 35/40\n",
            "113/113 [==============================] - 10s 90ms/step - loss: 7.0338e-04 - accuracy: 1.0000 - val_loss: 0.9786 - val_accuracy: 0.9227 - lr: 1.0000e-05\n",
            "Epoch 36/40\n",
            "113/113 [==============================] - 10s 91ms/step - loss: 6.8900e-04 - accuracy: 1.0000 - val_loss: 0.9789 - val_accuracy: 0.9235 - lr: 1.0000e-05\n",
            "Epoch 37/40\n",
            "113/113 [==============================] - 10s 91ms/step - loss: 6.7416e-04 - accuracy: 1.0000 - val_loss: 0.9792 - val_accuracy: 0.9235 - lr: 1.0000e-05\n",
            "Epoch 38/40\n",
            "113/113 [==============================] - 10s 90ms/step - loss: 6.5897e-04 - accuracy: 1.0000 - val_loss: 0.9797 - val_accuracy: 0.9235 - lr: 1.0000e-05\n",
            "Epoch 39/40\n",
            "113/113 [==============================] - 10s 90ms/step - loss: 6.4322e-04 - accuracy: 1.0000 - val_loss: 0.9801 - val_accuracy: 0.9235 - lr: 1.0000e-05\n",
            "Epoch 40/40\n",
            "113/113 [==============================] - 10s 90ms/step - loss: 6.2702e-04 - accuracy: 1.0000 - val_loss: 0.9806 - val_accuracy: 0.9235 - lr: 1.0000e-05\n"
          ]
        }
      ]
    },
    {
      "cell_type": "code",
      "source": [
        "incpv3_history_gramian = inception_v3_gramian.fit(train_ds_gramian, validation_data=test_ds_gramian, \n",
        "                            epochs=40, callbacks=callbacks(inception_v3_gramian))"
      ],
      "metadata": {
        "colab": {
          "base_uri": "https://localhost:8080/"
        },
        "id": "k5-sdqu71sQU",
        "outputId": "6ad00cee-97c6-40b0-df3f-b738ebcbf173"
      },
      "execution_count": null,
      "outputs": [
        {
          "output_type": "stream",
          "name": "stdout",
          "text": [
            "Epoch 1/40\n",
            "112/113 [============================>.] - ETA: 0s - loss: 0.6396 - accuracy: 0.6710"
          ]
        },
        {
          "output_type": "stream",
          "name": "stderr",
          "text": [
            "WARNING:absl:Found untraced functions such as _jit_compiled_convolution_op, _jit_compiled_convolution_op, _jit_compiled_convolution_op, _jit_compiled_convolution_op, _jit_compiled_convolution_op while saving (showing 5 of 94). These functions will not be directly callable after loading.\n"
          ]
        },
        {
          "output_type": "stream",
          "name": "stdout",
          "text": [
            "\b\b\b\b\b\b\b\b\b\b\b\b\b\b\b\b\b\b\b\b\b\b\b\b\b\b\b\b\b\b\b\b\b\b\b\b\b\b\b\b\b\b\b\b\b\b\b\b\b\b\b\b\b\b\b\b\b\b\b\b\b\b\b\b\b\b\b\b\b\b\b\b\b\b\b\b\b\b\b\b\b\b\b\b\r113/113 [==============================] - 63s 499ms/step - loss: 0.6392 - accuracy: 0.6718 - val_loss: 0.8424 - val_accuracy: 0.4803 - lr: 0.0010\n",
            "Epoch 2/40\n",
            "113/113 [==============================] - ETA: 0s - loss: 0.6041 - accuracy: 0.7412"
          ]
        },
        {
          "output_type": "stream",
          "name": "stderr",
          "text": [
            "WARNING:absl:Found untraced functions such as _jit_compiled_convolution_op, _jit_compiled_convolution_op, _jit_compiled_convolution_op, _jit_compiled_convolution_op, _jit_compiled_convolution_op while saving (showing 5 of 94). These functions will not be directly callable after loading.\n"
          ]
        },
        {
          "output_type": "stream",
          "name": "stdout",
          "text": [
            "\b\b\b\b\b\b\b\b\b\b\b\b\b\b\b\b\b\b\b\b\b\b\b\b\b\b\b\b\b\b\b\b\b\b\b\b\b\b\b\b\b\b\b\b\b\b\b\b\b\b\b\b\b\b\b\b\b\b\b\b\b\b\b\b\b\b\b\b\b\b\b\b\b\b\b\b\b\b\b\b\b\b\b\b\r113/113 [==============================] - 53s 475ms/step - loss: 0.6041 - accuracy: 0.7412 - val_loss: 0.8017 - val_accuracy: 0.4886 - lr: 0.0010\n",
            "Epoch 3/40\n",
            "112/113 [============================>.] - ETA: 0s - loss: 0.5852 - accuracy: 0.7626"
          ]
        },
        {
          "output_type": "stream",
          "name": "stderr",
          "text": [
            "WARNING:absl:Found untraced functions such as _jit_compiled_convolution_op, _jit_compiled_convolution_op, _jit_compiled_convolution_op, _jit_compiled_convolution_op, _jit_compiled_convolution_op while saving (showing 5 of 94). These functions will not be directly callable after loading.\n"
          ]
        },
        {
          "output_type": "stream",
          "name": "stdout",
          "text": [
            "\b\b\b\b\b\b\b\b\b\b\b\b\b\b\b\b\b\b\b\b\b\b\b\b\b\b\b\b\b\b\b\b\b\b\b\b\b\b\b\b\b\b\b\b\b\b\b\b\b\b\b\b\b\b\b\b\b\b\b\b\b\b\b\b\b\b\b\b\b\b\b\b\b\b\b\b\b\b\b\b\b\b\b\b\r113/113 [==============================] - 54s 480ms/step - loss: 0.5848 - accuracy: 0.7634 - val_loss: 0.5376 - val_accuracy: 0.8386 - lr: 0.0010\n",
            "Epoch 4/40\n",
            "113/113 [==============================] - ETA: 0s - loss: 0.5390 - accuracy: 0.8309"
          ]
        },
        {
          "output_type": "stream",
          "name": "stderr",
          "text": [
            "WARNING:absl:Found untraced functions such as _jit_compiled_convolution_op, _jit_compiled_convolution_op, _jit_compiled_convolution_op, _jit_compiled_convolution_op, _jit_compiled_convolution_op while saving (showing 5 of 94). These functions will not be directly callable after loading.\n"
          ]
        },
        {
          "output_type": "stream",
          "name": "stdout",
          "text": [
            "\b\b\b\b\b\b\b\b\b\b\b\b\b\b\b\b\b\b\b\b\b\b\b\b\b\b\b\b\b\b\b\b\b\b\b\b\b\b\b\b\b\b\b\b\b\b\b\b\b\b\b\b\b\b\b\b\b\b\b\b\b\b\b\b\b\b\b\b\b\b\b\b\b\b\b\b\b\b\b\b\b\b\b\b\r113/113 [==============================] - 54s 482ms/step - loss: 0.5390 - accuracy: 0.8309 - val_loss: 0.5309 - val_accuracy: 0.8348 - lr: 0.0010\n",
            "Epoch 5/40\n",
            "112/113 [============================>.] - ETA: 0s - loss: 0.5125 - accuracy: 0.8527"
          ]
        },
        {
          "output_type": "stream",
          "name": "stderr",
          "text": [
            "WARNING:absl:Found untraced functions such as _jit_compiled_convolution_op, _jit_compiled_convolution_op, _jit_compiled_convolution_op, _jit_compiled_convolution_op, _jit_compiled_convolution_op while saving (showing 5 of 94). These functions will not be directly callable after loading.\n"
          ]
        },
        {
          "output_type": "stream",
          "name": "stdout",
          "text": [
            "\b\b\b\b\b\b\b\b\b\b\b\b\b\b\b\b\b\b\b\b\b\b\b\b\b\b\b\b\b\b\b\b\b\b\b\b\b\b\b\b\b\b\b\b\b\b\b\b\b\b\b\b\b\b\b\b\b\b\b\b\b\b\b\b\b\b\b\b\b\b\b\b\b\b\b\b\b\b\b\b\b\b\b\b\r113/113 [==============================] - 54s 483ms/step - loss: 0.5122 - accuracy: 0.8534 - val_loss: 0.4937 - val_accuracy: 0.8674 - lr: 0.0010\n",
            "Epoch 6/40\n",
            "113/113 [==============================] - ETA: 0s - loss: 0.4824 - accuracy: 0.8764"
          ]
        },
        {
          "output_type": "stream",
          "name": "stderr",
          "text": [
            "WARNING:absl:Found untraced functions such as _jit_compiled_convolution_op, _jit_compiled_convolution_op, _jit_compiled_convolution_op, _jit_compiled_convolution_op, _jit_compiled_convolution_op while saving (showing 5 of 94). These functions will not be directly callable after loading.\n"
          ]
        },
        {
          "output_type": "stream",
          "name": "stdout",
          "text": [
            "\b\b\b\b\b\b\b\b\b\b\b\b\b\b\b\b\b\b\b\b\b\b\b\b\b\b\b\b\b\b\b\b\b\b\b\b\b\b\b\b\b\b\b\b\b\b\b\b\b\b\b\b\b\b\b\b\b\b\b\b\b\b\b\b\b\b\b\b\b\b\b\b\b\b\b\b\b\b\b\b\b\b\b\b\r113/113 [==============================] - 54s 484ms/step - loss: 0.4824 - accuracy: 0.8764 - val_loss: 0.4652 - val_accuracy: 0.8909 - lr: 0.0010\n",
            "Epoch 7/40\n",
            "113/113 [==============================] - ETA: 0s - loss: 0.4656 - accuracy: 0.8845"
          ]
        },
        {
          "output_type": "stream",
          "name": "stderr",
          "text": [
            "WARNING:absl:Found untraced functions such as _jit_compiled_convolution_op, _jit_compiled_convolution_op, _jit_compiled_convolution_op, _jit_compiled_convolution_op, _jit_compiled_convolution_op while saving (showing 5 of 94). These functions will not be directly callable after loading.\n"
          ]
        },
        {
          "output_type": "stream",
          "name": "stdout",
          "text": [
            "\b\b\b\b\b\b\b\b\b\b\b\b\b\b\b\b\b\b\b\b\b\b\b\b\b\b\b\b\b\b\b\b\b\b\b\b\b\b\b\b\b\b\b\b\b\b\b\b\b\b\b\b\b\b\b\b\b\b\b\b\b\b\b\b\b\b\b\b\b\b\b\b\b\b\b\b\b\b\b\b\b\b\b\b\r113/113 [==============================] - 54s 480ms/step - loss: 0.4656 - accuracy: 0.8845 - val_loss: 0.4476 - val_accuracy: 0.8909 - lr: 0.0010\n",
            "Epoch 8/40\n",
            "112/113 [============================>.] - ETA: 0s - loss: 0.4637 - accuracy: 0.8730"
          ]
        },
        {
          "output_type": "stream",
          "name": "stderr",
          "text": [
            "WARNING:absl:Found untraced functions such as _jit_compiled_convolution_op, _jit_compiled_convolution_op, _jit_compiled_convolution_op, _jit_compiled_convolution_op, _jit_compiled_convolution_op while saving (showing 5 of 94). These functions will not be directly callable after loading.\n"
          ]
        },
        {
          "output_type": "stream",
          "name": "stdout",
          "text": [
            "\b\b\b\b\b\b\b\b\b\b\b\b\b\b\b\b\b\b\b\b\b\b\b\b\b\b\b\b\b\b\b\b\b\b\b\b\b\b\b\b\b\b\b\b\b\b\b\b\b\b\b\b\b\b\b\b\b\b\b\b\b\b\b\b\b\b\b\b\b\b\b\b\b\b\b\b\b\b\b\b\b\b\b\b\r113/113 [==============================] - 55s 488ms/step - loss: 0.4632 - accuracy: 0.8736 - val_loss: 0.4474 - val_accuracy: 0.8886 - lr: 0.0010\n",
            "Epoch 9/40\n",
            "113/113 [==============================] - 7s 64ms/step - loss: 0.4466 - accuracy: 0.8817 - val_loss: 0.6763 - val_accuracy: 0.6742 - lr: 0.0010\n",
            "Epoch 10/40\n",
            "112/113 [============================>.] - ETA: 0s - loss: 0.4145 - accuracy: 0.9046"
          ]
        },
        {
          "output_type": "stream",
          "name": "stderr",
          "text": [
            "WARNING:absl:Found untraced functions such as _jit_compiled_convolution_op, _jit_compiled_convolution_op, _jit_compiled_convolution_op, _jit_compiled_convolution_op, _jit_compiled_convolution_op while saving (showing 5 of 94). These functions will not be directly callable after loading.\n"
          ]
        },
        {
          "output_type": "stream",
          "name": "stdout",
          "text": [
            "\b\b\b\b\b\b\b\b\b\b\b\b\b\b\b\b\b\b\b\b\b\b\b\b\b\b\b\b\b\b\b\b\b\b\b\b\b\b\b\b\b\b\b\b\b\b\b\b\b\b\b\b\b\b\b\b\b\b\b\b\b\b\b\b\b\b\b\b\b\b\b\b\b\b\b\b\b\b\b\b\b\b\b\b\r113/113 [==============================] - 54s 484ms/step - loss: 0.4142 - accuracy: 0.9050 - val_loss: 0.4469 - val_accuracy: 0.8705 - lr: 0.0010\n",
            "Epoch 11/40\n",
            "112/113 [============================>.] - ETA: 0s - loss: 0.4043 - accuracy: 0.9062"
          ]
        },
        {
          "output_type": "stream",
          "name": "stderr",
          "text": [
            "WARNING:absl:Found untraced functions such as _jit_compiled_convolution_op, _jit_compiled_convolution_op, _jit_compiled_convolution_op, _jit_compiled_convolution_op, _jit_compiled_convolution_op while saving (showing 5 of 94). These functions will not be directly callable after loading.\n"
          ]
        },
        {
          "output_type": "stream",
          "name": "stdout",
          "text": [
            "\b\b\b\b\b\b\b\b\b\b\b\b\b\b\b\b\b\b\b\b\b\b\b\b\b\b\b\b\b\b\b\b\b\b\b\b\b\b\b\b\b\b\b\b\b\b\b\b\b\b\b\b\b\b\b\b\b\b\b\b\b\b\b\b\b\b\b\b\b\b\b\b\b\b\b\b\b\b\b\b\b\b\b\b\r113/113 [==============================] - 54s 482ms/step - loss: 0.4039 - accuracy: 0.9067 - val_loss: 0.4364 - val_accuracy: 0.8644 - lr: 0.0010\n",
            "Epoch 12/40\n",
            "112/113 [============================>.] - ETA: 0s - loss: 0.4272 - accuracy: 0.8761"
          ]
        },
        {
          "output_type": "stream",
          "name": "stderr",
          "text": [
            "WARNING:absl:Found untraced functions such as _jit_compiled_convolution_op, _jit_compiled_convolution_op, _jit_compiled_convolution_op, _jit_compiled_convolution_op, _jit_compiled_convolution_op while saving (showing 5 of 94). These functions will not be directly callable after loading.\n"
          ]
        },
        {
          "output_type": "stream",
          "name": "stdout",
          "text": [
            "\b\b\b\b\b\b\b\b\b\b\b\b\b\b\b\b\b\b\b\b\b\b\b\b\b\b\b\b\b\b\b\b\b\b\b\b\b\b\b\b\b\b\b\b\b\b\b\b\b\b\b\b\b\b\b\b\b\b\b\b\b\b\b\b\b\b\b\b\b\b\b\b\b\b\b\b\b\b\b\b\b\b\b\b\r113/113 [==============================] - 55s 491ms/step - loss: 0.4267 - accuracy: 0.8767 - val_loss: 0.4037 - val_accuracy: 0.8894 - lr: 0.0010\n",
            "Epoch 13/40\n",
            "113/113 [==============================] - 7s 66ms/step - loss: 0.4375 - accuracy: 0.8625 - val_loss: 0.9035 - val_accuracy: 0.5159 - lr: 0.0010\n",
            "Epoch 14/40\n",
            "113/113 [==============================] - 8s 68ms/step - loss: 0.4514 - accuracy: 0.8467 - val_loss: 0.5725 - val_accuracy: 0.7470 - lr: 0.0010\n",
            "Epoch 15/40\n",
            "113/113 [==============================] - 7s 63ms/step - loss: 0.4299 - accuracy: 0.8667 - val_loss: 0.5882 - val_accuracy: 0.7447 - lr: 0.0010\n",
            "Epoch 16/40\n",
            "112/113 [============================>.] - ETA: 0s - loss: 0.3882 - accuracy: 0.8954"
          ]
        },
        {
          "output_type": "stream",
          "name": "stderr",
          "text": [
            "WARNING:absl:Found untraced functions such as _jit_compiled_convolution_op, _jit_compiled_convolution_op, _jit_compiled_convolution_op, _jit_compiled_convolution_op, _jit_compiled_convolution_op while saving (showing 5 of 94). These functions will not be directly callable after loading.\n"
          ]
        },
        {
          "output_type": "stream",
          "name": "stdout",
          "text": [
            "\b\b\b\b\b\b\b\b\b\b\b\b\b\b\b\b\b\b\b\b\b\b\b\b\b\b\b\b\b\b\b\b\b\b\b\b\b\b\b\b\b\b\b\b\b\b\b\b\b\b\b\b\b\b\b\b\b\b\b\b\b\b\b\b\b\b\b\b\b\b\b\b\b\b\b\b\b\b\b\b\b\b\b\b\r113/113 [==============================] - 54s 485ms/step - loss: 0.3876 - accuracy: 0.8959 - val_loss: 0.3816 - val_accuracy: 0.8992 - lr: 0.0010\n",
            "Epoch 17/40\n",
            "113/113 [==============================] - 7s 65ms/step - loss: 0.3487 - accuracy: 0.9211 - val_loss: 0.6777 - val_accuracy: 0.6833 - lr: 0.0010\n",
            "Epoch 18/40\n",
            "113/113 [==============================] - 8s 68ms/step - loss: 0.3277 - accuracy: 0.9353 - val_loss: 0.5629 - val_accuracy: 0.7652 - lr: 0.0010\n",
            "Epoch 19/40\n",
            "113/113 [==============================] - 7s 63ms/step - loss: 0.3183 - accuracy: 0.9350 - val_loss: 0.3877 - val_accuracy: 0.8841 - lr: 0.0010\n",
            "Epoch 20/40\n",
            "113/113 [==============================] - 7s 63ms/step - loss: 0.3048 - accuracy: 0.9389 - val_loss: 0.4601 - val_accuracy: 0.8356 - lr: 0.0010\n",
            "Epoch 21/40\n",
            "112/113 [============================>.] - ETA: 0s - loss: 0.2912 - accuracy: 0.9467"
          ]
        },
        {
          "output_type": "stream",
          "name": "stderr",
          "text": [
            "WARNING:absl:Found untraced functions such as _jit_compiled_convolution_op, _jit_compiled_convolution_op, _jit_compiled_convolution_op, _jit_compiled_convolution_op, _jit_compiled_convolution_op while saving (showing 5 of 94). These functions will not be directly callable after loading.\n"
          ]
        },
        {
          "output_type": "stream",
          "name": "stdout",
          "text": [
            "\b\b\b\b\b\b\b\b\b\b\b\b\b\b\b\b\b\b\b\b\b\b\b\b\b\b\b\b\b\b\b\b\b\b\b\b\b\b\b\b\b\b\b\b\b\b\b\b\b\b\b\b\b\b\b\b\b\b\b\b\b\b\b\b\b\b\b\b\b\b\b\b\b\b\b\b\b\b\b\b\b\b\b\b\r113/113 [==============================] - 54s 485ms/step - loss: 0.2909 - accuracy: 0.9470 - val_loss: 0.3328 - val_accuracy: 0.9189 - lr: 0.0010\n",
            "Epoch 22/40\n",
            "113/113 [==============================] - ETA: 0s - loss: 0.2828 - accuracy: 0.9450"
          ]
        },
        {
          "output_type": "stream",
          "name": "stderr",
          "text": [
            "WARNING:absl:Found untraced functions such as _jit_compiled_convolution_op, _jit_compiled_convolution_op, _jit_compiled_convolution_op, _jit_compiled_convolution_op, _jit_compiled_convolution_op while saving (showing 5 of 94). These functions will not be directly callable after loading.\n"
          ]
        },
        {
          "output_type": "stream",
          "name": "stdout",
          "text": [
            "\b\b\b\b\b\b\b\b\b\b\b\b\b\b\b\b\b\b\b\b\b\b\b\b\b\b\b\b\b\b\b\b\b\b\b\b\b\b\b\b\b\b\b\b\b\b\b\b\b\b\b\b\b\b\b\b\b\b\b\b\b\b\b\b\b\b\b\b\b\b\b\b\b\b\b\b\b\b\b\b\b\b\b\b\r113/113 [==============================] - 54s 485ms/step - loss: 0.2828 - accuracy: 0.9450 - val_loss: 0.3145 - val_accuracy: 0.9182 - lr: 0.0010\n",
            "Epoch 23/40\n",
            "113/113 [==============================] - ETA: 0s - loss: 0.2725 - accuracy: 0.9483"
          ]
        },
        {
          "output_type": "stream",
          "name": "stderr",
          "text": [
            "WARNING:absl:Found untraced functions such as _jit_compiled_convolution_op, _jit_compiled_convolution_op, _jit_compiled_convolution_op, _jit_compiled_convolution_op, _jit_compiled_convolution_op while saving (showing 5 of 94). These functions will not be directly callable after loading.\n"
          ]
        },
        {
          "output_type": "stream",
          "name": "stdout",
          "text": [
            "\b\b\b\b\b\b\b\b\b\b\b\b\b\b\b\b\b\b\b\b\b\b\b\b\b\b\b\b\b\b\b\b\b\b\b\b\b\b\b\b\b\b\b\b\b\b\b\b\b\b\b\b\b\b\b\b\b\b\b\b\b\b\b\b\b\b\b\b\b\b\b\b\b\b\b\b\b\b\b\b\b\b\b\b\r113/113 [==============================] - 55s 487ms/step - loss: 0.2725 - accuracy: 0.9483 - val_loss: 0.3139 - val_accuracy: 0.9212 - lr: 0.0010\n",
            "Epoch 24/40\n",
            "113/113 [==============================] - 7s 64ms/step - loss: 0.2651 - accuracy: 0.9522 - val_loss: 0.6927 - val_accuracy: 0.6386 - lr: 0.0010\n",
            "Epoch 25/40\n",
            "113/113 [==============================] - 8s 68ms/step - loss: 0.2755 - accuracy: 0.9411 - val_loss: 0.3325 - val_accuracy: 0.8932 - lr: 0.0010\n",
            "Epoch 26/40\n",
            "113/113 [==============================] - 7s 65ms/step - loss: 0.2448 - accuracy: 0.9570 - val_loss: 0.3155 - val_accuracy: 0.8992 - lr: 0.0010\n",
            "Epoch 27/40\n",
            "113/113 [==============================] - 7s 64ms/step - loss: 0.2400 - accuracy: 0.9570 - val_loss: 0.3320 - val_accuracy: 0.8909 - lr: 0.0010\n",
            "Epoch 28/40\n",
            "113/113 [==============================] - 7s 64ms/step - loss: 0.2423 - accuracy: 0.9536 - val_loss: 0.5503 - val_accuracy: 0.7886 - lr: 0.0010\n",
            "Epoch 29/40\n",
            "113/113 [==============================] - ETA: 0s - loss: 0.2331 - accuracy: 0.9531"
          ]
        },
        {
          "output_type": "stream",
          "name": "stderr",
          "text": [
            "WARNING:absl:Found untraced functions such as _jit_compiled_convolution_op, _jit_compiled_convolution_op, _jit_compiled_convolution_op, _jit_compiled_convolution_op, _jit_compiled_convolution_op while saving (showing 5 of 94). These functions will not be directly callable after loading.\n"
          ]
        },
        {
          "output_type": "stream",
          "name": "stdout",
          "text": [
            "\b\b\b\b\b\b\b\b\b\b\b\b\b\b\b\b\b\b\b\b\b\b\b\b\b\b\b\b\b\b\b\b\b\b\b\b\b\b\b\b\b\b\b\b\b\b\b\b\b\b\b\b\b\b\b\b\b\b\b\b\b\b\b\b\b\b\b\b\b\b\b\b\b\b\b\b\b\b\b\b\b\b\b\b\r113/113 [==============================] - 54s 484ms/step - loss: 0.2331 - accuracy: 0.9531 - val_loss: 0.2990 - val_accuracy: 0.9121 - lr: 0.0010\n",
            "Epoch 30/40\n",
            "113/113 [==============================] - 7s 64ms/step - loss: 0.2401 - accuracy: 0.9492 - val_loss: 0.9200 - val_accuracy: 0.5227 - lr: 0.0010\n",
            "Epoch 31/40\n",
            "113/113 [==============================] - 8s 67ms/step - loss: 0.2270 - accuracy: 0.9542 - val_loss: 0.3862 - val_accuracy: 0.8788 - lr: 0.0010\n",
            "Epoch 32/40\n",
            "113/113 [==============================] - ETA: 0s - loss: 0.2137 - accuracy: 0.9595"
          ]
        },
        {
          "output_type": "stream",
          "name": "stderr",
          "text": [
            "WARNING:absl:Found untraced functions such as _jit_compiled_convolution_op, _jit_compiled_convolution_op, _jit_compiled_convolution_op, _jit_compiled_convolution_op, _jit_compiled_convolution_op while saving (showing 5 of 94). These functions will not be directly callable after loading.\n"
          ]
        },
        {
          "output_type": "stream",
          "name": "stdout",
          "text": [
            "\b\b\b\b\b\b\b\b\b\b\b\b\b\b\b\b\b\b\b\b\b\b\b\b\b\b\b\b\b\b\b\b\b\b\b\b\b\b\b\b\b\b\b\b\b\b\b\b\b\b\b\b\b\b\b\b\b\b\b\b\b\b\b\b\b\b\b\b\b\b\b\b\b\b\b\b\b\b\b\b\b\b\b\b\r113/113 [==============================] - 55s 492ms/step - loss: 0.2137 - accuracy: 0.9595 - val_loss: 0.2779 - val_accuracy: 0.9205 - lr: 0.0010\n",
            "Epoch 33/40\n",
            "113/113 [==============================] - 8s 67ms/step - loss: 0.2297 - accuracy: 0.9514 - val_loss: 0.2794 - val_accuracy: 0.9174 - lr: 0.0010\n",
            "Epoch 34/40\n",
            "113/113 [==============================] - 7s 64ms/step - loss: 0.1976 - accuracy: 0.9658 - val_loss: 0.3339 - val_accuracy: 0.8886 - lr: 0.0010\n",
            "Epoch 35/40\n",
            "113/113 [==============================] - ETA: 0s - loss: 0.1854 - accuracy: 0.9700"
          ]
        },
        {
          "output_type": "stream",
          "name": "stderr",
          "text": [
            "WARNING:absl:Found untraced functions such as _jit_compiled_convolution_op, _jit_compiled_convolution_op, _jit_compiled_convolution_op, _jit_compiled_convolution_op, _jit_compiled_convolution_op while saving (showing 5 of 94). These functions will not be directly callable after loading.\n"
          ]
        },
        {
          "output_type": "stream",
          "name": "stdout",
          "text": [
            "\b\b\b\b\b\b\b\b\b\b\b\b\b\b\b\b\b\b\b\b\b\b\b\b\b\b\b\b\b\b\b\b\b\b\b\b\b\b\b\b\b\b\b\b\b\b\b\b\b\b\b\b\b\b\b\b\b\b\b\b\b\b\b\b\b\b\b\b\b\b\b\b\b\b\b\b\b\b\b\b\b\b\b\b\r113/113 [==============================] - 54s 478ms/step - loss: 0.1854 - accuracy: 0.9700 - val_loss: 0.2579 - val_accuracy: 0.9250 - lr: 0.0010\n",
            "Epoch 36/40\n",
            "113/113 [==============================] - 7s 64ms/step - loss: 0.1944 - accuracy: 0.9617 - val_loss: 0.4875 - val_accuracy: 0.8189 - lr: 0.0010\n",
            "Epoch 37/40\n",
            "113/113 [==============================] - 8s 69ms/step - loss: 0.1756 - accuracy: 0.9717 - val_loss: 0.2911 - val_accuracy: 0.9091 - lr: 0.0010\n",
            "Epoch 38/40\n",
            "113/113 [==============================] - ETA: 0s - loss: 0.1773 - accuracy: 0.9697"
          ]
        },
        {
          "output_type": "stream",
          "name": "stderr",
          "text": [
            "WARNING:absl:Found untraced functions such as _jit_compiled_convolution_op, _jit_compiled_convolution_op, _jit_compiled_convolution_op, _jit_compiled_convolution_op, _jit_compiled_convolution_op while saving (showing 5 of 94). These functions will not be directly callable after loading.\n"
          ]
        },
        {
          "output_type": "stream",
          "name": "stdout",
          "text": [
            "\b\b\b\b\b\b\b\b\b\b\b\b\b\b\b\b\b\b\b\b\b\b\b\b\b\b\b\b\b\b\b\b\b\b\b\b\b\b\b\b\b\b\b\b\b\b\b\b\b\b\b\b\b\b\b\b\b\b\b\b\b\b\b\b\b\b\b\b\b\b\b\b\b\b\b\b\b\b\b\b\b\b\b\b\r113/113 [==============================] - 55s 487ms/step - loss: 0.1773 - accuracy: 0.9697 - val_loss: 0.2509 - val_accuracy: 0.9311 - lr: 0.0010\n",
            "Epoch 39/40\n",
            "113/113 [==============================] - 7s 65ms/step - loss: 0.1648 - accuracy: 0.9742 - val_loss: 0.2587 - val_accuracy: 0.9242 - lr: 0.0010\n",
            "Epoch 40/40\n",
            "113/113 [==============================] - 8s 67ms/step - loss: 0.1484 - accuracy: 0.9825 - val_loss: 0.2722 - val_accuracy: 0.9197 - lr: 0.0010\n"
          ]
        }
      ]
    },
    {
      "cell_type": "markdown",
      "source": [
        "# Markov Datasets approach with feature extraction from Resnet & Inception\n",
        "Firstly we'll fit models with frozen params on our datasets.\n",
        "Next we will unfreeze some layers, and retrain again, and compare results."
      ],
      "metadata": {
        "id": "4f3V_6VFDIGo"
      }
    },
    {
      "cell_type": "markdown",
      "source": [
        "### Markov Transititon Field approach\n",
        "\n",
        "> 1. We'll start with Resnet\n",
        "> 2. Inception v3 follows"
      ],
      "metadata": {
        "id": "A_EpIKDVEt4M"
      }
    },
    {
      "cell_type": "markdown",
      "source": [
        "#### Resnet 101"
      ],
      "metadata": {
        "id": "IkitnYNnIeTN"
      }
    },
    {
      "cell_type": "code",
      "source": [
        "resnet_101_frozen = tf.keras.applications.ResNet101(include_top=False, input_shape=INPUT_SHAPE)\n",
        "resnet_101_frozen.trainable = False\n",
        "resnet_frozen_markov = transfer_learning_model(resnet_101_frozen, \"resnet101_frozen_markov\")"
      ],
      "metadata": {
        "colab": {
          "base_uri": "https://localhost:8080/"
        },
        "id": "bxZM-TPjDMJt",
        "outputId": "2df3dda5-5bb7-4ec8-cb91-acfbbb8369ac"
      },
      "execution_count": null,
      "outputs": [
        {
          "output_type": "stream",
          "name": "stdout",
          "text": [
            "Model: \"resnet101_frozen_markov\"\n",
            "_________________________________________________________________\n",
            " Layer (type)                Output Shape              Param #   \n",
            "=================================================================\n",
            " input_8 (InputLayer)        [(None, 175, 175, 3)]     0         \n",
            "                                                                 \n",
            " resnet101 (Functional)      (None, 6, 6, 2048)        42658176  \n",
            "                                                                 \n",
            " flatten_4 (Flatten)         (None, 73728)             0         \n",
            "                                                                 \n",
            " dense_4 (Dense)             (None, 1)                 73729     \n",
            "                                                                 \n",
            "=================================================================\n",
            "Total params: 42,731,905\n",
            "Trainable params: 73,729\n",
            "Non-trainable params: 42,658,176\n",
            "_________________________________________________________________\n"
          ]
        }
      ]
    },
    {
      "cell_type": "code",
      "source": [
        "resnet_frozen_history_markov = resnet_frozen_markov.fit(train_ds_markov, \n",
        "                                                        validation_data=test_ds_markov, \n",
        "                                                        epochs=40, callbacks=callbacks(resnet_frozen_markov))"
      ],
      "metadata": {
        "colab": {
          "base_uri": "https://localhost:8080/"
        },
        "id": "unh3nCnMDzvu",
        "outputId": "f501e2d4-6a8e-4ddf-e131-1346ef1b63ff"
      },
      "execution_count": null,
      "outputs": [
        {
          "output_type": "stream",
          "name": "stdout",
          "text": [
            "Epoch 1/40\n",
            "113/113 [==============================] - ETA: 0s - loss: 1.1862 - accuracy: 0.5754"
          ]
        },
        {
          "output_type": "stream",
          "name": "stderr",
          "text": [
            "WARNING:absl:Found untraced functions such as _jit_compiled_convolution_op, _jit_compiled_convolution_op, _jit_compiled_convolution_op, _jit_compiled_convolution_op, _jit_compiled_convolution_op while saving (showing 5 of 104). These functions will not be directly callable after loading.\n"
          ]
        },
        {
          "output_type": "stream",
          "name": "stdout",
          "text": [
            "\b\b\b\b\b\b\b\b\b\b\b\b\b\b\b\b\b\b\b\b\b\b\b\b\b\b\b\b\b\b\b\b\b\b\b\b\b\b\b\b\b\b\b\b\b\b\b\b\b\b\b\b\b\b\b\b\b\b\b\b\b\b\b\b\b\b\b\b\b\b\b\b\b\b\b\b\b\b\b\b\b\b\b\b\r113/113 [==============================] - 57s 449ms/step - loss: 1.1862 - accuracy: 0.5754 - val_loss: 0.5993 - val_accuracy: 0.7068 - lr: 0.0010\n",
            "Epoch 2/40\n",
            "113/113 [==============================] - ETA: 0s - loss: 0.7601 - accuracy: 0.6482"
          ]
        },
        {
          "output_type": "stream",
          "name": "stderr",
          "text": [
            "WARNING:absl:Found untraced functions such as _jit_compiled_convolution_op, _jit_compiled_convolution_op, _jit_compiled_convolution_op, _jit_compiled_convolution_op, _jit_compiled_convolution_op while saving (showing 5 of 104). These functions will not be directly callable after loading.\n"
          ]
        },
        {
          "output_type": "stream",
          "name": "stdout",
          "text": [
            "\b\b\b\b\b\b\b\b\b\b\b\b\b\b\b\b\b\b\b\b\b\b\b\b\b\b\b\b\b\b\b\b\b\b\b\b\b\b\b\b\b\b\b\b\b\b\b\b\b\b\b\b\b\b\b\b\b\b\b\b\b\b\b\b\b\b\b\b\b\b\b\b\b\b\b\b\b\b\b\b\b\b\b\b\r113/113 [==============================] - 48s 426ms/step - loss: 0.7601 - accuracy: 0.6482 - val_loss: 0.5638 - val_accuracy: 0.7348 - lr: 0.0010\n",
            "Epoch 3/40\n",
            "113/113 [==============================] - 5s 40ms/step - loss: 0.8031 - accuracy: 0.6570 - val_loss: 0.6456 - val_accuracy: 0.7023 - lr: 0.0010\n",
            "Epoch 4/40\n",
            "113/113 [==============================] - ETA: 0s - loss: 0.8457 - accuracy: 0.6470"
          ]
        },
        {
          "output_type": "stream",
          "name": "stderr",
          "text": [
            "WARNING:absl:Found untraced functions such as _jit_compiled_convolution_op, _jit_compiled_convolution_op, _jit_compiled_convolution_op, _jit_compiled_convolution_op, _jit_compiled_convolution_op while saving (showing 5 of 104). These functions will not be directly callable after loading.\n"
          ]
        },
        {
          "output_type": "stream",
          "name": "stdout",
          "text": [
            "\b\b\b\b\b\b\b\b\b\b\b\b\b\b\b\b\b\b\b\b\b\b\b\b\b\b\b\b\b\b\b\b\b\b\b\b\b\b\b\b\b\b\b\b\b\b\b\b\b\b\b\b\b\b\b\b\b\b\b\b\b\b\b\b\b\b\b\b\b\b\b\b\b\b\b\b\b\b\b\b\b\b\b\b\r113/113 [==============================] - 48s 431ms/step - loss: 0.8457 - accuracy: 0.6470 - val_loss: 0.5632 - val_accuracy: 0.7492 - lr: 0.0010\n",
            "Epoch 5/40\n",
            "113/113 [==============================] - 5s 40ms/step - loss: 0.7097 - accuracy: 0.6912 - val_loss: 0.5740 - val_accuracy: 0.7098 - lr: 0.0010\n",
            "Epoch 6/40\n",
            "113/113 [==============================] - ETA: 0s - loss: 0.7247 - accuracy: 0.6873"
          ]
        },
        {
          "output_type": "stream",
          "name": "stderr",
          "text": [
            "WARNING:absl:Found untraced functions such as _jit_compiled_convolution_op, _jit_compiled_convolution_op, _jit_compiled_convolution_op, _jit_compiled_convolution_op, _jit_compiled_convolution_op while saving (showing 5 of 104). These functions will not be directly callable after loading.\n"
          ]
        },
        {
          "output_type": "stream",
          "name": "stdout",
          "text": [
            "\b\b\b\b\b\b\b\b\b\b\b\b\b\b\b\b\b\b\b\b\b\b\b\b\b\b\b\b\b\b\b\b\b\b\b\b\b\b\b\b\b\b\b\b\b\b\b\b\b\b\b\b\b\b\b\b\b\b\b\b\b\b\b\b\b\b\b\b\b\b\b\b\b\b\b\b\b\b\b\b\b\b\b\b\r113/113 [==============================] - 47s 423ms/step - loss: 0.7247 - accuracy: 0.6873 - val_loss: 0.5541 - val_accuracy: 0.7424 - lr: 0.0010\n",
            "Epoch 7/40\n",
            "113/113 [==============================] - ETA: 0s - loss: 0.6603 - accuracy: 0.7095"
          ]
        },
        {
          "output_type": "stream",
          "name": "stderr",
          "text": [
            "WARNING:absl:Found untraced functions such as _jit_compiled_convolution_op, _jit_compiled_convolution_op, _jit_compiled_convolution_op, _jit_compiled_convolution_op, _jit_compiled_convolution_op while saving (showing 5 of 104). These functions will not be directly callable after loading.\n"
          ]
        },
        {
          "output_type": "stream",
          "name": "stdout",
          "text": [
            "\b\b\b\b\b\b\b\b\b\b\b\b\b\b\b\b\b\b\b\b\b\b\b\b\b\b\b\b\b\b\b\b\b\b\b\b\b\b\b\b\b\b\b\b\b\b\b\b\b\b\b\b\b\b\b\b\b\b\b\b\b\b\b\b\b\b\b\b\b\b\b\b\b\b\b\b\b\b\b\b\b\b\b\b\r113/113 [==============================] - 48s 429ms/step - loss: 0.6603 - accuracy: 0.7095 - val_loss: 0.5520 - val_accuracy: 0.7333 - lr: 0.0010\n",
            "Epoch 8/40\n",
            "113/113 [==============================] - 5s 40ms/step - loss: 0.6733 - accuracy: 0.7117 - val_loss: 0.5534 - val_accuracy: 0.7356 - lr: 0.0010\n",
            "Epoch 9/40\n",
            "113/113 [==============================] - 5s 40ms/step - loss: 0.6679 - accuracy: 0.7148 - val_loss: 0.5536 - val_accuracy: 0.7364 - lr: 0.0010\n",
            "Epoch 10/40\n",
            "113/113 [==============================] - 5s 40ms/step - loss: 0.6684 - accuracy: 0.7151 - val_loss: 0.5603 - val_accuracy: 0.7318 - lr: 0.0010\n",
            "Epoch 11/40\n",
            "113/113 [==============================] - 4s 40ms/step - loss: 0.6986 - accuracy: 0.7056 - val_loss: 0.5658 - val_accuracy: 0.7394 - lr: 0.0010\n",
            "Epoch 12/40\n",
            "113/113 [==============================] - ETA: 0s - loss: 0.6217 - accuracy: 0.7329"
          ]
        },
        {
          "output_type": "stream",
          "name": "stderr",
          "text": [
            "WARNING:absl:Found untraced functions such as _jit_compiled_convolution_op, _jit_compiled_convolution_op, _jit_compiled_convolution_op, _jit_compiled_convolution_op, _jit_compiled_convolution_op while saving (showing 5 of 104). These functions will not be directly callable after loading.\n"
          ]
        },
        {
          "output_type": "stream",
          "name": "stdout",
          "text": [
            "\b\b\b\b\b\b\b\b\b\b\b\b\b\b\b\b\b\b\b\b\b\b\b\b\b\b\b\b\b\b\b\b\b\b\b\b\b\b\b\b\b\b\b\b\b\b\b\b\b\b\b\b\b\b\b\b\b\b\b\b\b\b\b\b\b\b\b\b\b\b\b\b\b\b\b\b\b\b\b\b\b\b\b\b\r113/113 [==============================] - 48s 428ms/step - loss: 0.6217 - accuracy: 0.7329 - val_loss: 0.5500 - val_accuracy: 0.7492 - lr: 0.0010\n",
            "Epoch 13/40\n",
            "113/113 [==============================] - ETA: 0s - loss: 0.6171 - accuracy: 0.7354"
          ]
        },
        {
          "output_type": "stream",
          "name": "stderr",
          "text": [
            "WARNING:absl:Found untraced functions such as _jit_compiled_convolution_op, _jit_compiled_convolution_op, _jit_compiled_convolution_op, _jit_compiled_convolution_op, _jit_compiled_convolution_op while saving (showing 5 of 104). These functions will not be directly callable after loading.\n"
          ]
        },
        {
          "output_type": "stream",
          "name": "stdout",
          "text": [
            "\b\b\b\b\b\b\b\b\b\b\b\b\b\b\b\b\b\b\b\b\b\b\b\b\b\b\b\b\b\b\b\b\b\b\b\b\b\b\b\b\b\b\b\b\b\b\b\b\b\b\b\b\b\b\b\b\b\b\b\b\b\b\b\b\b\b\b\b\b\b\b\b\b\b\b\b\b\b\b\b\b\b\b\b\r113/113 [==============================] - 48s 431ms/step - loss: 0.6171 - accuracy: 0.7354 - val_loss: 0.5448 - val_accuracy: 0.7598 - lr: 0.0010\n",
            "Epoch 14/40\n",
            "113/113 [==============================] - ETA: 0s - loss: 0.6000 - accuracy: 0.7367"
          ]
        },
        {
          "output_type": "stream",
          "name": "stderr",
          "text": [
            "WARNING:absl:Found untraced functions such as _jit_compiled_convolution_op, _jit_compiled_convolution_op, _jit_compiled_convolution_op, _jit_compiled_convolution_op, _jit_compiled_convolution_op while saving (showing 5 of 104). These functions will not be directly callable after loading.\n"
          ]
        },
        {
          "output_type": "stream",
          "name": "stdout",
          "text": [
            "\b\b\b\b\b\b\b\b\b\b\b\b\b\b\b\b\b\b\b\b\b\b\b\b\b\b\b\b\b\b\b\b\b\b\b\b\b\b\b\b\b\b\b\b\b\b\b\b\b\b\b\b\b\b\b\b\b\b\b\b\b\b\b\b\b\b\b\b\b\b\b\b\b\b\b\b\b\b\b\b\b\b\b\b\r113/113 [==============================] - 47s 423ms/step - loss: 0.6000 - accuracy: 0.7367 - val_loss: 0.5430 - val_accuracy: 0.7621 - lr: 0.0010\n",
            "Epoch 15/40\n",
            "113/113 [==============================] - ETA: 0s - loss: 0.5947 - accuracy: 0.7379"
          ]
        },
        {
          "output_type": "stream",
          "name": "stderr",
          "text": [
            "WARNING:absl:Found untraced functions such as _jit_compiled_convolution_op, _jit_compiled_convolution_op, _jit_compiled_convolution_op, _jit_compiled_convolution_op, _jit_compiled_convolution_op while saving (showing 5 of 104). These functions will not be directly callable after loading.\n"
          ]
        },
        {
          "output_type": "stream",
          "name": "stdout",
          "text": [
            "\b\b\b\b\b\b\b\b\b\b\b\b\b\b\b\b\b\b\b\b\b\b\b\b\b\b\b\b\b\b\b\b\b\b\b\b\b\b\b\b\b\b\b\b\b\b\b\b\b\b\b\b\b\b\b\b\b\b\b\b\b\b\b\b\b\b\b\b\b\b\b\b\b\b\b\b\b\b\b\b\b\b\b\b\r113/113 [==============================] - 48s 428ms/step - loss: 0.5947 - accuracy: 0.7379 - val_loss: 0.5428 - val_accuracy: 0.7598 - lr: 0.0010\n",
            "Epoch 16/40\n",
            "113/113 [==============================] - 5s 40ms/step - loss: 0.5910 - accuracy: 0.7426 - val_loss: 0.5433 - val_accuracy: 0.7568 - lr: 0.0010\n",
            "Epoch 17/40\n",
            "113/113 [==============================] - 5s 40ms/step - loss: 0.5870 - accuracy: 0.7437 - val_loss: 0.5440 - val_accuracy: 0.7568 - lr: 0.0010\n",
            "Epoch 18/40\n",
            "113/113 [==============================] - 5s 40ms/step - loss: 0.5829 - accuracy: 0.7442 - val_loss: 0.5448 - val_accuracy: 0.7561 - lr: 0.0010\n",
            "Epoch 19/40\n",
            "113/113 [==============================] - 4s 40ms/step - loss: 0.5789 - accuracy: 0.7478 - val_loss: 0.5456 - val_accuracy: 0.7561 - lr: 0.0010\n",
            "Epoch 20/40\n",
            "113/113 [==============================] - 4s 40ms/step - loss: 0.5750 - accuracy: 0.7481 - val_loss: 0.5465 - val_accuracy: 0.7538 - lr: 0.0010\n",
            "Epoch 21/40\n",
            "113/113 [==============================] - 4s 40ms/step - loss: 0.5712 - accuracy: 0.7467 - val_loss: 0.5481 - val_accuracy: 0.7515 - lr: 0.0010\n",
            "Epoch 22/40\n",
            "113/113 [==============================] - 4s 40ms/step - loss: 0.5684 - accuracy: 0.7473 - val_loss: 0.5516 - val_accuracy: 0.7485 - lr: 0.0010\n",
            "Epoch 23/40\n",
            "113/113 [==============================] - 5s 40ms/step - loss: 0.5696 - accuracy: 0.7503 - val_loss: 0.5617 - val_accuracy: 0.7485 - lr: 0.0010\n",
            "Epoch 24/40\n",
            "113/113 [==============================] - 4s 40ms/step - loss: 0.5886 - accuracy: 0.7487 - val_loss: 0.5716 - val_accuracy: 0.7432 - lr: 0.0010\n",
            "Epoch 25/40\n",
            "113/113 [==============================] - 4s 40ms/step - loss: 0.7436 - accuracy: 0.7076 - val_loss: 0.7472 - val_accuracy: 0.7091 - lr: 0.0010\n",
            "Epoch 26/40\n",
            "113/113 [==============================] - 5s 40ms/step - loss: 0.4489 - accuracy: 0.7987 - val_loss: 0.6520 - val_accuracy: 0.7144 - lr: 1.0000e-04\n",
            "Epoch 27/40\n",
            "113/113 [==============================] - 5s 40ms/step - loss: 0.4217 - accuracy: 0.8087 - val_loss: 0.6457 - val_accuracy: 0.7152 - lr: 1.0000e-04\n",
            "Epoch 28/40\n",
            "113/113 [==============================] - 4s 40ms/step - loss: 0.4143 - accuracy: 0.8126 - val_loss: 0.6350 - val_accuracy: 0.7167 - lr: 1.0000e-04\n",
            "Epoch 29/40\n",
            "113/113 [==============================] - 5s 40ms/step - loss: 0.4090 - accuracy: 0.8139 - val_loss: 0.6270 - val_accuracy: 0.7167 - lr: 1.0000e-04\n",
            "Epoch 30/40\n",
            "113/113 [==============================] - 5s 40ms/step - loss: 0.4053 - accuracy: 0.8164 - val_loss: 0.6251 - val_accuracy: 0.7159 - lr: 1.0000e-04\n",
            "Epoch 31/40\n",
            "113/113 [==============================] - 5s 40ms/step - loss: 0.4030 - accuracy: 0.8176 - val_loss: 0.6278 - val_accuracy: 0.7152 - lr: 1.0000e-04\n",
            "Epoch 32/40\n",
            "113/113 [==============================] - 5s 40ms/step - loss: 0.4015 - accuracy: 0.8198 - val_loss: 0.6310 - val_accuracy: 0.7106 - lr: 1.0000e-04\n",
            "Epoch 33/40\n",
            "113/113 [==============================] - 4s 40ms/step - loss: 0.4003 - accuracy: 0.8201 - val_loss: 0.6300 - val_accuracy: 0.7091 - lr: 1.0000e-04\n",
            "Epoch 34/40\n",
            "113/113 [==============================] - 5s 40ms/step - loss: 0.3991 - accuracy: 0.8220 - val_loss: 0.6221 - val_accuracy: 0.7098 - lr: 1.0000e-04\n",
            "Epoch 35/40\n",
            "113/113 [==============================] - 4s 40ms/step - loss: 0.3979 - accuracy: 0.8225 - val_loss: 0.6087 - val_accuracy: 0.7189 - lr: 1.0000e-04\n",
            "Epoch 36/40\n",
            "113/113 [==============================] - ETA: 0s - loss: 0.3862 - accuracy: 0.8250"
          ]
        },
        {
          "output_type": "stream",
          "name": "stderr",
          "text": [
            "WARNING:absl:Found untraced functions such as _jit_compiled_convolution_op, _jit_compiled_convolution_op, _jit_compiled_convolution_op, _jit_compiled_convolution_op, _jit_compiled_convolution_op while saving (showing 5 of 104). These functions will not be directly callable after loading.\n"
          ]
        },
        {
          "output_type": "stream",
          "name": "stdout",
          "text": [
            "\b\b\b\b\b\b\b\b\b\b\b\b\b\b\b\b\b\b\b\b\b\b\b\b\b\b\b\b\b\b\b\b\b\b\b\b\b\b\b\b\b\b\b\b\b\b\b\b\b\b\b\b\b\b\b\b\b\b\b\b\b\b\b\b\b\b\b\b\b\b\b\b\b\b\b\b\b\b\b\b\b\b\b\b\r113/113 [==============================] - 48s 424ms/step - loss: 0.3862 - accuracy: 0.8250 - val_loss: 0.5349 - val_accuracy: 0.7568 - lr: 1.0000e-05\n",
            "Epoch 37/40\n",
            "113/113 [==============================] - 5s 40ms/step - loss: 0.3841 - accuracy: 0.8264 - val_loss: 0.5349 - val_accuracy: 0.7568 - lr: 1.0000e-05\n",
            "Epoch 38/40\n",
            "113/113 [==============================] - 4s 40ms/step - loss: 0.3840 - accuracy: 0.8267 - val_loss: 0.5350 - val_accuracy: 0.7553 - lr: 1.0000e-05\n",
            "Epoch 39/40\n",
            "113/113 [==============================] - 5s 40ms/step - loss: 0.3839 - accuracy: 0.8275 - val_loss: 0.5352 - val_accuracy: 0.7553 - lr: 1.0000e-05\n",
            "Epoch 40/40\n",
            "113/113 [==============================] - 4s 40ms/step - loss: 0.3839 - accuracy: 0.8278 - val_loss: 0.5355 - val_accuracy: 0.7538 - lr: 1.0000e-05\n"
          ]
        }
      ]
    },
    {
      "cell_type": "markdown",
      "source": [
        "#### Inception v3"
      ],
      "metadata": {
        "id": "Sh6wCHrdIgSo"
      }
    },
    {
      "cell_type": "code",
      "source": [
        "inception_v3_frozen = tf.keras.applications.InceptionV3(include_top=False, input_shape=INPUT_SHAPE)\n",
        "inception_v3_frozen.trainable = False\n",
        "inception_v3_frozen_markov = transfer_learning_model(inception_v3_frozen, \"inception_v3_frozen_markov\")"
      ],
      "metadata": {
        "colab": {
          "base_uri": "https://localhost:8080/"
        },
        "id": "7yv9_DX4DfsV",
        "outputId": "ee83e6ff-2509-4bf9-d12b-d7c36f1b377e"
      },
      "execution_count": null,
      "outputs": [
        {
          "output_type": "stream",
          "name": "stdout",
          "text": [
            "Model: \"inception_v3_frozen_markov\"\n",
            "_________________________________________________________________\n",
            " Layer (type)                Output Shape              Param #   \n",
            "=================================================================\n",
            " input_10 (InputLayer)       [(None, 175, 175, 3)]     0         \n",
            "                                                                 \n",
            " inception_v3 (Functional)   (None, 4, 4, 2048)        21802784  \n",
            "                                                                 \n",
            " flatten_5 (Flatten)         (None, 32768)             0         \n",
            "                                                                 \n",
            " dense_5 (Dense)             (None, 1)                 32769     \n",
            "                                                                 \n",
            "=================================================================\n",
            "Total params: 21,835,553\n",
            "Trainable params: 32,769\n",
            "Non-trainable params: 21,802,784\n",
            "_________________________________________________________________\n"
          ]
        }
      ]
    },
    {
      "cell_type": "code",
      "source": [
        "inception_v3_frozen_history_markov = inception_v3_frozen_markov.fit(train_ds_markov, \n",
        "                                                        validation_data=test_ds_markov, \n",
        "                                                        epochs=40, callbacks=callbacks(inception_v3_frozen_markov))"
      ],
      "metadata": {
        "colab": {
          "base_uri": "https://localhost:8080/"
        },
        "id": "ks7Oa0XPHWjp",
        "outputId": "8ba46781-f88b-4269-8495-75f9e225bf02"
      },
      "execution_count": null,
      "outputs": [
        {
          "output_type": "stream",
          "name": "stdout",
          "text": [
            "Epoch 1/40\n",
            "112/113 [============================>.] - ETA: 0s - loss: 0.6676 - accuracy: 0.6783"
          ]
        },
        {
          "output_type": "stream",
          "name": "stderr",
          "text": [
            "WARNING:absl:Found untraced functions such as _jit_compiled_convolution_op, _jit_compiled_convolution_op, _jit_compiled_convolution_op, _jit_compiled_convolution_op, _jit_compiled_convolution_op while saving (showing 5 of 94). These functions will not be directly callable after loading.\n"
          ]
        },
        {
          "output_type": "stream",
          "name": "stdout",
          "text": [
            "\b\b\b\b\b\b\b\b\b\b\b\b\b\b\b\b\b\b\b\b\b\b\b\b\b\b\b\b\b\b\b\b\b\b\b\b\b\b\b\b\b\b\b\b\b\b\b\b\b\b\b\b\b\b\b\b\b\b\b\b\b\b\b\b\b\b\b\b\b\b\b\b\b\b\b\b\b\b\b\b\b\b\b\b\r113/113 [==============================] - 44s 357ms/step - loss: 0.6668 - accuracy: 0.6784 - val_loss: 0.5426 - val_accuracy: 0.7394 - lr: 0.0010\n",
            "Epoch 2/40\n",
            "113/113 [==============================] - 3s 27ms/step - loss: 0.4572 - accuracy: 0.7831 - val_loss: 0.5501 - val_accuracy: 0.7318 - lr: 0.0010\n",
            "Epoch 3/40\n",
            "113/113 [==============================] - 3s 28ms/step - loss: 0.3705 - accuracy: 0.8412 - val_loss: 0.5733 - val_accuracy: 0.7288 - lr: 0.0010\n",
            "Epoch 4/40\n",
            "113/113 [==============================] - 3s 28ms/step - loss: 0.3402 - accuracy: 0.8528 - val_loss: 0.5927 - val_accuracy: 0.7386 - lr: 0.0010\n",
            "Epoch 5/40\n",
            "113/113 [==============================] - 3s 29ms/step - loss: 0.3597 - accuracy: 0.8495 - val_loss: 0.7799 - val_accuracy: 0.7091 - lr: 0.0010\n",
            "Epoch 6/40\n",
            "113/113 [==============================] - 3s 28ms/step - loss: 0.3718 - accuracy: 0.8550 - val_loss: 0.6702 - val_accuracy: 0.7417 - lr: 0.0010\n",
            "Epoch 7/40\n",
            "113/113 [==============================] - 3s 28ms/step - loss: 0.3304 - accuracy: 0.8611 - val_loss: 0.8505 - val_accuracy: 0.7235 - lr: 0.0010\n",
            "Epoch 8/40\n",
            "113/113 [==============================] - 3s 28ms/step - loss: 0.2553 - accuracy: 0.8828 - val_loss: 1.2376 - val_accuracy: 0.6765 - lr: 0.0010\n",
            "Epoch 9/40\n",
            "113/113 [==============================] - 3s 28ms/step - loss: 0.2028 - accuracy: 0.9095 - val_loss: 1.1107 - val_accuracy: 0.6924 - lr: 0.0010\n",
            "Epoch 10/40\n",
            "113/113 [==============================] - 3s 28ms/step - loss: 0.2182 - accuracy: 0.9072 - val_loss: 0.8156 - val_accuracy: 0.7409 - lr: 0.0010\n",
            "Epoch 11/40\n",
            "113/113 [==============================] - 3s 28ms/step - loss: 0.2426 - accuracy: 0.8920 - val_loss: 0.9586 - val_accuracy: 0.7356 - lr: 0.0010\n",
            "Epoch 12/40\n",
            "113/113 [==============================] - 3s 28ms/step - loss: 0.1380 - accuracy: 0.9495 - val_loss: 0.7951 - val_accuracy: 0.7364 - lr: 1.0000e-04\n",
            "Epoch 13/40\n",
            "113/113 [==============================] - 3s 28ms/step - loss: 0.0984 - accuracy: 0.9697 - val_loss: 0.7841 - val_accuracy: 0.7295 - lr: 1.0000e-04\n",
            "Epoch 14/40\n",
            "113/113 [==============================] - 3s 28ms/step - loss: 0.0915 - accuracy: 0.9728 - val_loss: 0.7795 - val_accuracy: 0.7288 - lr: 1.0000e-04\n",
            "Epoch 15/40\n",
            "113/113 [==============================] - 3s 28ms/step - loss: 0.0868 - accuracy: 0.9770 - val_loss: 0.7767 - val_accuracy: 0.7303 - lr: 1.0000e-04\n",
            "Epoch 16/40\n",
            "113/113 [==============================] - 3s 28ms/step - loss: 0.0830 - accuracy: 0.9792 - val_loss: 0.7745 - val_accuracy: 0.7311 - lr: 1.0000e-04\n",
            "Epoch 17/40\n",
            "113/113 [==============================] - 3s 28ms/step - loss: 0.0797 - accuracy: 0.9825 - val_loss: 0.7728 - val_accuracy: 0.7326 - lr: 1.0000e-04\n",
            "Epoch 18/40\n",
            "113/113 [==============================] - 3s 28ms/step - loss: 0.0768 - accuracy: 0.9847 - val_loss: 0.7715 - val_accuracy: 0.7326 - lr: 1.0000e-04\n",
            "Epoch 19/40\n",
            "113/113 [==============================] - 3s 28ms/step - loss: 0.0741 - accuracy: 0.9867 - val_loss: 0.7704 - val_accuracy: 0.7326 - lr: 1.0000e-04\n",
            "Epoch 20/40\n",
            "113/113 [==============================] - 3s 28ms/step - loss: 0.0717 - accuracy: 0.9897 - val_loss: 0.7696 - val_accuracy: 0.7333 - lr: 1.0000e-04\n",
            "Epoch 21/40\n",
            "113/113 [==============================] - 3s 28ms/step - loss: 0.0695 - accuracy: 0.9914 - val_loss: 0.7691 - val_accuracy: 0.7326 - lr: 1.0000e-04\n",
            "Epoch 22/40\n",
            "113/113 [==============================] - 3s 28ms/step - loss: 0.0646 - accuracy: 0.9939 - val_loss: 0.7551 - val_accuracy: 0.7379 - lr: 1.0000e-05\n",
            "Epoch 23/40\n",
            "113/113 [==============================] - 3s 28ms/step - loss: 0.0640 - accuracy: 0.9936 - val_loss: 0.7547 - val_accuracy: 0.7386 - lr: 1.0000e-05\n",
            "Epoch 24/40\n",
            "113/113 [==============================] - 3s 28ms/step - loss: 0.0638 - accuracy: 0.9939 - val_loss: 0.7547 - val_accuracy: 0.7379 - lr: 1.0000e-05\n",
            "Epoch 25/40\n",
            "113/113 [==============================] - 3s 28ms/step - loss: 0.0636 - accuracy: 0.9939 - val_loss: 0.7547 - val_accuracy: 0.7379 - lr: 1.0000e-05\n",
            "Epoch 26/40\n",
            "113/113 [==============================] - 3s 28ms/step - loss: 0.0635 - accuracy: 0.9942 - val_loss: 0.7547 - val_accuracy: 0.7379 - lr: 1.0000e-05\n",
            "Epoch 27/40\n",
            "113/113 [==============================] - 3s 28ms/step - loss: 0.0633 - accuracy: 0.9947 - val_loss: 0.7547 - val_accuracy: 0.7379 - lr: 1.0000e-05\n",
            "Epoch 28/40\n",
            "113/113 [==============================] - 3s 28ms/step - loss: 0.0631 - accuracy: 0.9947 - val_loss: 0.7547 - val_accuracy: 0.7379 - lr: 1.0000e-05\n",
            "Epoch 29/40\n",
            "113/113 [==============================] - 3s 28ms/step - loss: 0.0629 - accuracy: 0.9947 - val_loss: 0.7547 - val_accuracy: 0.7386 - lr: 1.0000e-05\n",
            "Epoch 30/40\n",
            "113/113 [==============================] - 3s 28ms/step - loss: 0.0627 - accuracy: 0.9947 - val_loss: 0.7547 - val_accuracy: 0.7386 - lr: 1.0000e-05\n",
            "Epoch 31/40\n",
            "113/113 [==============================] - 3s 28ms/step - loss: 0.0625 - accuracy: 0.9947 - val_loss: 0.7547 - val_accuracy: 0.7386 - lr: 1.0000e-05\n",
            "Epoch 32/40\n",
            "113/113 [==============================] - 3s 28ms/step - loss: 0.0612 - accuracy: 0.9956 - val_loss: 0.7547 - val_accuracy: 0.7386 - lr: 1.0000e-06\n",
            "Epoch 33/40\n",
            "113/113 [==============================] - 3s 28ms/step - loss: 0.0612 - accuracy: 0.9956 - val_loss: 0.7547 - val_accuracy: 0.7386 - lr: 1.0000e-06\n",
            "Epoch 34/40\n",
            "113/113 [==============================] - 3s 28ms/step - loss: 0.0611 - accuracy: 0.9956 - val_loss: 0.7547 - val_accuracy: 0.7386 - lr: 1.0000e-06\n",
            "Epoch 35/40\n",
            "113/113 [==============================] - 3s 28ms/step - loss: 0.0611 - accuracy: 0.9956 - val_loss: 0.7547 - val_accuracy: 0.7386 - lr: 1.0000e-06\n",
            "Epoch 36/40\n",
            "113/113 [==============================] - 3s 29ms/step - loss: 0.0611 - accuracy: 0.9956 - val_loss: 0.7547 - val_accuracy: 0.7386 - lr: 1.0000e-06\n",
            "Epoch 37/40\n",
            "113/113 [==============================] - 3s 29ms/step - loss: 0.0611 - accuracy: 0.9956 - val_loss: 0.7547 - val_accuracy: 0.7386 - lr: 1.0000e-06\n",
            "Epoch 38/40\n",
            "113/113 [==============================] - 3s 29ms/step - loss: 0.0611 - accuracy: 0.9956 - val_loss: 0.7547 - val_accuracy: 0.7386 - lr: 1.0000e-06\n",
            "Epoch 39/40\n",
            "113/113 [==============================] - 3s 29ms/step - loss: 0.0610 - accuracy: 0.9956 - val_loss: 0.7547 - val_accuracy: 0.7386 - lr: 1.0000e-06\n",
            "Epoch 40/40\n",
            "113/113 [==============================] - 3s 29ms/step - loss: 0.0610 - accuracy: 0.9956 - val_loss: 0.7547 - val_accuracy: 0.7386 - lr: 1.0000e-06\n"
          ]
        }
      ]
    },
    {
      "cell_type": "markdown",
      "source": [
        "### Unfreeze layers for Markov models"
      ],
      "metadata": {
        "id": "UaZHLkixJEZd"
      }
    },
    {
      "cell_type": "code",
      "source": [
        "resnet_101_frozen.trainable = True\n",
        "\n",
        "for layer in resnet_101_frozen.layers[:-40]:\n",
        "    layer.trainable = False"
      ],
      "metadata": {
        "id": "1M4FN_xqJBmy"
      },
      "execution_count": null,
      "outputs": []
    },
    {
      "cell_type": "code",
      "source": [
        "resnet_101_frozen.compile(loss=tf.keras.losses.BinaryCrossentropy(),\n",
        "                          optimizer=tf.keras.optimizers.Adam(),\n",
        "                          metrics=[\"accuracy\"])\n",
        "\n",
        "resnet_101_frozen.summary()"
      ],
      "metadata": {
        "colab": {
          "base_uri": "https://localhost:8080/"
        },
        "id": "4mBkElotKPcQ",
        "outputId": "49e3aaac-7331-4dd6-c8b6-eb576580219e"
      },
      "execution_count": null,
      "outputs": [
        {
          "output_type": "stream",
          "name": "stdout",
          "text": [
            "Model: \"resnet101\"\n",
            "__________________________________________________________________________________________________\n",
            " Layer (type)                   Output Shape         Param #     Connected to                     \n",
            "==================================================================================================\n",
            " input_7 (InputLayer)           [(None, 175, 175, 3  0           []                               \n",
            "                                )]                                                                \n",
            "                                                                                                  \n",
            " conv1_pad (ZeroPadding2D)      (None, 181, 181, 3)  0           ['input_7[0][0]']                \n",
            "                                                                                                  \n",
            " conv1_conv (Conv2D)            (None, 88, 88, 64)   9472        ['conv1_pad[0][0]']              \n",
            "                                                                                                  \n",
            " conv1_bn (BatchNormalization)  (None, 88, 88, 64)   256         ['conv1_conv[0][0]']             \n",
            "                                                                                                  \n",
            " conv1_relu (Activation)        (None, 88, 88, 64)   0           ['conv1_bn[0][0]']               \n",
            "                                                                                                  \n",
            " pool1_pad (ZeroPadding2D)      (None, 90, 90, 64)   0           ['conv1_relu[0][0]']             \n",
            "                                                                                                  \n",
            " pool1_pool (MaxPooling2D)      (None, 44, 44, 64)   0           ['pool1_pad[0][0]']              \n",
            "                                                                                                  \n",
            " conv2_block1_1_conv (Conv2D)   (None, 44, 44, 64)   4160        ['pool1_pool[0][0]']             \n",
            "                                                                                                  \n",
            " conv2_block1_1_bn (BatchNormal  (None, 44, 44, 64)  256         ['conv2_block1_1_conv[0][0]']    \n",
            " ization)                                                                                         \n",
            "                                                                                                  \n",
            " conv2_block1_1_relu (Activatio  (None, 44, 44, 64)  0           ['conv2_block1_1_bn[0][0]']      \n",
            " n)                                                                                               \n",
            "                                                                                                  \n",
            " conv2_block1_2_conv (Conv2D)   (None, 44, 44, 64)   36928       ['conv2_block1_1_relu[0][0]']    \n",
            "                                                                                                  \n",
            " conv2_block1_2_bn (BatchNormal  (None, 44, 44, 64)  256         ['conv2_block1_2_conv[0][0]']    \n",
            " ization)                                                                                         \n",
            "                                                                                                  \n",
            " conv2_block1_2_relu (Activatio  (None, 44, 44, 64)  0           ['conv2_block1_2_bn[0][0]']      \n",
            " n)                                                                                               \n",
            "                                                                                                  \n",
            " conv2_block1_0_conv (Conv2D)   (None, 44, 44, 256)  16640       ['pool1_pool[0][0]']             \n",
            "                                                                                                  \n",
            " conv2_block1_3_conv (Conv2D)   (None, 44, 44, 256)  16640       ['conv2_block1_2_relu[0][0]']    \n",
            "                                                                                                  \n",
            " conv2_block1_0_bn (BatchNormal  (None, 44, 44, 256)  1024       ['conv2_block1_0_conv[0][0]']    \n",
            " ization)                                                                                         \n",
            "                                                                                                  \n",
            " conv2_block1_3_bn (BatchNormal  (None, 44, 44, 256)  1024       ['conv2_block1_3_conv[0][0]']    \n",
            " ization)                                                                                         \n",
            "                                                                                                  \n",
            " conv2_block1_add (Add)         (None, 44, 44, 256)  0           ['conv2_block1_0_bn[0][0]',      \n",
            "                                                                  'conv2_block1_3_bn[0][0]']      \n",
            "                                                                                                  \n",
            " conv2_block1_out (Activation)  (None, 44, 44, 256)  0           ['conv2_block1_add[0][0]']       \n",
            "                                                                                                  \n",
            " conv2_block2_1_conv (Conv2D)   (None, 44, 44, 64)   16448       ['conv2_block1_out[0][0]']       \n",
            "                                                                                                  \n",
            " conv2_block2_1_bn (BatchNormal  (None, 44, 44, 64)  256         ['conv2_block2_1_conv[0][0]']    \n",
            " ization)                                                                                         \n",
            "                                                                                                  \n",
            " conv2_block2_1_relu (Activatio  (None, 44, 44, 64)  0           ['conv2_block2_1_bn[0][0]']      \n",
            " n)                                                                                               \n",
            "                                                                                                  \n",
            " conv2_block2_2_conv (Conv2D)   (None, 44, 44, 64)   36928       ['conv2_block2_1_relu[0][0]']    \n",
            "                                                                                                  \n",
            " conv2_block2_2_bn (BatchNormal  (None, 44, 44, 64)  256         ['conv2_block2_2_conv[0][0]']    \n",
            " ization)                                                                                         \n",
            "                                                                                                  \n",
            " conv2_block2_2_relu (Activatio  (None, 44, 44, 64)  0           ['conv2_block2_2_bn[0][0]']      \n",
            " n)                                                                                               \n",
            "                                                                                                  \n",
            " conv2_block2_3_conv (Conv2D)   (None, 44, 44, 256)  16640       ['conv2_block2_2_relu[0][0]']    \n",
            "                                                                                                  \n",
            " conv2_block2_3_bn (BatchNormal  (None, 44, 44, 256)  1024       ['conv2_block2_3_conv[0][0]']    \n",
            " ization)                                                                                         \n",
            "                                                                                                  \n",
            " conv2_block2_add (Add)         (None, 44, 44, 256)  0           ['conv2_block1_out[0][0]',       \n",
            "                                                                  'conv2_block2_3_bn[0][0]']      \n",
            "                                                                                                  \n",
            " conv2_block2_out (Activation)  (None, 44, 44, 256)  0           ['conv2_block2_add[0][0]']       \n",
            "                                                                                                  \n",
            " conv2_block3_1_conv (Conv2D)   (None, 44, 44, 64)   16448       ['conv2_block2_out[0][0]']       \n",
            "                                                                                                  \n",
            " conv2_block3_1_bn (BatchNormal  (None, 44, 44, 64)  256         ['conv2_block3_1_conv[0][0]']    \n",
            " ization)                                                                                         \n",
            "                                                                                                  \n",
            " conv2_block3_1_relu (Activatio  (None, 44, 44, 64)  0           ['conv2_block3_1_bn[0][0]']      \n",
            " n)                                                                                               \n",
            "                                                                                                  \n",
            " conv2_block3_2_conv (Conv2D)   (None, 44, 44, 64)   36928       ['conv2_block3_1_relu[0][0]']    \n",
            "                                                                                                  \n",
            " conv2_block3_2_bn (BatchNormal  (None, 44, 44, 64)  256         ['conv2_block3_2_conv[0][0]']    \n",
            " ization)                                                                                         \n",
            "                                                                                                  \n",
            " conv2_block3_2_relu (Activatio  (None, 44, 44, 64)  0           ['conv2_block3_2_bn[0][0]']      \n",
            " n)                                                                                               \n",
            "                                                                                                  \n",
            " conv2_block3_3_conv (Conv2D)   (None, 44, 44, 256)  16640       ['conv2_block3_2_relu[0][0]']    \n",
            "                                                                                                  \n",
            " conv2_block3_3_bn (BatchNormal  (None, 44, 44, 256)  1024       ['conv2_block3_3_conv[0][0]']    \n",
            " ization)                                                                                         \n",
            "                                                                                                  \n",
            " conv2_block3_add (Add)         (None, 44, 44, 256)  0           ['conv2_block2_out[0][0]',       \n",
            "                                                                  'conv2_block3_3_bn[0][0]']      \n",
            "                                                                                                  \n",
            " conv2_block3_out (Activation)  (None, 44, 44, 256)  0           ['conv2_block3_add[0][0]']       \n",
            "                                                                                                  \n",
            " conv3_block1_1_conv (Conv2D)   (None, 22, 22, 128)  32896       ['conv2_block3_out[0][0]']       \n",
            "                                                                                                  \n",
            " conv3_block1_1_bn (BatchNormal  (None, 22, 22, 128)  512        ['conv3_block1_1_conv[0][0]']    \n",
            " ization)                                                                                         \n",
            "                                                                                                  \n",
            " conv3_block1_1_relu (Activatio  (None, 22, 22, 128)  0          ['conv3_block1_1_bn[0][0]']      \n",
            " n)                                                                                               \n",
            "                                                                                                  \n",
            " conv3_block1_2_conv (Conv2D)   (None, 22, 22, 128)  147584      ['conv3_block1_1_relu[0][0]']    \n",
            "                                                                                                  \n",
            " conv3_block1_2_bn (BatchNormal  (None, 22, 22, 128)  512        ['conv3_block1_2_conv[0][0]']    \n",
            " ization)                                                                                         \n",
            "                                                                                                  \n",
            " conv3_block1_2_relu (Activatio  (None, 22, 22, 128)  0          ['conv3_block1_2_bn[0][0]']      \n",
            " n)                                                                                               \n",
            "                                                                                                  \n",
            " conv3_block1_0_conv (Conv2D)   (None, 22, 22, 512)  131584      ['conv2_block3_out[0][0]']       \n",
            "                                                                                                  \n",
            " conv3_block1_3_conv (Conv2D)   (None, 22, 22, 512)  66048       ['conv3_block1_2_relu[0][0]']    \n",
            "                                                                                                  \n",
            " conv3_block1_0_bn (BatchNormal  (None, 22, 22, 512)  2048       ['conv3_block1_0_conv[0][0]']    \n",
            " ization)                                                                                         \n",
            "                                                                                                  \n",
            " conv3_block1_3_bn (BatchNormal  (None, 22, 22, 512)  2048       ['conv3_block1_3_conv[0][0]']    \n",
            " ization)                                                                                         \n",
            "                                                                                                  \n",
            " conv3_block1_add (Add)         (None, 22, 22, 512)  0           ['conv3_block1_0_bn[0][0]',      \n",
            "                                                                  'conv3_block1_3_bn[0][0]']      \n",
            "                                                                                                  \n",
            " conv3_block1_out (Activation)  (None, 22, 22, 512)  0           ['conv3_block1_add[0][0]']       \n",
            "                                                                                                  \n",
            " conv3_block2_1_conv (Conv2D)   (None, 22, 22, 128)  65664       ['conv3_block1_out[0][0]']       \n",
            "                                                                                                  \n",
            " conv3_block2_1_bn (BatchNormal  (None, 22, 22, 128)  512        ['conv3_block2_1_conv[0][0]']    \n",
            " ization)                                                                                         \n",
            "                                                                                                  \n",
            " conv3_block2_1_relu (Activatio  (None, 22, 22, 128)  0          ['conv3_block2_1_bn[0][0]']      \n",
            " n)                                                                                               \n",
            "                                                                                                  \n",
            " conv3_block2_2_conv (Conv2D)   (None, 22, 22, 128)  147584      ['conv3_block2_1_relu[0][0]']    \n",
            "                                                                                                  \n",
            " conv3_block2_2_bn (BatchNormal  (None, 22, 22, 128)  512        ['conv3_block2_2_conv[0][0]']    \n",
            " ization)                                                                                         \n",
            "                                                                                                  \n",
            " conv3_block2_2_relu (Activatio  (None, 22, 22, 128)  0          ['conv3_block2_2_bn[0][0]']      \n",
            " n)                                                                                               \n",
            "                                                                                                  \n",
            " conv3_block2_3_conv (Conv2D)   (None, 22, 22, 512)  66048       ['conv3_block2_2_relu[0][0]']    \n",
            "                                                                                                  \n",
            " conv3_block2_3_bn (BatchNormal  (None, 22, 22, 512)  2048       ['conv3_block2_3_conv[0][0]']    \n",
            " ization)                                                                                         \n",
            "                                                                                                  \n",
            " conv3_block2_add (Add)         (None, 22, 22, 512)  0           ['conv3_block1_out[0][0]',       \n",
            "                                                                  'conv3_block2_3_bn[0][0]']      \n",
            "                                                                                                  \n",
            " conv3_block2_out (Activation)  (None, 22, 22, 512)  0           ['conv3_block2_add[0][0]']       \n",
            "                                                                                                  \n",
            " conv3_block3_1_conv (Conv2D)   (None, 22, 22, 128)  65664       ['conv3_block2_out[0][0]']       \n",
            "                                                                                                  \n",
            " conv3_block3_1_bn (BatchNormal  (None, 22, 22, 128)  512        ['conv3_block3_1_conv[0][0]']    \n",
            " ization)                                                                                         \n",
            "                                                                                                  \n",
            " conv3_block3_1_relu (Activatio  (None, 22, 22, 128)  0          ['conv3_block3_1_bn[0][0]']      \n",
            " n)                                                                                               \n",
            "                                                                                                  \n",
            " conv3_block3_2_conv (Conv2D)   (None, 22, 22, 128)  147584      ['conv3_block3_1_relu[0][0]']    \n",
            "                                                                                                  \n",
            " conv3_block3_2_bn (BatchNormal  (None, 22, 22, 128)  512        ['conv3_block3_2_conv[0][0]']    \n",
            " ization)                                                                                         \n",
            "                                                                                                  \n",
            " conv3_block3_2_relu (Activatio  (None, 22, 22, 128)  0          ['conv3_block3_2_bn[0][0]']      \n",
            " n)                                                                                               \n",
            "                                                                                                  \n",
            " conv3_block3_3_conv (Conv2D)   (None, 22, 22, 512)  66048       ['conv3_block3_2_relu[0][0]']    \n",
            "                                                                                                  \n",
            " conv3_block3_3_bn (BatchNormal  (None, 22, 22, 512)  2048       ['conv3_block3_3_conv[0][0]']    \n",
            " ization)                                                                                         \n",
            "                                                                                                  \n",
            " conv3_block3_add (Add)         (None, 22, 22, 512)  0           ['conv3_block2_out[0][0]',       \n",
            "                                                                  'conv3_block3_3_bn[0][0]']      \n",
            "                                                                                                  \n",
            " conv3_block3_out (Activation)  (None, 22, 22, 512)  0           ['conv3_block3_add[0][0]']       \n",
            "                                                                                                  \n",
            " conv3_block4_1_conv (Conv2D)   (None, 22, 22, 128)  65664       ['conv3_block3_out[0][0]']       \n",
            "                                                                                                  \n",
            " conv3_block4_1_bn (BatchNormal  (None, 22, 22, 128)  512        ['conv3_block4_1_conv[0][0]']    \n",
            " ization)                                                                                         \n",
            "                                                                                                  \n",
            " conv3_block4_1_relu (Activatio  (None, 22, 22, 128)  0          ['conv3_block4_1_bn[0][0]']      \n",
            " n)                                                                                               \n",
            "                                                                                                  \n",
            " conv3_block4_2_conv (Conv2D)   (None, 22, 22, 128)  147584      ['conv3_block4_1_relu[0][0]']    \n",
            "                                                                                                  \n",
            " conv3_block4_2_bn (BatchNormal  (None, 22, 22, 128)  512        ['conv3_block4_2_conv[0][0]']    \n",
            " ization)                                                                                         \n",
            "                                                                                                  \n",
            " conv3_block4_2_relu (Activatio  (None, 22, 22, 128)  0          ['conv3_block4_2_bn[0][0]']      \n",
            " n)                                                                                               \n",
            "                                                                                                  \n",
            " conv3_block4_3_conv (Conv2D)   (None, 22, 22, 512)  66048       ['conv3_block4_2_relu[0][0]']    \n",
            "                                                                                                  \n",
            " conv3_block4_3_bn (BatchNormal  (None, 22, 22, 512)  2048       ['conv3_block4_3_conv[0][0]']    \n",
            " ization)                                                                                         \n",
            "                                                                                                  \n",
            " conv3_block4_add (Add)         (None, 22, 22, 512)  0           ['conv3_block3_out[0][0]',       \n",
            "                                                                  'conv3_block4_3_bn[0][0]']      \n",
            "                                                                                                  \n",
            " conv3_block4_out (Activation)  (None, 22, 22, 512)  0           ['conv3_block4_add[0][0]']       \n",
            "                                                                                                  \n",
            " conv4_block1_1_conv (Conv2D)   (None, 11, 11, 256)  131328      ['conv3_block4_out[0][0]']       \n",
            "                                                                                                  \n",
            " conv4_block1_1_bn (BatchNormal  (None, 11, 11, 256)  1024       ['conv4_block1_1_conv[0][0]']    \n",
            " ization)                                                                                         \n",
            "                                                                                                  \n",
            " conv4_block1_1_relu (Activatio  (None, 11, 11, 256)  0          ['conv4_block1_1_bn[0][0]']      \n",
            " n)                                                                                               \n",
            "                                                                                                  \n",
            " conv4_block1_2_conv (Conv2D)   (None, 11, 11, 256)  590080      ['conv4_block1_1_relu[0][0]']    \n",
            "                                                                                                  \n",
            " conv4_block1_2_bn (BatchNormal  (None, 11, 11, 256)  1024       ['conv4_block1_2_conv[0][0]']    \n",
            " ization)                                                                                         \n",
            "                                                                                                  \n",
            " conv4_block1_2_relu (Activatio  (None, 11, 11, 256)  0          ['conv4_block1_2_bn[0][0]']      \n",
            " n)                                                                                               \n",
            "                                                                                                  \n",
            " conv4_block1_0_conv (Conv2D)   (None, 11, 11, 1024  525312      ['conv3_block4_out[0][0]']       \n",
            "                                )                                                                 \n",
            "                                                                                                  \n",
            " conv4_block1_3_conv (Conv2D)   (None, 11, 11, 1024  263168      ['conv4_block1_2_relu[0][0]']    \n",
            "                                )                                                                 \n",
            "                                                                                                  \n",
            " conv4_block1_0_bn (BatchNormal  (None, 11, 11, 1024  4096       ['conv4_block1_0_conv[0][0]']    \n",
            " ization)                       )                                                                 \n",
            "                                                                                                  \n",
            " conv4_block1_3_bn (BatchNormal  (None, 11, 11, 1024  4096       ['conv4_block1_3_conv[0][0]']    \n",
            " ization)                       )                                                                 \n",
            "                                                                                                  \n",
            " conv4_block1_add (Add)         (None, 11, 11, 1024  0           ['conv4_block1_0_bn[0][0]',      \n",
            "                                )                                 'conv4_block1_3_bn[0][0]']      \n",
            "                                                                                                  \n",
            " conv4_block1_out (Activation)  (None, 11, 11, 1024  0           ['conv4_block1_add[0][0]']       \n",
            "                                )                                                                 \n",
            "                                                                                                  \n",
            " conv4_block2_1_conv (Conv2D)   (None, 11, 11, 256)  262400      ['conv4_block1_out[0][0]']       \n",
            "                                                                                                  \n",
            " conv4_block2_1_bn (BatchNormal  (None, 11, 11, 256)  1024       ['conv4_block2_1_conv[0][0]']    \n",
            " ization)                                                                                         \n",
            "                                                                                                  \n",
            " conv4_block2_1_relu (Activatio  (None, 11, 11, 256)  0          ['conv4_block2_1_bn[0][0]']      \n",
            " n)                                                                                               \n",
            "                                                                                                  \n",
            " conv4_block2_2_conv (Conv2D)   (None, 11, 11, 256)  590080      ['conv4_block2_1_relu[0][0]']    \n",
            "                                                                                                  \n",
            " conv4_block2_2_bn (BatchNormal  (None, 11, 11, 256)  1024       ['conv4_block2_2_conv[0][0]']    \n",
            " ization)                                                                                         \n",
            "                                                                                                  \n",
            " conv4_block2_2_relu (Activatio  (None, 11, 11, 256)  0          ['conv4_block2_2_bn[0][0]']      \n",
            " n)                                                                                               \n",
            "                                                                                                  \n",
            " conv4_block2_3_conv (Conv2D)   (None, 11, 11, 1024  263168      ['conv4_block2_2_relu[0][0]']    \n",
            "                                )                                                                 \n",
            "                                                                                                  \n",
            " conv4_block2_3_bn (BatchNormal  (None, 11, 11, 1024  4096       ['conv4_block2_3_conv[0][0]']    \n",
            " ization)                       )                                                                 \n",
            "                                                                                                  \n",
            " conv4_block2_add (Add)         (None, 11, 11, 1024  0           ['conv4_block1_out[0][0]',       \n",
            "                                )                                 'conv4_block2_3_bn[0][0]']      \n",
            "                                                                                                  \n",
            " conv4_block2_out (Activation)  (None, 11, 11, 1024  0           ['conv4_block2_add[0][0]']       \n",
            "                                )                                                                 \n",
            "                                                                                                  \n",
            " conv4_block3_1_conv (Conv2D)   (None, 11, 11, 256)  262400      ['conv4_block2_out[0][0]']       \n",
            "                                                                                                  \n",
            " conv4_block3_1_bn (BatchNormal  (None, 11, 11, 256)  1024       ['conv4_block3_1_conv[0][0]']    \n",
            " ization)                                                                                         \n",
            "                                                                                                  \n",
            " conv4_block3_1_relu (Activatio  (None, 11, 11, 256)  0          ['conv4_block3_1_bn[0][0]']      \n",
            " n)                                                                                               \n",
            "                                                                                                  \n",
            " conv4_block3_2_conv (Conv2D)   (None, 11, 11, 256)  590080      ['conv4_block3_1_relu[0][0]']    \n",
            "                                                                                                  \n",
            " conv4_block3_2_bn (BatchNormal  (None, 11, 11, 256)  1024       ['conv4_block3_2_conv[0][0]']    \n",
            " ization)                                                                                         \n",
            "                                                                                                  \n",
            " conv4_block3_2_relu (Activatio  (None, 11, 11, 256)  0          ['conv4_block3_2_bn[0][0]']      \n",
            " n)                                                                                               \n",
            "                                                                                                  \n",
            " conv4_block3_3_conv (Conv2D)   (None, 11, 11, 1024  263168      ['conv4_block3_2_relu[0][0]']    \n",
            "                                )                                                                 \n",
            "                                                                                                  \n",
            " conv4_block3_3_bn (BatchNormal  (None, 11, 11, 1024  4096       ['conv4_block3_3_conv[0][0]']    \n",
            " ization)                       )                                                                 \n",
            "                                                                                                  \n",
            " conv4_block3_add (Add)         (None, 11, 11, 1024  0           ['conv4_block2_out[0][0]',       \n",
            "                                )                                 'conv4_block3_3_bn[0][0]']      \n",
            "                                                                                                  \n",
            " conv4_block3_out (Activation)  (None, 11, 11, 1024  0           ['conv4_block3_add[0][0]']       \n",
            "                                )                                                                 \n",
            "                                                                                                  \n",
            " conv4_block4_1_conv (Conv2D)   (None, 11, 11, 256)  262400      ['conv4_block3_out[0][0]']       \n",
            "                                                                                                  \n",
            " conv4_block4_1_bn (BatchNormal  (None, 11, 11, 256)  1024       ['conv4_block4_1_conv[0][0]']    \n",
            " ization)                                                                                         \n",
            "                                                                                                  \n",
            " conv4_block4_1_relu (Activatio  (None, 11, 11, 256)  0          ['conv4_block4_1_bn[0][0]']      \n",
            " n)                                                                                               \n",
            "                                                                                                  \n",
            " conv4_block4_2_conv (Conv2D)   (None, 11, 11, 256)  590080      ['conv4_block4_1_relu[0][0]']    \n",
            "                                                                                                  \n",
            " conv4_block4_2_bn (BatchNormal  (None, 11, 11, 256)  1024       ['conv4_block4_2_conv[0][0]']    \n",
            " ization)                                                                                         \n",
            "                                                                                                  \n",
            " conv4_block4_2_relu (Activatio  (None, 11, 11, 256)  0          ['conv4_block4_2_bn[0][0]']      \n",
            " n)                                                                                               \n",
            "                                                                                                  \n",
            " conv4_block4_3_conv (Conv2D)   (None, 11, 11, 1024  263168      ['conv4_block4_2_relu[0][0]']    \n",
            "                                )                                                                 \n",
            "                                                                                                  \n",
            " conv4_block4_3_bn (BatchNormal  (None, 11, 11, 1024  4096       ['conv4_block4_3_conv[0][0]']    \n",
            " ization)                       )                                                                 \n",
            "                                                                                                  \n",
            " conv4_block4_add (Add)         (None, 11, 11, 1024  0           ['conv4_block3_out[0][0]',       \n",
            "                                )                                 'conv4_block4_3_bn[0][0]']      \n",
            "                                                                                                  \n",
            " conv4_block4_out (Activation)  (None, 11, 11, 1024  0           ['conv4_block4_add[0][0]']       \n",
            "                                )                                                                 \n",
            "                                                                                                  \n",
            " conv4_block5_1_conv (Conv2D)   (None, 11, 11, 256)  262400      ['conv4_block4_out[0][0]']       \n",
            "                                                                                                  \n",
            " conv4_block5_1_bn (BatchNormal  (None, 11, 11, 256)  1024       ['conv4_block5_1_conv[0][0]']    \n",
            " ization)                                                                                         \n",
            "                                                                                                  \n",
            " conv4_block5_1_relu (Activatio  (None, 11, 11, 256)  0          ['conv4_block5_1_bn[0][0]']      \n",
            " n)                                                                                               \n",
            "                                                                                                  \n",
            " conv4_block5_2_conv (Conv2D)   (None, 11, 11, 256)  590080      ['conv4_block5_1_relu[0][0]']    \n",
            "                                                                                                  \n",
            " conv4_block5_2_bn (BatchNormal  (None, 11, 11, 256)  1024       ['conv4_block5_2_conv[0][0]']    \n",
            " ization)                                                                                         \n",
            "                                                                                                  \n",
            " conv4_block5_2_relu (Activatio  (None, 11, 11, 256)  0          ['conv4_block5_2_bn[0][0]']      \n",
            " n)                                                                                               \n",
            "                                                                                                  \n",
            " conv4_block5_3_conv (Conv2D)   (None, 11, 11, 1024  263168      ['conv4_block5_2_relu[0][0]']    \n",
            "                                )                                                                 \n",
            "                                                                                                  \n",
            " conv4_block5_3_bn (BatchNormal  (None, 11, 11, 1024  4096       ['conv4_block5_3_conv[0][0]']    \n",
            " ization)                       )                                                                 \n",
            "                                                                                                  \n",
            " conv4_block5_add (Add)         (None, 11, 11, 1024  0           ['conv4_block4_out[0][0]',       \n",
            "                                )                                 'conv4_block5_3_bn[0][0]']      \n",
            "                                                                                                  \n",
            " conv4_block5_out (Activation)  (None, 11, 11, 1024  0           ['conv4_block5_add[0][0]']       \n",
            "                                )                                                                 \n",
            "                                                                                                  \n",
            " conv4_block6_1_conv (Conv2D)   (None, 11, 11, 256)  262400      ['conv4_block5_out[0][0]']       \n",
            "                                                                                                  \n",
            " conv4_block6_1_bn (BatchNormal  (None, 11, 11, 256)  1024       ['conv4_block6_1_conv[0][0]']    \n",
            " ization)                                                                                         \n",
            "                                                                                                  \n",
            " conv4_block6_1_relu (Activatio  (None, 11, 11, 256)  0          ['conv4_block6_1_bn[0][0]']      \n",
            " n)                                                                                               \n",
            "                                                                                                  \n",
            " conv4_block6_2_conv (Conv2D)   (None, 11, 11, 256)  590080      ['conv4_block6_1_relu[0][0]']    \n",
            "                                                                                                  \n",
            " conv4_block6_2_bn (BatchNormal  (None, 11, 11, 256)  1024       ['conv4_block6_2_conv[0][0]']    \n",
            " ization)                                                                                         \n",
            "                                                                                                  \n",
            " conv4_block6_2_relu (Activatio  (None, 11, 11, 256)  0          ['conv4_block6_2_bn[0][0]']      \n",
            " n)                                                                                               \n",
            "                                                                                                  \n",
            " conv4_block6_3_conv (Conv2D)   (None, 11, 11, 1024  263168      ['conv4_block6_2_relu[0][0]']    \n",
            "                                )                                                                 \n",
            "                                                                                                  \n",
            " conv4_block6_3_bn (BatchNormal  (None, 11, 11, 1024  4096       ['conv4_block6_3_conv[0][0]']    \n",
            " ization)                       )                                                                 \n",
            "                                                                                                  \n",
            " conv4_block6_add (Add)         (None, 11, 11, 1024  0           ['conv4_block5_out[0][0]',       \n",
            "                                )                                 'conv4_block6_3_bn[0][0]']      \n",
            "                                                                                                  \n",
            " conv4_block6_out (Activation)  (None, 11, 11, 1024  0           ['conv4_block6_add[0][0]']       \n",
            "                                )                                                                 \n",
            "                                                                                                  \n",
            " conv4_block7_1_conv (Conv2D)   (None, 11, 11, 256)  262400      ['conv4_block6_out[0][0]']       \n",
            "                                                                                                  \n",
            " conv4_block7_1_bn (BatchNormal  (None, 11, 11, 256)  1024       ['conv4_block7_1_conv[0][0]']    \n",
            " ization)                                                                                         \n",
            "                                                                                                  \n",
            " conv4_block7_1_relu (Activatio  (None, 11, 11, 256)  0          ['conv4_block7_1_bn[0][0]']      \n",
            " n)                                                                                               \n",
            "                                                                                                  \n",
            " conv4_block7_2_conv (Conv2D)   (None, 11, 11, 256)  590080      ['conv4_block7_1_relu[0][0]']    \n",
            "                                                                                                  \n",
            " conv4_block7_2_bn (BatchNormal  (None, 11, 11, 256)  1024       ['conv4_block7_2_conv[0][0]']    \n",
            " ization)                                                                                         \n",
            "                                                                                                  \n",
            " conv4_block7_2_relu (Activatio  (None, 11, 11, 256)  0          ['conv4_block7_2_bn[0][0]']      \n",
            " n)                                                                                               \n",
            "                                                                                                  \n",
            " conv4_block7_3_conv (Conv2D)   (None, 11, 11, 1024  263168      ['conv4_block7_2_relu[0][0]']    \n",
            "                                )                                                                 \n",
            "                                                                                                  \n",
            " conv4_block7_3_bn (BatchNormal  (None, 11, 11, 1024  4096       ['conv4_block7_3_conv[0][0]']    \n",
            " ization)                       )                                                                 \n",
            "                                                                                                  \n",
            " conv4_block7_add (Add)         (None, 11, 11, 1024  0           ['conv4_block6_out[0][0]',       \n",
            "                                )                                 'conv4_block7_3_bn[0][0]']      \n",
            "                                                                                                  \n",
            " conv4_block7_out (Activation)  (None, 11, 11, 1024  0           ['conv4_block7_add[0][0]']       \n",
            "                                )                                                                 \n",
            "                                                                                                  \n",
            " conv4_block8_1_conv (Conv2D)   (None, 11, 11, 256)  262400      ['conv4_block7_out[0][0]']       \n",
            "                                                                                                  \n",
            " conv4_block8_1_bn (BatchNormal  (None, 11, 11, 256)  1024       ['conv4_block8_1_conv[0][0]']    \n",
            " ization)                                                                                         \n",
            "                                                                                                  \n",
            " conv4_block8_1_relu (Activatio  (None, 11, 11, 256)  0          ['conv4_block8_1_bn[0][0]']      \n",
            " n)                                                                                               \n",
            "                                                                                                  \n",
            " conv4_block8_2_conv (Conv2D)   (None, 11, 11, 256)  590080      ['conv4_block8_1_relu[0][0]']    \n",
            "                                                                                                  \n",
            " conv4_block8_2_bn (BatchNormal  (None, 11, 11, 256)  1024       ['conv4_block8_2_conv[0][0]']    \n",
            " ization)                                                                                         \n",
            "                                                                                                  \n",
            " conv4_block8_2_relu (Activatio  (None, 11, 11, 256)  0          ['conv4_block8_2_bn[0][0]']      \n",
            " n)                                                                                               \n",
            "                                                                                                  \n",
            " conv4_block8_3_conv (Conv2D)   (None, 11, 11, 1024  263168      ['conv4_block8_2_relu[0][0]']    \n",
            "                                )                                                                 \n",
            "                                                                                                  \n",
            " conv4_block8_3_bn (BatchNormal  (None, 11, 11, 1024  4096       ['conv4_block8_3_conv[0][0]']    \n",
            " ization)                       )                                                                 \n",
            "                                                                                                  \n",
            " conv4_block8_add (Add)         (None, 11, 11, 1024  0           ['conv4_block7_out[0][0]',       \n",
            "                                )                                 'conv4_block8_3_bn[0][0]']      \n",
            "                                                                                                  \n",
            " conv4_block8_out (Activation)  (None, 11, 11, 1024  0           ['conv4_block8_add[0][0]']       \n",
            "                                )                                                                 \n",
            "                                                                                                  \n",
            " conv4_block9_1_conv (Conv2D)   (None, 11, 11, 256)  262400      ['conv4_block8_out[0][0]']       \n",
            "                                                                                                  \n",
            " conv4_block9_1_bn (BatchNormal  (None, 11, 11, 256)  1024       ['conv4_block9_1_conv[0][0]']    \n",
            " ization)                                                                                         \n",
            "                                                                                                  \n",
            " conv4_block9_1_relu (Activatio  (None, 11, 11, 256)  0          ['conv4_block9_1_bn[0][0]']      \n",
            " n)                                                                                               \n",
            "                                                                                                  \n",
            " conv4_block9_2_conv (Conv2D)   (None, 11, 11, 256)  590080      ['conv4_block9_1_relu[0][0]']    \n",
            "                                                                                                  \n",
            " conv4_block9_2_bn (BatchNormal  (None, 11, 11, 256)  1024       ['conv4_block9_2_conv[0][0]']    \n",
            " ization)                                                                                         \n",
            "                                                                                                  \n",
            " conv4_block9_2_relu (Activatio  (None, 11, 11, 256)  0          ['conv4_block9_2_bn[0][0]']      \n",
            " n)                                                                                               \n",
            "                                                                                                  \n",
            " conv4_block9_3_conv (Conv2D)   (None, 11, 11, 1024  263168      ['conv4_block9_2_relu[0][0]']    \n",
            "                                )                                                                 \n",
            "                                                                                                  \n",
            " conv4_block9_3_bn (BatchNormal  (None, 11, 11, 1024  4096       ['conv4_block9_3_conv[0][0]']    \n",
            " ization)                       )                                                                 \n",
            "                                                                                                  \n",
            " conv4_block9_add (Add)         (None, 11, 11, 1024  0           ['conv4_block8_out[0][0]',       \n",
            "                                )                                 'conv4_block9_3_bn[0][0]']      \n",
            "                                                                                                  \n",
            " conv4_block9_out (Activation)  (None, 11, 11, 1024  0           ['conv4_block9_add[0][0]']       \n",
            "                                )                                                                 \n",
            "                                                                                                  \n",
            " conv4_block10_1_conv (Conv2D)  (None, 11, 11, 256)  262400      ['conv4_block9_out[0][0]']       \n",
            "                                                                                                  \n",
            " conv4_block10_1_bn (BatchNorma  (None, 11, 11, 256)  1024       ['conv4_block10_1_conv[0][0]']   \n",
            " lization)                                                                                        \n",
            "                                                                                                  \n",
            " conv4_block10_1_relu (Activati  (None, 11, 11, 256)  0          ['conv4_block10_1_bn[0][0]']     \n",
            " on)                                                                                              \n",
            "                                                                                                  \n",
            " conv4_block10_2_conv (Conv2D)  (None, 11, 11, 256)  590080      ['conv4_block10_1_relu[0][0]']   \n",
            "                                                                                                  \n",
            " conv4_block10_2_bn (BatchNorma  (None, 11, 11, 256)  1024       ['conv4_block10_2_conv[0][0]']   \n",
            " lization)                                                                                        \n",
            "                                                                                                  \n",
            " conv4_block10_2_relu (Activati  (None, 11, 11, 256)  0          ['conv4_block10_2_bn[0][0]']     \n",
            " on)                                                                                              \n",
            "                                                                                                  \n",
            " conv4_block10_3_conv (Conv2D)  (None, 11, 11, 1024  263168      ['conv4_block10_2_relu[0][0]']   \n",
            "                                )                                                                 \n",
            "                                                                                                  \n",
            " conv4_block10_3_bn (BatchNorma  (None, 11, 11, 1024  4096       ['conv4_block10_3_conv[0][0]']   \n",
            " lization)                      )                                                                 \n",
            "                                                                                                  \n",
            " conv4_block10_add (Add)        (None, 11, 11, 1024  0           ['conv4_block9_out[0][0]',       \n",
            "                                )                                 'conv4_block10_3_bn[0][0]']     \n",
            "                                                                                                  \n",
            " conv4_block10_out (Activation)  (None, 11, 11, 1024  0          ['conv4_block10_add[0][0]']      \n",
            "                                )                                                                 \n",
            "                                                                                                  \n",
            " conv4_block11_1_conv (Conv2D)  (None, 11, 11, 256)  262400      ['conv4_block10_out[0][0]']      \n",
            "                                                                                                  \n",
            " conv4_block11_1_bn (BatchNorma  (None, 11, 11, 256)  1024       ['conv4_block11_1_conv[0][0]']   \n",
            " lization)                                                                                        \n",
            "                                                                                                  \n",
            " conv4_block11_1_relu (Activati  (None, 11, 11, 256)  0          ['conv4_block11_1_bn[0][0]']     \n",
            " on)                                                                                              \n",
            "                                                                                                  \n",
            " conv4_block11_2_conv (Conv2D)  (None, 11, 11, 256)  590080      ['conv4_block11_1_relu[0][0]']   \n",
            "                                                                                                  \n",
            " conv4_block11_2_bn (BatchNorma  (None, 11, 11, 256)  1024       ['conv4_block11_2_conv[0][0]']   \n",
            " lization)                                                                                        \n",
            "                                                                                                  \n",
            " conv4_block11_2_relu (Activati  (None, 11, 11, 256)  0          ['conv4_block11_2_bn[0][0]']     \n",
            " on)                                                                                              \n",
            "                                                                                                  \n",
            " conv4_block11_3_conv (Conv2D)  (None, 11, 11, 1024  263168      ['conv4_block11_2_relu[0][0]']   \n",
            "                                )                                                                 \n",
            "                                                                                                  \n",
            " conv4_block11_3_bn (BatchNorma  (None, 11, 11, 1024  4096       ['conv4_block11_3_conv[0][0]']   \n",
            " lization)                      )                                                                 \n",
            "                                                                                                  \n",
            " conv4_block11_add (Add)        (None, 11, 11, 1024  0           ['conv4_block10_out[0][0]',      \n",
            "                                )                                 'conv4_block11_3_bn[0][0]']     \n",
            "                                                                                                  \n",
            " conv4_block11_out (Activation)  (None, 11, 11, 1024  0          ['conv4_block11_add[0][0]']      \n",
            "                                )                                                                 \n",
            "                                                                                                  \n",
            " conv4_block12_1_conv (Conv2D)  (None, 11, 11, 256)  262400      ['conv4_block11_out[0][0]']      \n",
            "                                                                                                  \n",
            " conv4_block12_1_bn (BatchNorma  (None, 11, 11, 256)  1024       ['conv4_block12_1_conv[0][0]']   \n",
            " lization)                                                                                        \n",
            "                                                                                                  \n",
            " conv4_block12_1_relu (Activati  (None, 11, 11, 256)  0          ['conv4_block12_1_bn[0][0]']     \n",
            " on)                                                                                              \n",
            "                                                                                                  \n",
            " conv4_block12_2_conv (Conv2D)  (None, 11, 11, 256)  590080      ['conv4_block12_1_relu[0][0]']   \n",
            "                                                                                                  \n",
            " conv4_block12_2_bn (BatchNorma  (None, 11, 11, 256)  1024       ['conv4_block12_2_conv[0][0]']   \n",
            " lization)                                                                                        \n",
            "                                                                                                  \n",
            " conv4_block12_2_relu (Activati  (None, 11, 11, 256)  0          ['conv4_block12_2_bn[0][0]']     \n",
            " on)                                                                                              \n",
            "                                                                                                  \n",
            " conv4_block12_3_conv (Conv2D)  (None, 11, 11, 1024  263168      ['conv4_block12_2_relu[0][0]']   \n",
            "                                )                                                                 \n",
            "                                                                                                  \n",
            " conv4_block12_3_bn (BatchNorma  (None, 11, 11, 1024  4096       ['conv4_block12_3_conv[0][0]']   \n",
            " lization)                      )                                                                 \n",
            "                                                                                                  \n",
            " conv4_block12_add (Add)        (None, 11, 11, 1024  0           ['conv4_block11_out[0][0]',      \n",
            "                                )                                 'conv4_block12_3_bn[0][0]']     \n",
            "                                                                                                  \n",
            " conv4_block12_out (Activation)  (None, 11, 11, 1024  0          ['conv4_block12_add[0][0]']      \n",
            "                                )                                                                 \n",
            "                                                                                                  \n",
            " conv4_block13_1_conv (Conv2D)  (None, 11, 11, 256)  262400      ['conv4_block12_out[0][0]']      \n",
            "                                                                                                  \n",
            " conv4_block13_1_bn (BatchNorma  (None, 11, 11, 256)  1024       ['conv4_block13_1_conv[0][0]']   \n",
            " lization)                                                                                        \n",
            "                                                                                                  \n",
            " conv4_block13_1_relu (Activati  (None, 11, 11, 256)  0          ['conv4_block13_1_bn[0][0]']     \n",
            " on)                                                                                              \n",
            "                                                                                                  \n",
            " conv4_block13_2_conv (Conv2D)  (None, 11, 11, 256)  590080      ['conv4_block13_1_relu[0][0]']   \n",
            "                                                                                                  \n",
            " conv4_block13_2_bn (BatchNorma  (None, 11, 11, 256)  1024       ['conv4_block13_2_conv[0][0]']   \n",
            " lization)                                                                                        \n",
            "                                                                                                  \n",
            " conv4_block13_2_relu (Activati  (None, 11, 11, 256)  0          ['conv4_block13_2_bn[0][0]']     \n",
            " on)                                                                                              \n",
            "                                                                                                  \n",
            " conv4_block13_3_conv (Conv2D)  (None, 11, 11, 1024  263168      ['conv4_block13_2_relu[0][0]']   \n",
            "                                )                                                                 \n",
            "                                                                                                  \n",
            " conv4_block13_3_bn (BatchNorma  (None, 11, 11, 1024  4096       ['conv4_block13_3_conv[0][0]']   \n",
            " lization)                      )                                                                 \n",
            "                                                                                                  \n",
            " conv4_block13_add (Add)        (None, 11, 11, 1024  0           ['conv4_block12_out[0][0]',      \n",
            "                                )                                 'conv4_block13_3_bn[0][0]']     \n",
            "                                                                                                  \n",
            " conv4_block13_out (Activation)  (None, 11, 11, 1024  0          ['conv4_block13_add[0][0]']      \n",
            "                                )                                                                 \n",
            "                                                                                                  \n",
            " conv4_block14_1_conv (Conv2D)  (None, 11, 11, 256)  262400      ['conv4_block13_out[0][0]']      \n",
            "                                                                                                  \n",
            " conv4_block14_1_bn (BatchNorma  (None, 11, 11, 256)  1024       ['conv4_block14_1_conv[0][0]']   \n",
            " lization)                                                                                        \n",
            "                                                                                                  \n",
            " conv4_block14_1_relu (Activati  (None, 11, 11, 256)  0          ['conv4_block14_1_bn[0][0]']     \n",
            " on)                                                                                              \n",
            "                                                                                                  \n",
            " conv4_block14_2_conv (Conv2D)  (None, 11, 11, 256)  590080      ['conv4_block14_1_relu[0][0]']   \n",
            "                                                                                                  \n",
            " conv4_block14_2_bn (BatchNorma  (None, 11, 11, 256)  1024       ['conv4_block14_2_conv[0][0]']   \n",
            " lization)                                                                                        \n",
            "                                                                                                  \n",
            " conv4_block14_2_relu (Activati  (None, 11, 11, 256)  0          ['conv4_block14_2_bn[0][0]']     \n",
            " on)                                                                                              \n",
            "                                                                                                  \n",
            " conv4_block14_3_conv (Conv2D)  (None, 11, 11, 1024  263168      ['conv4_block14_2_relu[0][0]']   \n",
            "                                )                                                                 \n",
            "                                                                                                  \n",
            " conv4_block14_3_bn (BatchNorma  (None, 11, 11, 1024  4096       ['conv4_block14_3_conv[0][0]']   \n",
            " lization)                      )                                                                 \n",
            "                                                                                                  \n",
            " conv4_block14_add (Add)        (None, 11, 11, 1024  0           ['conv4_block13_out[0][0]',      \n",
            "                                )                                 'conv4_block14_3_bn[0][0]']     \n",
            "                                                                                                  \n",
            " conv4_block14_out (Activation)  (None, 11, 11, 1024  0          ['conv4_block14_add[0][0]']      \n",
            "                                )                                                                 \n",
            "                                                                                                  \n",
            " conv4_block15_1_conv (Conv2D)  (None, 11, 11, 256)  262400      ['conv4_block14_out[0][0]']      \n",
            "                                                                                                  \n",
            " conv4_block15_1_bn (BatchNorma  (None, 11, 11, 256)  1024       ['conv4_block15_1_conv[0][0]']   \n",
            " lization)                                                                                        \n",
            "                                                                                                  \n",
            " conv4_block15_1_relu (Activati  (None, 11, 11, 256)  0          ['conv4_block15_1_bn[0][0]']     \n",
            " on)                                                                                              \n",
            "                                                                                                  \n",
            " conv4_block15_2_conv (Conv2D)  (None, 11, 11, 256)  590080      ['conv4_block15_1_relu[0][0]']   \n",
            "                                                                                                  \n",
            " conv4_block15_2_bn (BatchNorma  (None, 11, 11, 256)  1024       ['conv4_block15_2_conv[0][0]']   \n",
            " lization)                                                                                        \n",
            "                                                                                                  \n",
            " conv4_block15_2_relu (Activati  (None, 11, 11, 256)  0          ['conv4_block15_2_bn[0][0]']     \n",
            " on)                                                                                              \n",
            "                                                                                                  \n",
            " conv4_block15_3_conv (Conv2D)  (None, 11, 11, 1024  263168      ['conv4_block15_2_relu[0][0]']   \n",
            "                                )                                                                 \n",
            "                                                                                                  \n",
            " conv4_block15_3_bn (BatchNorma  (None, 11, 11, 1024  4096       ['conv4_block15_3_conv[0][0]']   \n",
            " lization)                      )                                                                 \n",
            "                                                                                                  \n",
            " conv4_block15_add (Add)        (None, 11, 11, 1024  0           ['conv4_block14_out[0][0]',      \n",
            "                                )                                 'conv4_block15_3_bn[0][0]']     \n",
            "                                                                                                  \n",
            " conv4_block15_out (Activation)  (None, 11, 11, 1024  0          ['conv4_block15_add[0][0]']      \n",
            "                                )                                                                 \n",
            "                                                                                                  \n",
            " conv4_block16_1_conv (Conv2D)  (None, 11, 11, 256)  262400      ['conv4_block15_out[0][0]']      \n",
            "                                                                                                  \n",
            " conv4_block16_1_bn (BatchNorma  (None, 11, 11, 256)  1024       ['conv4_block16_1_conv[0][0]']   \n",
            " lization)                                                                                        \n",
            "                                                                                                  \n",
            " conv4_block16_1_relu (Activati  (None, 11, 11, 256)  0          ['conv4_block16_1_bn[0][0]']     \n",
            " on)                                                                                              \n",
            "                                                                                                  \n",
            " conv4_block16_2_conv (Conv2D)  (None, 11, 11, 256)  590080      ['conv4_block16_1_relu[0][0]']   \n",
            "                                                                                                  \n",
            " conv4_block16_2_bn (BatchNorma  (None, 11, 11, 256)  1024       ['conv4_block16_2_conv[0][0]']   \n",
            " lization)                                                                                        \n",
            "                                                                                                  \n",
            " conv4_block16_2_relu (Activati  (None, 11, 11, 256)  0          ['conv4_block16_2_bn[0][0]']     \n",
            " on)                                                                                              \n",
            "                                                                                                  \n",
            " conv4_block16_3_conv (Conv2D)  (None, 11, 11, 1024  263168      ['conv4_block16_2_relu[0][0]']   \n",
            "                                )                                                                 \n",
            "                                                                                                  \n",
            " conv4_block16_3_bn (BatchNorma  (None, 11, 11, 1024  4096       ['conv4_block16_3_conv[0][0]']   \n",
            " lization)                      )                                                                 \n",
            "                                                                                                  \n",
            " conv4_block16_add (Add)        (None, 11, 11, 1024  0           ['conv4_block15_out[0][0]',      \n",
            "                                )                                 'conv4_block16_3_bn[0][0]']     \n",
            "                                                                                                  \n",
            " conv4_block16_out (Activation)  (None, 11, 11, 1024  0          ['conv4_block16_add[0][0]']      \n",
            "                                )                                                                 \n",
            "                                                                                                  \n",
            " conv4_block17_1_conv (Conv2D)  (None, 11, 11, 256)  262400      ['conv4_block16_out[0][0]']      \n",
            "                                                                                                  \n",
            " conv4_block17_1_bn (BatchNorma  (None, 11, 11, 256)  1024       ['conv4_block17_1_conv[0][0]']   \n",
            " lization)                                                                                        \n",
            "                                                                                                  \n",
            " conv4_block17_1_relu (Activati  (None, 11, 11, 256)  0          ['conv4_block17_1_bn[0][0]']     \n",
            " on)                                                                                              \n",
            "                                                                                                  \n",
            " conv4_block17_2_conv (Conv2D)  (None, 11, 11, 256)  590080      ['conv4_block17_1_relu[0][0]']   \n",
            "                                                                                                  \n",
            " conv4_block17_2_bn (BatchNorma  (None, 11, 11, 256)  1024       ['conv4_block17_2_conv[0][0]']   \n",
            " lization)                                                                                        \n",
            "                                                                                                  \n",
            " conv4_block17_2_relu (Activati  (None, 11, 11, 256)  0          ['conv4_block17_2_bn[0][0]']     \n",
            " on)                                                                                              \n",
            "                                                                                                  \n",
            " conv4_block17_3_conv (Conv2D)  (None, 11, 11, 1024  263168      ['conv4_block17_2_relu[0][0]']   \n",
            "                                )                                                                 \n",
            "                                                                                                  \n",
            " conv4_block17_3_bn (BatchNorma  (None, 11, 11, 1024  4096       ['conv4_block17_3_conv[0][0]']   \n",
            " lization)                      )                                                                 \n",
            "                                                                                                  \n",
            " conv4_block17_add (Add)        (None, 11, 11, 1024  0           ['conv4_block16_out[0][0]',      \n",
            "                                )                                 'conv4_block17_3_bn[0][0]']     \n",
            "                                                                                                  \n",
            " conv4_block17_out (Activation)  (None, 11, 11, 1024  0          ['conv4_block17_add[0][0]']      \n",
            "                                )                                                                 \n",
            "                                                                                                  \n",
            " conv4_block18_1_conv (Conv2D)  (None, 11, 11, 256)  262400      ['conv4_block17_out[0][0]']      \n",
            "                                                                                                  \n",
            " conv4_block18_1_bn (BatchNorma  (None, 11, 11, 256)  1024       ['conv4_block18_1_conv[0][0]']   \n",
            " lization)                                                                                        \n",
            "                                                                                                  \n",
            " conv4_block18_1_relu (Activati  (None, 11, 11, 256)  0          ['conv4_block18_1_bn[0][0]']     \n",
            " on)                                                                                              \n",
            "                                                                                                  \n",
            " conv4_block18_2_conv (Conv2D)  (None, 11, 11, 256)  590080      ['conv4_block18_1_relu[0][0]']   \n",
            "                                                                                                  \n",
            " conv4_block18_2_bn (BatchNorma  (None, 11, 11, 256)  1024       ['conv4_block18_2_conv[0][0]']   \n",
            " lization)                                                                                        \n",
            "                                                                                                  \n",
            " conv4_block18_2_relu (Activati  (None, 11, 11, 256)  0          ['conv4_block18_2_bn[0][0]']     \n",
            " on)                                                                                              \n",
            "                                                                                                  \n",
            " conv4_block18_3_conv (Conv2D)  (None, 11, 11, 1024  263168      ['conv4_block18_2_relu[0][0]']   \n",
            "                                )                                                                 \n",
            "                                                                                                  \n",
            " conv4_block18_3_bn (BatchNorma  (None, 11, 11, 1024  4096       ['conv4_block18_3_conv[0][0]']   \n",
            " lization)                      )                                                                 \n",
            "                                                                                                  \n",
            " conv4_block18_add (Add)        (None, 11, 11, 1024  0           ['conv4_block17_out[0][0]',      \n",
            "                                )                                 'conv4_block18_3_bn[0][0]']     \n",
            "                                                                                                  \n",
            " conv4_block18_out (Activation)  (None, 11, 11, 1024  0          ['conv4_block18_add[0][0]']      \n",
            "                                )                                                                 \n",
            "                                                                                                  \n",
            " conv4_block19_1_conv (Conv2D)  (None, 11, 11, 256)  262400      ['conv4_block18_out[0][0]']      \n",
            "                                                                                                  \n",
            " conv4_block19_1_bn (BatchNorma  (None, 11, 11, 256)  1024       ['conv4_block19_1_conv[0][0]']   \n",
            " lization)                                                                                        \n",
            "                                                                                                  \n",
            " conv4_block19_1_relu (Activati  (None, 11, 11, 256)  0          ['conv4_block19_1_bn[0][0]']     \n",
            " on)                                                                                              \n",
            "                                                                                                  \n",
            " conv4_block19_2_conv (Conv2D)  (None, 11, 11, 256)  590080      ['conv4_block19_1_relu[0][0]']   \n",
            "                                                                                                  \n",
            " conv4_block19_2_bn (BatchNorma  (None, 11, 11, 256)  1024       ['conv4_block19_2_conv[0][0]']   \n",
            " lization)                                                                                        \n",
            "                                                                                                  \n",
            " conv4_block19_2_relu (Activati  (None, 11, 11, 256)  0          ['conv4_block19_2_bn[0][0]']     \n",
            " on)                                                                                              \n",
            "                                                                                                  \n",
            " conv4_block19_3_conv (Conv2D)  (None, 11, 11, 1024  263168      ['conv4_block19_2_relu[0][0]']   \n",
            "                                )                                                                 \n",
            "                                                                                                  \n",
            " conv4_block19_3_bn (BatchNorma  (None, 11, 11, 1024  4096       ['conv4_block19_3_conv[0][0]']   \n",
            " lization)                      )                                                                 \n",
            "                                                                                                  \n",
            " conv4_block19_add (Add)        (None, 11, 11, 1024  0           ['conv4_block18_out[0][0]',      \n",
            "                                )                                 'conv4_block19_3_bn[0][0]']     \n",
            "                                                                                                  \n",
            " conv4_block19_out (Activation)  (None, 11, 11, 1024  0          ['conv4_block19_add[0][0]']      \n",
            "                                )                                                                 \n",
            "                                                                                                  \n",
            " conv4_block20_1_conv (Conv2D)  (None, 11, 11, 256)  262400      ['conv4_block19_out[0][0]']      \n",
            "                                                                                                  \n",
            " conv4_block20_1_bn (BatchNorma  (None, 11, 11, 256)  1024       ['conv4_block20_1_conv[0][0]']   \n",
            " lization)                                                                                        \n",
            "                                                                                                  \n",
            " conv4_block20_1_relu (Activati  (None, 11, 11, 256)  0          ['conv4_block20_1_bn[0][0]']     \n",
            " on)                                                                                              \n",
            "                                                                                                  \n",
            " conv4_block20_2_conv (Conv2D)  (None, 11, 11, 256)  590080      ['conv4_block20_1_relu[0][0]']   \n",
            "                                                                                                  \n",
            " conv4_block20_2_bn (BatchNorma  (None, 11, 11, 256)  1024       ['conv4_block20_2_conv[0][0]']   \n",
            " lization)                                                                                        \n",
            "                                                                                                  \n",
            " conv4_block20_2_relu (Activati  (None, 11, 11, 256)  0          ['conv4_block20_2_bn[0][0]']     \n",
            " on)                                                                                              \n",
            "                                                                                                  \n",
            " conv4_block20_3_conv (Conv2D)  (None, 11, 11, 1024  263168      ['conv4_block20_2_relu[0][0]']   \n",
            "                                )                                                                 \n",
            "                                                                                                  \n",
            " conv4_block20_3_bn (BatchNorma  (None, 11, 11, 1024  4096       ['conv4_block20_3_conv[0][0]']   \n",
            " lization)                      )                                                                 \n",
            "                                                                                                  \n",
            " conv4_block20_add (Add)        (None, 11, 11, 1024  0           ['conv4_block19_out[0][0]',      \n",
            "                                )                                 'conv4_block20_3_bn[0][0]']     \n",
            "                                                                                                  \n",
            " conv4_block20_out (Activation)  (None, 11, 11, 1024  0          ['conv4_block20_add[0][0]']      \n",
            "                                )                                                                 \n",
            "                                                                                                  \n",
            " conv4_block21_1_conv (Conv2D)  (None, 11, 11, 256)  262400      ['conv4_block20_out[0][0]']      \n",
            "                                                                                                  \n",
            " conv4_block21_1_bn (BatchNorma  (None, 11, 11, 256)  1024       ['conv4_block21_1_conv[0][0]']   \n",
            " lization)                                                                                        \n",
            "                                                                                                  \n",
            " conv4_block21_1_relu (Activati  (None, 11, 11, 256)  0          ['conv4_block21_1_bn[0][0]']     \n",
            " on)                                                                                              \n",
            "                                                                                                  \n",
            " conv4_block21_2_conv (Conv2D)  (None, 11, 11, 256)  590080      ['conv4_block21_1_relu[0][0]']   \n",
            "                                                                                                  \n",
            " conv4_block21_2_bn (BatchNorma  (None, 11, 11, 256)  1024       ['conv4_block21_2_conv[0][0]']   \n",
            " lization)                                                                                        \n",
            "                                                                                                  \n",
            " conv4_block21_2_relu (Activati  (None, 11, 11, 256)  0          ['conv4_block21_2_bn[0][0]']     \n",
            " on)                                                                                              \n",
            "                                                                                                  \n",
            " conv4_block21_3_conv (Conv2D)  (None, 11, 11, 1024  263168      ['conv4_block21_2_relu[0][0]']   \n",
            "                                )                                                                 \n",
            "                                                                                                  \n",
            " conv4_block21_3_bn (BatchNorma  (None, 11, 11, 1024  4096       ['conv4_block21_3_conv[0][0]']   \n",
            " lization)                      )                                                                 \n",
            "                                                                                                  \n",
            " conv4_block21_add (Add)        (None, 11, 11, 1024  0           ['conv4_block20_out[0][0]',      \n",
            "                                )                                 'conv4_block21_3_bn[0][0]']     \n",
            "                                                                                                  \n",
            " conv4_block21_out (Activation)  (None, 11, 11, 1024  0          ['conv4_block21_add[0][0]']      \n",
            "                                )                                                                 \n",
            "                                                                                                  \n",
            " conv4_block22_1_conv (Conv2D)  (None, 11, 11, 256)  262400      ['conv4_block21_out[0][0]']      \n",
            "                                                                                                  \n",
            " conv4_block22_1_bn (BatchNorma  (None, 11, 11, 256)  1024       ['conv4_block22_1_conv[0][0]']   \n",
            " lization)                                                                                        \n",
            "                                                                                                  \n",
            " conv4_block22_1_relu (Activati  (None, 11, 11, 256)  0          ['conv4_block22_1_bn[0][0]']     \n",
            " on)                                                                                              \n",
            "                                                                                                  \n",
            " conv4_block22_2_conv (Conv2D)  (None, 11, 11, 256)  590080      ['conv4_block22_1_relu[0][0]']   \n",
            "                                                                                                  \n",
            " conv4_block22_2_bn (BatchNorma  (None, 11, 11, 256)  1024       ['conv4_block22_2_conv[0][0]']   \n",
            " lization)                                                                                        \n",
            "                                                                                                  \n",
            " conv4_block22_2_relu (Activati  (None, 11, 11, 256)  0          ['conv4_block22_2_bn[0][0]']     \n",
            " on)                                                                                              \n",
            "                                                                                                  \n",
            " conv4_block22_3_conv (Conv2D)  (None, 11, 11, 1024  263168      ['conv4_block22_2_relu[0][0]']   \n",
            "                                )                                                                 \n",
            "                                                                                                  \n",
            " conv4_block22_3_bn (BatchNorma  (None, 11, 11, 1024  4096       ['conv4_block22_3_conv[0][0]']   \n",
            " lization)                      )                                                                 \n",
            "                                                                                                  \n",
            " conv4_block22_add (Add)        (None, 11, 11, 1024  0           ['conv4_block21_out[0][0]',      \n",
            "                                )                                 'conv4_block22_3_bn[0][0]']     \n",
            "                                                                                                  \n",
            " conv4_block22_out (Activation)  (None, 11, 11, 1024  0          ['conv4_block22_add[0][0]']      \n",
            "                                )                                                                 \n",
            "                                                                                                  \n",
            " conv4_block23_1_conv (Conv2D)  (None, 11, 11, 256)  262400      ['conv4_block22_out[0][0]']      \n",
            "                                                                                                  \n",
            " conv4_block23_1_bn (BatchNorma  (None, 11, 11, 256)  1024       ['conv4_block23_1_conv[0][0]']   \n",
            " lization)                                                                                        \n",
            "                                                                                                  \n",
            " conv4_block23_1_relu (Activati  (None, 11, 11, 256)  0          ['conv4_block23_1_bn[0][0]']     \n",
            " on)                                                                                              \n",
            "                                                                                                  \n",
            " conv4_block23_2_conv (Conv2D)  (None, 11, 11, 256)  590080      ['conv4_block23_1_relu[0][0]']   \n",
            "                                                                                                  \n",
            " conv4_block23_2_bn (BatchNorma  (None, 11, 11, 256)  1024       ['conv4_block23_2_conv[0][0]']   \n",
            " lization)                                                                                        \n",
            "                                                                                                  \n",
            " conv4_block23_2_relu (Activati  (None, 11, 11, 256)  0          ['conv4_block23_2_bn[0][0]']     \n",
            " on)                                                                                              \n",
            "                                                                                                  \n",
            " conv4_block23_3_conv (Conv2D)  (None, 11, 11, 1024  263168      ['conv4_block23_2_relu[0][0]']   \n",
            "                                )                                                                 \n",
            "                                                                                                  \n",
            " conv4_block23_3_bn (BatchNorma  (None, 11, 11, 1024  4096       ['conv4_block23_3_conv[0][0]']   \n",
            " lization)                      )                                                                 \n",
            "                                                                                                  \n",
            " conv4_block23_add (Add)        (None, 11, 11, 1024  0           ['conv4_block22_out[0][0]',      \n",
            "                                )                                 'conv4_block23_3_bn[0][0]']     \n",
            "                                                                                                  \n",
            " conv4_block23_out (Activation)  (None, 11, 11, 1024  0          ['conv4_block23_add[0][0]']      \n",
            "                                )                                                                 \n",
            "                                                                                                  \n",
            " conv5_block1_1_conv (Conv2D)   (None, 6, 6, 512)    524800      ['conv4_block23_out[0][0]']      \n",
            "                                                                                                  \n",
            " conv5_block1_1_bn (BatchNormal  (None, 6, 6, 512)   2048        ['conv5_block1_1_conv[0][0]']    \n",
            " ization)                                                                                         \n",
            "                                                                                                  \n",
            " conv5_block1_1_relu (Activatio  (None, 6, 6, 512)   0           ['conv5_block1_1_bn[0][0]']      \n",
            " n)                                                                                               \n",
            "                                                                                                  \n",
            " conv5_block1_2_conv (Conv2D)   (None, 6, 6, 512)    2359808     ['conv5_block1_1_relu[0][0]']    \n",
            "                                                                                                  \n",
            " conv5_block1_2_bn (BatchNormal  (None, 6, 6, 512)   2048        ['conv5_block1_2_conv[0][0]']    \n",
            " ization)                                                                                         \n",
            "                                                                                                  \n",
            " conv5_block1_2_relu (Activatio  (None, 6, 6, 512)   0           ['conv5_block1_2_bn[0][0]']      \n",
            " n)                                                                                               \n",
            "                                                                                                  \n",
            " conv5_block1_0_conv (Conv2D)   (None, 6, 6, 2048)   2099200     ['conv4_block23_out[0][0]']      \n",
            "                                                                                                  \n",
            " conv5_block1_3_conv (Conv2D)   (None, 6, 6, 2048)   1050624     ['conv5_block1_2_relu[0][0]']    \n",
            "                                                                                                  \n",
            " conv5_block1_0_bn (BatchNormal  (None, 6, 6, 2048)  8192        ['conv5_block1_0_conv[0][0]']    \n",
            " ization)                                                                                         \n",
            "                                                                                                  \n",
            " conv5_block1_3_bn (BatchNormal  (None, 6, 6, 2048)  8192        ['conv5_block1_3_conv[0][0]']    \n",
            " ization)                                                                                         \n",
            "                                                                                                  \n",
            " conv5_block1_add (Add)         (None, 6, 6, 2048)   0           ['conv5_block1_0_bn[0][0]',      \n",
            "                                                                  'conv5_block1_3_bn[0][0]']      \n",
            "                                                                                                  \n",
            " conv5_block1_out (Activation)  (None, 6, 6, 2048)   0           ['conv5_block1_add[0][0]']       \n",
            "                                                                                                  \n",
            " conv5_block2_1_conv (Conv2D)   (None, 6, 6, 512)    1049088     ['conv5_block1_out[0][0]']       \n",
            "                                                                                                  \n",
            " conv5_block2_1_bn (BatchNormal  (None, 6, 6, 512)   2048        ['conv5_block2_1_conv[0][0]']    \n",
            " ization)                                                                                         \n",
            "                                                                                                  \n",
            " conv5_block2_1_relu (Activatio  (None, 6, 6, 512)   0           ['conv5_block2_1_bn[0][0]']      \n",
            " n)                                                                                               \n",
            "                                                                                                  \n",
            " conv5_block2_2_conv (Conv2D)   (None, 6, 6, 512)    2359808     ['conv5_block2_1_relu[0][0]']    \n",
            "                                                                                                  \n",
            " conv5_block2_2_bn (BatchNormal  (None, 6, 6, 512)   2048        ['conv5_block2_2_conv[0][0]']    \n",
            " ization)                                                                                         \n",
            "                                                                                                  \n",
            " conv5_block2_2_relu (Activatio  (None, 6, 6, 512)   0           ['conv5_block2_2_bn[0][0]']      \n",
            " n)                                                                                               \n",
            "                                                                                                  \n",
            " conv5_block2_3_conv (Conv2D)   (None, 6, 6, 2048)   1050624     ['conv5_block2_2_relu[0][0]']    \n",
            "                                                                                                  \n",
            " conv5_block2_3_bn (BatchNormal  (None, 6, 6, 2048)  8192        ['conv5_block2_3_conv[0][0]']    \n",
            " ization)                                                                                         \n",
            "                                                                                                  \n",
            " conv5_block2_add (Add)         (None, 6, 6, 2048)   0           ['conv5_block1_out[0][0]',       \n",
            "                                                                  'conv5_block2_3_bn[0][0]']      \n",
            "                                                                                                  \n",
            " conv5_block2_out (Activation)  (None, 6, 6, 2048)   0           ['conv5_block2_add[0][0]']       \n",
            "                                                                                                  \n",
            " conv5_block3_1_conv (Conv2D)   (None, 6, 6, 512)    1049088     ['conv5_block2_out[0][0]']       \n",
            "                                                                                                  \n",
            " conv5_block3_1_bn (BatchNormal  (None, 6, 6, 512)   2048        ['conv5_block3_1_conv[0][0]']    \n",
            " ization)                                                                                         \n",
            "                                                                                                  \n",
            " conv5_block3_1_relu (Activatio  (None, 6, 6, 512)   0           ['conv5_block3_1_bn[0][0]']      \n",
            " n)                                                                                               \n",
            "                                                                                                  \n",
            " conv5_block3_2_conv (Conv2D)   (None, 6, 6, 512)    2359808     ['conv5_block3_1_relu[0][0]']    \n",
            "                                                                                                  \n",
            " conv5_block3_2_bn (BatchNormal  (None, 6, 6, 512)   2048        ['conv5_block3_2_conv[0][0]']    \n",
            " ization)                                                                                         \n",
            "                                                                                                  \n",
            " conv5_block3_2_relu (Activatio  (None, 6, 6, 512)   0           ['conv5_block3_2_bn[0][0]']      \n",
            " n)                                                                                               \n",
            "                                                                                                  \n",
            " conv5_block3_3_conv (Conv2D)   (None, 6, 6, 2048)   1050624     ['conv5_block3_2_relu[0][0]']    \n",
            "                                                                                                  \n",
            " conv5_block3_3_bn (BatchNormal  (None, 6, 6, 2048)  8192        ['conv5_block3_3_conv[0][0]']    \n",
            " ization)                                                                                         \n",
            "                                                                                                  \n",
            " conv5_block3_add (Add)         (None, 6, 6, 2048)   0           ['conv5_block2_out[0][0]',       \n",
            "                                                                  'conv5_block3_3_bn[0][0]']      \n",
            "                                                                                                  \n",
            " conv5_block3_out (Activation)  (None, 6, 6, 2048)   0           ['conv5_block3_add[0][0]']       \n",
            "                                                                                                  \n",
            "==================================================================================================\n",
            "Total params: 42,658,176\n",
            "Trainable params: 15,831,808\n",
            "Non-trainable params: 26,826,368\n",
            "__________________________________________________________________________________________________\n"
          ]
        }
      ]
    },
    {
      "cell_type": "code",
      "source": [
        "resnet_frozen_history_markov = resnet_frozen_markov.fit(train_ds_markov, \n",
        "                                                        initial_epoch=40,\n",
        "                                                        validation_data=test_ds_markov, \n",
        "                                                        epochs=80, callbacks=callbacks(resnet_frozen_markov))"
      ],
      "metadata": {
        "colab": {
          "base_uri": "https://localhost:8080/"
        },
        "id": "CfK8FEbEKmzx",
        "outputId": "ead146da-3140-4b94-baad-955408e2a52a"
      },
      "execution_count": null,
      "outputs": [
        {
          "output_type": "stream",
          "name": "stdout",
          "text": [
            "Epoch 41/80\n",
            "113/113 [==============================] - ETA: 0s - loss: 0.3839 - accuracy: 0.8284"
          ]
        },
        {
          "output_type": "stream",
          "name": "stderr",
          "text": [
            "WARNING:absl:Found untraced functions such as _jit_compiled_convolution_op, _jit_compiled_convolution_op, _jit_compiled_convolution_op, _jit_compiled_convolution_op, _jit_compiled_convolution_op while saving (showing 5 of 104). These functions will not be directly callable after loading.\n"
          ]
        },
        {
          "output_type": "stream",
          "name": "stdout",
          "text": [
            "\b\b\b\b\b\b\b\b\b\b\b\b\b\b\b\b\b\b\b\b\b\b\b\b\b\b\b\b\b\b\b\b\b\b\b\b\b\b\b\b\b\b\b\b\b\b\b\b\b\b\b\b\b\b\b\b\b\b\b\b\b\b\b\b\b\b\b\b\b\b\b\b\b\b\b\b\b\b\b\b\b\b\b\b\r113/113 [==============================] - 48s 427ms/step - loss: 0.3839 - accuracy: 0.8284 - val_loss: 0.5357 - val_accuracy: 0.7530 - lr: 1.0000e-05\n",
            "Epoch 42/80\n",
            "113/113 [==============================] - 5s 40ms/step - loss: 0.3838 - accuracy: 0.8287 - val_loss: 0.5360 - val_accuracy: 0.7515 - lr: 1.0000e-05\n",
            "Epoch 43/80\n",
            "113/113 [==============================] - 4s 40ms/step - loss: 0.3838 - accuracy: 0.8295 - val_loss: 0.5363 - val_accuracy: 0.7530 - lr: 1.0000e-05\n",
            "Epoch 44/80\n",
            "113/113 [==============================] - 5s 40ms/step - loss: 0.3838 - accuracy: 0.8284 - val_loss: 0.5366 - val_accuracy: 0.7530 - lr: 1.0000e-05\n",
            "Epoch 45/80\n",
            "113/113 [==============================] - 4s 40ms/step - loss: 0.3837 - accuracy: 0.8281 - val_loss: 0.5369 - val_accuracy: 0.7523 - lr: 1.0000e-05\n",
            "Epoch 46/80\n",
            "113/113 [==============================] - 4s 40ms/step - loss: 0.3837 - accuracy: 0.8275 - val_loss: 0.5371 - val_accuracy: 0.7515 - lr: 1.0000e-05\n",
            "Epoch 47/80\n",
            "113/113 [==============================] - 4s 40ms/step - loss: 0.3837 - accuracy: 0.8273 - val_loss: 0.5373 - val_accuracy: 0.7515 - lr: 1.0000e-05\n",
            "Epoch 48/80\n",
            "113/113 [==============================] - 4s 40ms/step - loss: 0.3836 - accuracy: 0.8284 - val_loss: 0.5374 - val_accuracy: 0.7515 - lr: 1.0000e-05\n",
            "Epoch 49/80\n",
            "113/113 [==============================] - 4s 40ms/step - loss: 0.3836 - accuracy: 0.8289 - val_loss: 0.5375 - val_accuracy: 0.7508 - lr: 1.0000e-05\n",
            "Epoch 50/80\n",
            "113/113 [==============================] - 4s 40ms/step - loss: 0.3835 - accuracy: 0.8287 - val_loss: 0.5375 - val_accuracy: 0.7508 - lr: 1.0000e-05\n",
            "Epoch 51/80\n",
            "113/113 [==============================] - 4s 40ms/step - loss: 0.3834 - accuracy: 0.8292 - val_loss: 0.5375 - val_accuracy: 0.7500 - lr: 1.0000e-05\n",
            "Epoch 52/80\n",
            "113/113 [==============================] - ETA: 0s - loss: 0.3813 - accuracy: 0.8278"
          ]
        },
        {
          "output_type": "stream",
          "name": "stderr",
          "text": [
            "WARNING:absl:Found untraced functions such as _jit_compiled_convolution_op, _jit_compiled_convolution_op, _jit_compiled_convolution_op, _jit_compiled_convolution_op, _jit_compiled_convolution_op while saving (showing 5 of 104). These functions will not be directly callable after loading.\n"
          ]
        },
        {
          "output_type": "stream",
          "name": "stdout",
          "text": [
            "\b\b\b\b\b\b\b\b\b\b\b\b\b\b\b\b\b\b\b\b\b\b\b\b\b\b\b\b\b\b\b\b\b\b\b\b\b\b\b\b\b\b\b\b\b\b\b\b\b\b\b\b\b\b\b\b\b\b\b\b\b\b\b\b\b\b\b\b\b\b\b\b\b\b\b\b\b\b\b\b\b\b\b\b\r113/113 [==============================] - 48s 432ms/step - loss: 0.3813 - accuracy: 0.8278 - val_loss: 0.5245 - val_accuracy: 0.7621 - lr: 1.0000e-06\n",
            "Epoch 53/80\n",
            "113/113 [==============================] - 4s 40ms/step - loss: 0.3795 - accuracy: 0.8270 - val_loss: 0.5245 - val_accuracy: 0.7629 - lr: 1.0000e-06\n",
            "Epoch 54/80\n",
            "113/113 [==============================] - 4s 40ms/step - loss: 0.3795 - accuracy: 0.8270 - val_loss: 0.5245 - val_accuracy: 0.7621 - lr: 1.0000e-06\n",
            "Epoch 55/80\n",
            "113/113 [==============================] - 5s 40ms/step - loss: 0.3795 - accuracy: 0.8270 - val_loss: 0.5245 - val_accuracy: 0.7621 - lr: 1.0000e-06\n",
            "Epoch 56/80\n",
            "113/113 [==============================] - 4s 40ms/step - loss: 0.3795 - accuracy: 0.8270 - val_loss: 0.5245 - val_accuracy: 0.7621 - lr: 1.0000e-06\n",
            "Epoch 57/80\n",
            "113/113 [==============================] - 4s 40ms/step - loss: 0.3795 - accuracy: 0.8270 - val_loss: 0.5246 - val_accuracy: 0.7621 - lr: 1.0000e-06\n",
            "Epoch 58/80\n",
            "113/113 [==============================] - 4s 40ms/step - loss: 0.3795 - accuracy: 0.8267 - val_loss: 0.5246 - val_accuracy: 0.7629 - lr: 1.0000e-06\n",
            "Epoch 59/80\n",
            "113/113 [==============================] - 5s 40ms/step - loss: 0.3795 - accuracy: 0.8270 - val_loss: 0.5246 - val_accuracy: 0.7629 - lr: 1.0000e-06\n",
            "Epoch 60/80\n",
            "113/113 [==============================] - 5s 40ms/step - loss: 0.3795 - accuracy: 0.8273 - val_loss: 0.5246 - val_accuracy: 0.7636 - lr: 1.0000e-06\n",
            "Epoch 61/80\n",
            "113/113 [==============================] - 4s 40ms/step - loss: 0.3795 - accuracy: 0.8273 - val_loss: 0.5246 - val_accuracy: 0.7636 - lr: 1.0000e-06\n",
            "Epoch 62/80\n",
            "113/113 [==============================] - 4s 40ms/step - loss: 0.3795 - accuracy: 0.8275 - val_loss: 0.5246 - val_accuracy: 0.7636 - lr: 1.0000e-06\n",
            "Epoch 63/80\n",
            "113/113 [==============================] - ETA: 0s - loss: 0.3786 - accuracy: 0.8306"
          ]
        },
        {
          "output_type": "stream",
          "name": "stderr",
          "text": [
            "WARNING:absl:Found untraced functions such as _jit_compiled_convolution_op, _jit_compiled_convolution_op, _jit_compiled_convolution_op, _jit_compiled_convolution_op, _jit_compiled_convolution_op while saving (showing 5 of 104). These functions will not be directly callable after loading.\n"
          ]
        },
        {
          "output_type": "stream",
          "name": "stdout",
          "text": [
            "\b\b\b\b\b\b\b\b\b\b\b\b\b\b\b\b\b\b\b\b\b\b\b\b\b\b\b\b\b\b\b\b\b\b\b\b\b\b\b\b\b\b\b\b\b\b\b\b\b\b\b\b\b\b\b\b\b\b\b\b\b\b\b\b\b\b\b\b\b\b\b\b\b\b\b\b\b\b\b\b\b\b\b\b\r113/113 [==============================] - 48s 426ms/step - loss: 0.3786 - accuracy: 0.8306 - val_loss: 0.5244 - val_accuracy: 0.7621 - lr: 1.0000e-07\n",
            "Epoch 64/80\n",
            "113/113 [==============================] - ETA: 0s - loss: 0.3785 - accuracy: 0.8295"
          ]
        },
        {
          "output_type": "stream",
          "name": "stderr",
          "text": [
            "WARNING:absl:Found untraced functions such as _jit_compiled_convolution_op, _jit_compiled_convolution_op, _jit_compiled_convolution_op, _jit_compiled_convolution_op, _jit_compiled_convolution_op while saving (showing 5 of 104). These functions will not be directly callable after loading.\n"
          ]
        },
        {
          "output_type": "stream",
          "name": "stdout",
          "text": [
            "\b\b\b\b\b\b\b\b\b\b\b\b\b\b\b\b\b\b\b\b\b\b\b\b\b\b\b\b\b\b\b\b\b\b\b\b\b\b\b\b\b\b\b\b\b\b\b\b\b\b\b\b\b\b\b\b\b\b\b\b\b\b\b\b\b\b\b\b\b\b\b\b\b\b\b\b\b\b\b\b\b\b\b\b\r113/113 [==============================] - 49s 435ms/step - loss: 0.3785 - accuracy: 0.8295 - val_loss: 0.5243 - val_accuracy: 0.7614 - lr: 1.0000e-07\n",
            "Epoch 65/80\n",
            "113/113 [==============================] - ETA: 0s - loss: 0.3785 - accuracy: 0.8289"
          ]
        },
        {
          "output_type": "stream",
          "name": "stderr",
          "text": [
            "WARNING:absl:Found untraced functions such as _jit_compiled_convolution_op, _jit_compiled_convolution_op, _jit_compiled_convolution_op, _jit_compiled_convolution_op, _jit_compiled_convolution_op while saving (showing 5 of 104). These functions will not be directly callable after loading.\n"
          ]
        },
        {
          "output_type": "stream",
          "name": "stdout",
          "text": [
            "\b\b\b\b\b\b\b\b\b\b\b\b\b\b\b\b\b\b\b\b\b\b\b\b\b\b\b\b\b\b\b\b\b\b\b\b\b\b\b\b\b\b\b\b\b\b\b\b\b\b\b\b\b\b\b\b\b\b\b\b\b\b\b\b\b\b\b\b\b\b\b\b\b\b\b\b\b\b\b\b\b\b\b\b\r113/113 [==============================] - 48s 426ms/step - loss: 0.3785 - accuracy: 0.8289 - val_loss: 0.5242 - val_accuracy: 0.7614 - lr: 1.0000e-07\n",
            "Epoch 66/80\n",
            "113/113 [==============================] - ETA: 0s - loss: 0.3785 - accuracy: 0.8281"
          ]
        },
        {
          "output_type": "stream",
          "name": "stderr",
          "text": [
            "WARNING:absl:Found untraced functions such as _jit_compiled_convolution_op, _jit_compiled_convolution_op, _jit_compiled_convolution_op, _jit_compiled_convolution_op, _jit_compiled_convolution_op while saving (showing 5 of 104). These functions will not be directly callable after loading.\n"
          ]
        },
        {
          "output_type": "stream",
          "name": "stdout",
          "text": [
            "\b\b\b\b\b\b\b\b\b\b\b\b\b\b\b\b\b\b\b\b\b\b\b\b\b\b\b\b\b\b\b\b\b\b\b\b\b\b\b\b\b\b\b\b\b\b\b\b\b\b\b\b\b\b\b\b\b\b\b\b\b\b\b\b\b\b\b\b\b\b\b\b\b\b\b\b\b\b\b\b\b\b\b\b\r113/113 [==============================] - 48s 431ms/step - loss: 0.3785 - accuracy: 0.8281 - val_loss: 0.5242 - val_accuracy: 0.7614 - lr: 1.0000e-07\n",
            "Epoch 67/80\n",
            "113/113 [==============================] - ETA: 0s - loss: 0.3785 - accuracy: 0.8278"
          ]
        },
        {
          "output_type": "stream",
          "name": "stderr",
          "text": [
            "WARNING:absl:Found untraced functions such as _jit_compiled_convolution_op, _jit_compiled_convolution_op, _jit_compiled_convolution_op, _jit_compiled_convolution_op, _jit_compiled_convolution_op while saving (showing 5 of 104). These functions will not be directly callable after loading.\n"
          ]
        },
        {
          "output_type": "stream",
          "name": "stdout",
          "text": [
            "\b\b\b\b\b\b\b\b\b\b\b\b\b\b\b\b\b\b\b\b\b\b\b\b\b\b\b\b\b\b\b\b\b\b\b\b\b\b\b\b\b\b\b\b\b\b\b\b\b\b\b\b\b\b\b\b\b\b\b\b\b\b\b\b\b\b\b\b\b\b\b\b\b\b\b\b\b\b\b\b\b\b\b\b\r113/113 [==============================] - 49s 433ms/step - loss: 0.3785 - accuracy: 0.8278 - val_loss: 0.5242 - val_accuracy: 0.7621 - lr: 1.0000e-07\n",
            "Epoch 68/80\n",
            "113/113 [==============================] - ETA: 0s - loss: 0.3785 - accuracy: 0.8278"
          ]
        },
        {
          "output_type": "stream",
          "name": "stderr",
          "text": [
            "WARNING:absl:Found untraced functions such as _jit_compiled_convolution_op, _jit_compiled_convolution_op, _jit_compiled_convolution_op, _jit_compiled_convolution_op, _jit_compiled_convolution_op while saving (showing 5 of 104). These functions will not be directly callable after loading.\n"
          ]
        },
        {
          "output_type": "stream",
          "name": "stdout",
          "text": [
            "\b\b\b\b\b\b\b\b\b\b\b\b\b\b\b\b\b\b\b\b\b\b\b\b\b\b\b\b\b\b\b\b\b\b\b\b\b\b\b\b\b\b\b\b\b\b\b\b\b\b\b\b\b\b\b\b\b\b\b\b\b\b\b\b\b\b\b\b\b\b\b\b\b\b\b\b\b\b\b\b\b\b\b\b\r113/113 [==============================] - 48s 426ms/step - loss: 0.3785 - accuracy: 0.8278 - val_loss: 0.5242 - val_accuracy: 0.7621 - lr: 1.0000e-07\n",
            "Epoch 69/80\n",
            "113/113 [==============================] - ETA: 0s - loss: 0.3785 - accuracy: 0.8278"
          ]
        },
        {
          "output_type": "stream",
          "name": "stderr",
          "text": [
            "WARNING:absl:Found untraced functions such as _jit_compiled_convolution_op, _jit_compiled_convolution_op, _jit_compiled_convolution_op, _jit_compiled_convolution_op, _jit_compiled_convolution_op while saving (showing 5 of 104). These functions will not be directly callable after loading.\n"
          ]
        },
        {
          "output_type": "stream",
          "name": "stdout",
          "text": [
            "\b\b\b\b\b\b\b\b\b\b\b\b\b\b\b\b\b\b\b\b\b\b\b\b\b\b\b\b\b\b\b\b\b\b\b\b\b\b\b\b\b\b\b\b\b\b\b\b\b\b\b\b\b\b\b\b\b\b\b\b\b\b\b\b\b\b\b\b\b\b\b\b\b\b\b\b\b\b\b\b\b\b\b\b\r113/113 [==============================] - 49s 438ms/step - loss: 0.3785 - accuracy: 0.8278 - val_loss: 0.5242 - val_accuracy: 0.7621 - lr: 1.0000e-07\n",
            "Epoch 70/80\n",
            "113/113 [==============================] - ETA: 0s - loss: 0.3785 - accuracy: 0.8278"
          ]
        },
        {
          "output_type": "stream",
          "name": "stderr",
          "text": [
            "WARNING:absl:Found untraced functions such as _jit_compiled_convolution_op, _jit_compiled_convolution_op, _jit_compiled_convolution_op, _jit_compiled_convolution_op, _jit_compiled_convolution_op while saving (showing 5 of 104). These functions will not be directly callable after loading.\n"
          ]
        },
        {
          "output_type": "stream",
          "name": "stdout",
          "text": [
            "\b\b\b\b\b\b\b\b\b\b\b\b\b\b\b\b\b\b\b\b\b\b\b\b\b\b\b\b\b\b\b\b\b\b\b\b\b\b\b\b\b\b\b\b\b\b\b\b\b\b\b\b\b\b\b\b\b\b\b\b\b\b\b\b\b\b\b\b\b\b\b\b\b\b\b\b\b\b\b\b\b\b\b\b\r113/113 [==============================] - 48s 431ms/step - loss: 0.3785 - accuracy: 0.8278 - val_loss: 0.5242 - val_accuracy: 0.7621 - lr: 1.0000e-07\n",
            "Epoch 71/80\n",
            "113/113 [==============================] - ETA: 0s - loss: 0.3785 - accuracy: 0.8278"
          ]
        },
        {
          "output_type": "stream",
          "name": "stderr",
          "text": [
            "WARNING:absl:Found untraced functions such as _jit_compiled_convolution_op, _jit_compiled_convolution_op, _jit_compiled_convolution_op, _jit_compiled_convolution_op, _jit_compiled_convolution_op while saving (showing 5 of 104). These functions will not be directly callable after loading.\n"
          ]
        },
        {
          "output_type": "stream",
          "name": "stdout",
          "text": [
            "\b\b\b\b\b\b\b\b\b\b\b\b\b\b\b\b\b\b\b\b\b\b\b\b\b\b\b\b\b\b\b\b\b\b\b\b\b\b\b\b\b\b\b\b\b\b\b\b\b\b\b\b\b\b\b\b\b\b\b\b\b\b\b\b\b\b\b\b\b\b\b\b\b\b\b\b\b\b\b\b\b\b\b\b\r113/113 [==============================] - 48s 431ms/step - loss: 0.3785 - accuracy: 0.8278 - val_loss: 0.5242 - val_accuracy: 0.7621 - lr: 1.0000e-07\n",
            "Epoch 72/80\n",
            "113/113 [==============================] - ETA: 0s - loss: 0.3785 - accuracy: 0.8278"
          ]
        },
        {
          "output_type": "stream",
          "name": "stderr",
          "text": [
            "WARNING:absl:Found untraced functions such as _jit_compiled_convolution_op, _jit_compiled_convolution_op, _jit_compiled_convolution_op, _jit_compiled_convolution_op, _jit_compiled_convolution_op while saving (showing 5 of 104). These functions will not be directly callable after loading.\n"
          ]
        },
        {
          "output_type": "stream",
          "name": "stdout",
          "text": [
            "\b\b\b\b\b\b\b\b\b\b\b\b\b\b\b\b\b\b\b\b\b\b\b\b\b\b\b\b\b\b\b\b\b\b\b\b\b\b\b\b\b\b\b\b\b\b\b\b\b\b\b\b\b\b\b\b\b\b\b\b\b\b\b\b\b\b\b\b\b\b\b\b\b\b\b\b\b\b\b\b\b\b\b\b\r113/113 [==============================] - 48s 425ms/step - loss: 0.3785 - accuracy: 0.8278 - val_loss: 0.5242 - val_accuracy: 0.7621 - lr: 1.0000e-07\n",
            "Epoch 73/80\n",
            "113/113 [==============================] - ETA: 0s - loss: 0.3785 - accuracy: 0.8278"
          ]
        },
        {
          "output_type": "stream",
          "name": "stderr",
          "text": [
            "WARNING:absl:Found untraced functions such as _jit_compiled_convolution_op, _jit_compiled_convolution_op, _jit_compiled_convolution_op, _jit_compiled_convolution_op, _jit_compiled_convolution_op while saving (showing 5 of 104). These functions will not be directly callable after loading.\n"
          ]
        },
        {
          "output_type": "stream",
          "name": "stdout",
          "text": [
            "\b\b\b\b\b\b\b\b\b\b\b\b\b\b\b\b\b\b\b\b\b\b\b\b\b\b\b\b\b\b\b\b\b\b\b\b\b\b\b\b\b\b\b\b\b\b\b\b\b\b\b\b\b\b\b\b\b\b\b\b\b\b\b\b\b\b\b\b\b\b\b\b\b\b\b\b\b\b\b\b\b\b\b\b\r113/113 [==============================] - 48s 428ms/step - loss: 0.3785 - accuracy: 0.8278 - val_loss: 0.5242 - val_accuracy: 0.7621 - lr: 1.0000e-07\n",
            "Epoch 74/80\n",
            "113/113 [==============================] - ETA: 0s - loss: 0.3785 - accuracy: 0.8278"
          ]
        },
        {
          "output_type": "stream",
          "name": "stderr",
          "text": [
            "WARNING:absl:Found untraced functions such as _jit_compiled_convolution_op, _jit_compiled_convolution_op, _jit_compiled_convolution_op, _jit_compiled_convolution_op, _jit_compiled_convolution_op while saving (showing 5 of 104). These functions will not be directly callable after loading.\n"
          ]
        },
        {
          "output_type": "stream",
          "name": "stdout",
          "text": [
            "\b\b\b\b\b\b\b\b\b\b\b\b\b\b\b\b\b\b\b\b\b\b\b\b\b\b\b\b\b\b\b\b\b\b\b\b\b\b\b\b\b\b\b\b\b\b\b\b\b\b\b\b\b\b\b\b\b\b\b\b\b\b\b\b\b\b\b\b\b\b\b\b\b\b\b\b\b\b\b\b\b\b\b\b\r113/113 [==============================] - 48s 431ms/step - loss: 0.3785 - accuracy: 0.8278 - val_loss: 0.5242 - val_accuracy: 0.7621 - lr: 1.0000e-07\n",
            "Epoch 75/80\n",
            "113/113 [==============================] - ETA: 0s - loss: 0.3785 - accuracy: 0.8278"
          ]
        },
        {
          "output_type": "stream",
          "name": "stderr",
          "text": [
            "WARNING:absl:Found untraced functions such as _jit_compiled_convolution_op, _jit_compiled_convolution_op, _jit_compiled_convolution_op, _jit_compiled_convolution_op, _jit_compiled_convolution_op while saving (showing 5 of 104). These functions will not be directly callable after loading.\n"
          ]
        },
        {
          "output_type": "stream",
          "name": "stdout",
          "text": [
            "\b\b\b\b\b\b\b\b\b\b\b\b\b\b\b\b\b\b\b\b\b\b\b\b\b\b\b\b\b\b\b\b\b\b\b\b\b\b\b\b\b\b\b\b\b\b\b\b\b\b\b\b\b\b\b\b\b\b\b\b\b\b\b\b\b\b\b\b\b\b\b\b\b\b\b\b\b\b\b\b\b\b\b\b\r113/113 [==============================] - 49s 436ms/step - loss: 0.3785 - accuracy: 0.8278 - val_loss: 0.5242 - val_accuracy: 0.7621 - lr: 1.0000e-07\n",
            "Epoch 76/80\n",
            "113/113 [==============================] - 5s 41ms/step - loss: 0.3783 - accuracy: 0.8278 - val_loss: 0.5242 - val_accuracy: 0.7621 - lr: 1.0000e-08\n",
            "Epoch 77/80\n",
            "113/113 [==============================] - 5s 41ms/step - loss: 0.3783 - accuracy: 0.8278 - val_loss: 0.5242 - val_accuracy: 0.7621 - lr: 1.0000e-08\n",
            "Epoch 78/80\n",
            "113/113 [==============================] - 5s 41ms/step - loss: 0.3783 - accuracy: 0.8278 - val_loss: 0.5242 - val_accuracy: 0.7621 - lr: 1.0000e-08\n",
            "Epoch 79/80\n",
            "113/113 [==============================] - 5s 41ms/step - loss: 0.3783 - accuracy: 0.8278 - val_loss: 0.5242 - val_accuracy: 0.7621 - lr: 1.0000e-08\n",
            "Epoch 80/80\n",
            "113/113 [==============================] - 5s 41ms/step - loss: 0.3783 - accuracy: 0.8278 - val_loss: 0.5242 - val_accuracy: 0.7621 - lr: 1.0000e-08\n"
          ]
        }
      ]
    },
    {
      "cell_type": "code",
      "source": [
        "inception_v3_frozen.trainable = True\n",
        "\n",
        "for layer in inception_v3_frozen.layers[:-40]:\n",
        "    layer.trainable = False"
      ],
      "metadata": {
        "id": "D35rqBf0JQCl"
      },
      "execution_count": null,
      "outputs": []
    },
    {
      "cell_type": "code",
      "source": [
        "inception_v3_frozen_markov.compile(loss=tf.keras.losses.BinaryCrossentropy(),\n",
        "                          optimizer=tf.keras.optimizers.Adam(),\n",
        "                          metrics=[\"accuracy\"])\n",
        "\n",
        "inception_v3_frozen_markov.summary()"
      ],
      "metadata": {
        "colab": {
          "base_uri": "https://localhost:8080/"
        },
        "id": "sNrH-6HGK7ds",
        "outputId": "3e98d037-8363-4516-d26f-49ccc7b7bc5f"
      },
      "execution_count": null,
      "outputs": [
        {
          "output_type": "stream",
          "name": "stdout",
          "text": [
            "Model: \"inception_v3_frozen_markov\"\n",
            "_________________________________________________________________\n",
            " Layer (type)                Output Shape              Param #   \n",
            "=================================================================\n",
            " input_10 (InputLayer)       [(None, 175, 175, 3)]     0         \n",
            "                                                                 \n",
            " inception_v3 (Functional)   (None, 4, 4, 2048)        21802784  \n",
            "                                                                 \n",
            " flatten_5 (Flatten)         (None, 32768)             0         \n",
            "                                                                 \n",
            " dense_5 (Dense)             (None, 1)                 32769     \n",
            "                                                                 \n",
            "=================================================================\n",
            "Total params: 21,835,553\n",
            "Trainable params: 6,106,497\n",
            "Non-trainable params: 15,729,056\n",
            "_________________________________________________________________\n"
          ]
        }
      ]
    },
    {
      "cell_type": "code",
      "source": [
        "inception_v3_frozen_history_markov = inception_v3_frozen_markov.fit(train_ds_markov, \n",
        "                                                                    initial_epoch=40, \n",
        "                                                                    validation_data=test_ds_markov, \n",
        "                                                                    epochs=80, \n",
        "                                                                    callbacks=callbacks(inception_v3_frozen_markov))"
      ],
      "metadata": {
        "colab": {
          "base_uri": "https://localhost:8080/"
        },
        "id": "EYfPvH9cLE1q",
        "outputId": "88392fb8-b852-467a-c259-e86e7e9b6671"
      },
      "execution_count": null,
      "outputs": [
        {
          "output_type": "stream",
          "name": "stdout",
          "text": [
            "Epoch 41/80\n",
            "112/113 [============================>.] - ETA: 0s - loss: 3.0548 - accuracy: 0.6772"
          ]
        },
        {
          "output_type": "stream",
          "name": "stderr",
          "text": [
            "WARNING:absl:Found untraced functions such as _jit_compiled_convolution_op, _jit_compiled_convolution_op, _jit_compiled_convolution_op, _jit_compiled_convolution_op, _jit_compiled_convolution_op while saving (showing 5 of 94). These functions will not be directly callable after loading.\n"
          ]
        },
        {
          "output_type": "stream",
          "name": "stdout",
          "text": [
            "\b\b\b\b\b\b\b\b\b\b\b\b\b\b\b\b\b\b\b\b\b\b\b\b\b\b\b\b\b\b\b\b\b\b\b\b\b\b\b\b\b\b\b\b\b\b\b\b\b\b\b\b\b\b\b\b\b\b\b\b\b\b\b\b\b\b\b\b\b\b\b\b\b\b\b\b\b\b\b\b\b\b\b\b\r113/113 [==============================] - 47s 373ms/step - loss: 3.0454 - accuracy: 0.6779 - val_loss: 1.5249 - val_accuracy: 0.6788 - lr: 0.0010\n",
            "Epoch 42/80\n",
            "111/113 [============================>.] - ETA: 0s - loss: 0.6846 - accuracy: 0.8086"
          ]
        },
        {
          "output_type": "stream",
          "name": "stderr",
          "text": [
            "WARNING:absl:Found untraced functions such as _jit_compiled_convolution_op, _jit_compiled_convolution_op, _jit_compiled_convolution_op, _jit_compiled_convolution_op, _jit_compiled_convolution_op while saving (showing 5 of 94). These functions will not be directly callable after loading.\n"
          ]
        },
        {
          "output_type": "stream",
          "name": "stdout",
          "text": [
            "\b\b\b\b\b\b\b\b\b\b\b\b\b\b\b\b\b\b\b\b\b\b\b\b\b\b\b\b\b\b\b\b\b\b\b\b\b\b\b\b\b\b\b\b\b\b\b\b\b\b\b\b\b\b\b\b\b\b\b\b\b\b\b\b\b\b\b\b\b\b\b\b\b\b\b\b\b\b\b\b\b\b\b\b\r113/113 [==============================] - 39s 351ms/step - loss: 0.6807 - accuracy: 0.8098 - val_loss: 1.0571 - val_accuracy: 0.7455 - lr: 0.0010\n",
            "Epoch 43/80\n",
            "113/113 [==============================] - 4s 32ms/step - loss: 0.2672 - accuracy: 0.9114 - val_loss: 1.4091 - val_accuracy: 0.7303 - lr: 0.0010\n",
            "Epoch 44/80\n",
            "113/113 [==============================] - 4s 33ms/step - loss: 0.2724 - accuracy: 0.9231 - val_loss: 2.3708 - val_accuracy: 0.6871 - lr: 0.0010\n",
            "Epoch 45/80\n",
            "113/113 [==============================] - 4s 34ms/step - loss: 0.3950 - accuracy: 0.9086 - val_loss: 2.1125 - val_accuracy: 0.7371 - lr: 0.0010\n",
            "Epoch 46/80\n",
            "113/113 [==============================] - 4s 33ms/step - loss: 0.4521 - accuracy: 0.8948 - val_loss: 2.1884 - val_accuracy: 0.7182 - lr: 0.0010\n",
            "Epoch 47/80\n",
            "113/113 [==============================] - 4s 33ms/step - loss: 0.4612 - accuracy: 0.8945 - val_loss: 2.1962 - val_accuracy: 0.7015 - lr: 0.0010\n",
            "Epoch 48/80\n",
            "113/113 [==============================] - 4s 33ms/step - loss: 0.2504 - accuracy: 0.9359 - val_loss: 1.9758 - val_accuracy: 0.7492 - lr: 0.0010\n",
            "Epoch 49/80\n",
            "113/113 [==============================] - 4s 33ms/step - loss: 0.0252 - accuracy: 0.9908 - val_loss: 1.6941 - val_accuracy: 0.7439 - lr: 0.0010\n",
            "Epoch 50/80\n",
            "113/113 [==============================] - 4s 32ms/step - loss: 0.0057 - accuracy: 0.9981 - val_loss: 1.6543 - val_accuracy: 0.7515 - lr: 0.0010\n",
            "Epoch 51/80\n",
            "113/113 [==============================] - 4s 33ms/step - loss: 0.0029 - accuracy: 0.9986 - val_loss: 1.5185 - val_accuracy: 0.7500 - lr: 0.0010\n",
            "Epoch 52/80\n",
            "113/113 [==============================] - 4s 32ms/step - loss: 3.7112e-04 - accuracy: 1.0000 - val_loss: 1.5407 - val_accuracy: 0.7500 - lr: 0.0010\n",
            "Epoch 53/80\n",
            "113/113 [==============================] - 4s 33ms/step - loss: 2.4556e-04 - accuracy: 1.0000 - val_loss: 1.5483 - val_accuracy: 0.7500 - lr: 1.0000e-04\n",
            "Epoch 54/80\n",
            "113/113 [==============================] - 4s 33ms/step - loss: 2.4067e-04 - accuracy: 1.0000 - val_loss: 1.5515 - val_accuracy: 0.7477 - lr: 1.0000e-04\n",
            "Epoch 55/80\n",
            "113/113 [==============================] - 4s 33ms/step - loss: 2.3579e-04 - accuracy: 1.0000 - val_loss: 1.5533 - val_accuracy: 0.7485 - lr: 1.0000e-04\n",
            "Epoch 56/80\n",
            "113/113 [==============================] - 4s 33ms/step - loss: 2.3087e-04 - accuracy: 1.0000 - val_loss: 1.5546 - val_accuracy: 0.7477 - lr: 1.0000e-04\n",
            "Epoch 57/80\n",
            "113/113 [==============================] - 4s 33ms/step - loss: 2.2591e-04 - accuracy: 1.0000 - val_loss: 1.5559 - val_accuracy: 0.7485 - lr: 1.0000e-04\n",
            "Epoch 58/80\n",
            "113/113 [==============================] - 4s 34ms/step - loss: 2.2091e-04 - accuracy: 1.0000 - val_loss: 1.5571 - val_accuracy: 0.7492 - lr: 1.0000e-04\n",
            "Epoch 59/80\n",
            "113/113 [==============================] - 4s 34ms/step - loss: 2.1593e-04 - accuracy: 1.0000 - val_loss: 1.5584 - val_accuracy: 0.7492 - lr: 1.0000e-04\n",
            "Epoch 60/80\n",
            "113/113 [==============================] - 4s 33ms/step - loss: 2.1091e-04 - accuracy: 1.0000 - val_loss: 1.5597 - val_accuracy: 0.7492 - lr: 1.0000e-04\n",
            "Epoch 61/80\n",
            "113/113 [==============================] - 4s 33ms/step - loss: 2.0589e-04 - accuracy: 1.0000 - val_loss: 1.5610 - val_accuracy: 0.7492 - lr: 1.0000e-04\n",
            "Epoch 62/80\n",
            "113/113 [==============================] - 4s 33ms/step - loss: 2.0091e-04 - accuracy: 1.0000 - val_loss: 1.5624 - val_accuracy: 0.7492 - lr: 1.0000e-04\n",
            "Epoch 63/80\n",
            "113/113 [==============================] - 4s 33ms/step - loss: 1.9620e-04 - accuracy: 1.0000 - val_loss: 1.5630 - val_accuracy: 0.7492 - lr: 1.0000e-05\n",
            "Epoch 64/80\n",
            "113/113 [==============================] - 4s 33ms/step - loss: 1.9569e-04 - accuracy: 1.0000 - val_loss: 1.5632 - val_accuracy: 0.7492 - lr: 1.0000e-05\n",
            "Epoch 65/80\n",
            "113/113 [==============================] - 4s 33ms/step - loss: 1.9515e-04 - accuracy: 1.0000 - val_loss: 1.5635 - val_accuracy: 0.7492 - lr: 1.0000e-05\n",
            "Epoch 66/80\n",
            "113/113 [==============================] - 4s 34ms/step - loss: 1.9458e-04 - accuracy: 1.0000 - val_loss: 1.5636 - val_accuracy: 0.7492 - lr: 1.0000e-05\n",
            "Epoch 67/80\n",
            "113/113 [==============================] - 4s 34ms/step - loss: 1.9400e-04 - accuracy: 1.0000 - val_loss: 1.5638 - val_accuracy: 0.7492 - lr: 1.0000e-05\n",
            "Epoch 68/80\n",
            "113/113 [==============================] - 4s 34ms/step - loss: 1.9336e-04 - accuracy: 1.0000 - val_loss: 1.5640 - val_accuracy: 0.7492 - lr: 1.0000e-05\n",
            "Epoch 69/80\n",
            "113/113 [==============================] - 4s 33ms/step - loss: 1.9270e-04 - accuracy: 1.0000 - val_loss: 1.5642 - val_accuracy: 0.7500 - lr: 1.0000e-05\n",
            "Epoch 70/80\n",
            "113/113 [==============================] - 4s 33ms/step - loss: 1.9201e-04 - accuracy: 1.0000 - val_loss: 1.5644 - val_accuracy: 0.7500 - lr: 1.0000e-05\n",
            "Epoch 71/80\n",
            "113/113 [==============================] - 4s 33ms/step - loss: 1.9130e-04 - accuracy: 1.0000 - val_loss: 1.5647 - val_accuracy: 0.7500 - lr: 1.0000e-05\n",
            "Epoch 72/80\n",
            "113/113 [==============================] - 4s 33ms/step - loss: 1.9055e-04 - accuracy: 1.0000 - val_loss: 1.5649 - val_accuracy: 0.7500 - lr: 1.0000e-05\n",
            "Epoch 73/80\n",
            "113/113 [==============================] - 4s 33ms/step - loss: 1.8979e-04 - accuracy: 1.0000 - val_loss: 1.5650 - val_accuracy: 0.7500 - lr: 1.0000e-06\n",
            "Epoch 74/80\n",
            "113/113 [==============================] - 4s 33ms/step - loss: 1.8971e-04 - accuracy: 1.0000 - val_loss: 1.5651 - val_accuracy: 0.7500 - lr: 1.0000e-06\n",
            "Epoch 75/80\n",
            "113/113 [==============================] - 4s 33ms/step - loss: 1.8962e-04 - accuracy: 1.0000 - val_loss: 1.5651 - val_accuracy: 0.7500 - lr: 1.0000e-06\n",
            "Epoch 76/80\n",
            "113/113 [==============================] - 4s 33ms/step - loss: 1.8954e-04 - accuracy: 1.0000 - val_loss: 1.5651 - val_accuracy: 0.7500 - lr: 1.0000e-06\n",
            "Epoch 77/80\n",
            "113/113 [==============================] - 4s 33ms/step - loss: 1.8944e-04 - accuracy: 1.0000 - val_loss: 1.5652 - val_accuracy: 0.7500 - lr: 1.0000e-06\n",
            "Epoch 78/80\n",
            "113/113 [==============================] - 4s 34ms/step - loss: 1.8934e-04 - accuracy: 1.0000 - val_loss: 1.5652 - val_accuracy: 0.7500 - lr: 1.0000e-06\n",
            "Epoch 79/80\n",
            "113/113 [==============================] - 4s 33ms/step - loss: 1.8923e-04 - accuracy: 1.0000 - val_loss: 1.5652 - val_accuracy: 0.7500 - lr: 1.0000e-06\n",
            "Epoch 80/80\n",
            "113/113 [==============================] - 4s 34ms/step - loss: 1.8911e-04 - accuracy: 1.0000 - val_loss: 1.5653 - val_accuracy: 0.7500 - lr: 1.0000e-06\n"
          ]
        }
      ]
    },
    {
      "cell_type": "markdown",
      "source": [
        "### Gramian Angular Field approach\n",
        "\n",
        "It should be here, but accordingly to the results of transfer learning above, it's not much help, so there is a little chance for improving the results of loss or accuracy. So, we will pass this stage, and progress to the Custom Conv Net."
      ],
      "metadata": {
        "id": "6cJQZH8ME3Ql"
      }
    },
    {
      "cell_type": "code",
      "source": [
        "# resnet_frozen_gramian = transfer_learning_model(resnet_101_frozen, \"resnet101_frozen_gramian\")\n",
        "# inception_v3_frozen_gramian = transfer_learning_model(inception_v3_frozen, \"inception_v43frozen_gramian\")"
      ],
      "metadata": {
        "id": "f24NN6CvE5lv"
      },
      "execution_count": null,
      "outputs": []
    },
    {
      "cell_type": "code",
      "source": [],
      "metadata": {
        "id": "QJNKuuGOWhMs"
      },
      "execution_count": null,
      "outputs": []
    },
    {
      "cell_type": "code",
      "source": [],
      "metadata": {
        "id": "WPLlavmIWhPq"
      },
      "execution_count": null,
      "outputs": []
    },
    {
      "cell_type": "markdown",
      "source": [
        "# 4. Scoring and comparing models\n",
        "\n",
        "So, at this moment we have following models:\n",
        "> 1. Trainable Resnet101 fitted on Gramian and Markov Data\n",
        "> 2. Trainable Inception v3 fitted on Gramian and Markov Data\n",
        "> 3. Feature extraction from Resnet101 fitted on Markov Data\n",
        "> 4. Feature extraction from Inception v3 fitted on Markov Data\n",
        "\n",
        "We discarded experiments on feature extraction, cause as seen on a Markov Data, it doesn't help anyway. So below, will draw some charts, to test and evaluate all the models."
      ],
      "metadata": {
        "id": "O4IgZFlGXL4g"
      }
    },
    {
      "cell_type": "code",
      "source": [
        "# Create function for scoring metrics\n",
        "from sklearn.metrics import f1_score, accuracy_score, recall_score, precision_score\n",
        "\n",
        "def score(y_true, y_preds):\n",
        "\n",
        "    dict = {\"acc\": accuracy_score(y_true, y_preds),\n",
        "            \"precision\": precision_score(y_true, y_preds, average='weighted'),\n",
        "            \"recall\": recall_score(y_true, y_preds, average='weighted'),\n",
        "            \"f1_score\": f1_score(y_true, y_preds, average='weighted')}\n",
        "\n",
        "    return dict"
      ],
      "metadata": {
        "id": "pxRKjFGEsi-L"
      },
      "execution_count": null,
      "outputs": []
    },
    {
      "cell_type": "code",
      "source": [
        "# MODELS\n",
        "# resnet_history\n",
        "# inception_v3_history\n",
        "# resnet_history_gramian\n",
        "# incpv3_history_gramian\n",
        "# resnet_frozen_history_markov\n",
        "# inception_v3_frozen_history_markov\n",
        "\n"
      ],
      "metadata": {
        "id": "VT1g--0mYl3p"
      },
      "execution_count": null,
      "outputs": []
    },
    {
      "cell_type": "code",
      "source": [
        "def predict_and_score(model, test_dataset):\n",
        "\n",
        "    predictions = model.predict(test_dataset)\n",
        "\n",
        "    return score(y_true, np.round(predictions)), predictions\n",
        "\n",
        "y_true = y_test_FordA"
      ],
      "metadata": {
        "id": "mxcKjqIWZL35"
      },
      "execution_count": null,
      "outputs": []
    },
    {
      "cell_type": "code",
      "source": [
        "resnet_markov_loaded = tf.keras.models.load_model(\"/content/gdrive/MyDrive/AI_ML/Experiments/TimeSeriesImaging/resnet101\", compile=True)\n",
        "inception_v3_markov_loaded = tf.keras.models.load_model(\"/content/gdrive/MyDrive/AI_ML/Experiments/TimeSeriesImaging/inception_v3\", compile=True)"
      ],
      "metadata": {
        "id": "LMbYxRAMxevm"
      },
      "execution_count": null,
      "outputs": []
    },
    {
      "cell_type": "code",
      "source": [
        "# Resnet model on Markov and Gramian Datasets\n",
        "markov_resnet_score, markov_resnet_preds = predict_and_score(resnet_markov_loaded, test_ds_markov)\n",
        "gramian_resnet_score, markov_resnet_preds = predict_and_score(resnet_gramian, test_ds_gramian)"
      ],
      "metadata": {
        "colab": {
          "base_uri": "https://localhost:8080/"
        },
        "id": "x3ZDlagVZvom",
        "outputId": "3b3a925d-9a0f-4c04-8440-d9903211117c"
      },
      "execution_count": null,
      "outputs": [
        {
          "output_type": "stream",
          "name": "stdout",
          "text": [
            "42/42 [==============================] - 2s 23ms/step\n",
            "42/42 [==============================] - 1s 26ms/step\n"
          ]
        }
      ]
    },
    {
      "cell_type": "code",
      "source": [
        "# Inception v3 model on Markov and Gramian Datasets\n",
        "markov_inc_v3_score, markov_inc_v3_preds = predict_and_score(inception_v3_markov_loaded, test_ds_markov)\n",
        "gramian_inc_v3_score, markov_inc_v3_preds = predict_and_score(inception_v3_gramian, test_ds_gramian)"
      ],
      "metadata": {
        "colab": {
          "base_uri": "https://localhost:8080/"
        },
        "id": "Zh8JMFOKaLJZ",
        "outputId": "38ad285a-b00c-41c2-88a9-57039cb00947"
      },
      "execution_count": null,
      "outputs": [
        {
          "output_type": "stream",
          "name": "stdout",
          "text": [
            "42/42 [==============================] - 2s 22ms/step\n",
            "42/42 [==============================] - 1s 21ms/step\n"
          ]
        }
      ]
    },
    {
      "cell_type": "code",
      "source": [
        "markov_resnet_FE_score, markov_resnet_FE_preds = predict_and_score(resnet_frozen_markov, test_ds_markov)\n",
        "markov_inc_v3_FE_score, markov_inc_v3_FE_preds = predict_and_score(inception_v3_frozen_markov, test_ds_markov)"
      ],
      "metadata": {
        "colab": {
          "base_uri": "https://localhost:8080/"
        },
        "id": "l12dcWiUafDP",
        "outputId": "274ee806-6b0c-4512-f0c7-68532efb6445"
      },
      "execution_count": null,
      "outputs": [
        {
          "output_type": "stream",
          "name": "stdout",
          "text": [
            "42/42 [==============================] - 1s 26ms/step\n",
            "42/42 [==============================] - 1s 21ms/step\n"
          ]
        }
      ]
    },
    {
      "cell_type": "code",
      "source": [
        "import pandas as pd\n",
        "\n",
        "pd.DataFrame({\"Markov Resnet\":markov_resnet_score, \n",
        "              \"Gramian Resnet\":gramian_resnet_score, \n",
        "              \"Markov Inception v3\":markov_inc_v3_score, \n",
        "              \"Gramian Inception v3\":gramian_inc_v3_score, \n",
        "              \"Markov FE Resnet\":markov_resnet_FE_score,\n",
        "              \"Markov FE Inception v3\":markov_inc_v3_FE_score})"
      ],
      "metadata": {
        "id": "cBzwpJ8AyjFH",
        "colab": {
          "base_uri": "https://localhost:8080/",
          "height": 175
        },
        "outputId": "02375995-084a-41b6-90cc-20dd69af202c"
      },
      "execution_count": null,
      "outputs": [
        {
          "output_type": "execute_result",
          "data": {
            "text/plain": [
              "           Markov Resnet  Gramian Resnet  Markov Inception v3  \\\n",
              "acc             0.912879        0.923485             0.907576   \n",
              "precision       0.913224        0.923759             0.912471   \n",
              "recall          0.912879        0.923485             0.907576   \n",
              "f1_score        0.912900        0.923503             0.907117   \n",
              "\n",
              "           Gramian Inception v3  Markov FE Resnet  Markov FE Inception v3  \n",
              "acc                    0.919697          0.762121                0.750000  \n",
              "precision              0.921409          0.762193                0.750255  \n",
              "recall                 0.919697          0.762121                0.750000  \n",
              "f1_score               0.919522          0.761904                0.749628  "
            ],
            "text/html": [
              "\n",
              "  <div id=\"df-40fb8268-d26c-4633-8acf-1d168a247d65\">\n",
              "    <div class=\"colab-df-container\">\n",
              "      <div>\n",
              "<style scoped>\n",
              "    .dataframe tbody tr th:only-of-type {\n",
              "        vertical-align: middle;\n",
              "    }\n",
              "\n",
              "    .dataframe tbody tr th {\n",
              "        vertical-align: top;\n",
              "    }\n",
              "\n",
              "    .dataframe thead th {\n",
              "        text-align: right;\n",
              "    }\n",
              "</style>\n",
              "<table border=\"1\" class=\"dataframe\">\n",
              "  <thead>\n",
              "    <tr style=\"text-align: right;\">\n",
              "      <th></th>\n",
              "      <th>Markov Resnet</th>\n",
              "      <th>Gramian Resnet</th>\n",
              "      <th>Markov Inception v3</th>\n",
              "      <th>Gramian Inception v3</th>\n",
              "      <th>Markov FE Resnet</th>\n",
              "      <th>Markov FE Inception v3</th>\n",
              "    </tr>\n",
              "  </thead>\n",
              "  <tbody>\n",
              "    <tr>\n",
              "      <th>acc</th>\n",
              "      <td>0.912879</td>\n",
              "      <td>0.923485</td>\n",
              "      <td>0.907576</td>\n",
              "      <td>0.919697</td>\n",
              "      <td>0.762121</td>\n",
              "      <td>0.750000</td>\n",
              "    </tr>\n",
              "    <tr>\n",
              "      <th>precision</th>\n",
              "      <td>0.913224</td>\n",
              "      <td>0.923759</td>\n",
              "      <td>0.912471</td>\n",
              "      <td>0.921409</td>\n",
              "      <td>0.762193</td>\n",
              "      <td>0.750255</td>\n",
              "    </tr>\n",
              "    <tr>\n",
              "      <th>recall</th>\n",
              "      <td>0.912879</td>\n",
              "      <td>0.923485</td>\n",
              "      <td>0.907576</td>\n",
              "      <td>0.919697</td>\n",
              "      <td>0.762121</td>\n",
              "      <td>0.750000</td>\n",
              "    </tr>\n",
              "    <tr>\n",
              "      <th>f1_score</th>\n",
              "      <td>0.912900</td>\n",
              "      <td>0.923503</td>\n",
              "      <td>0.907117</td>\n",
              "      <td>0.919522</td>\n",
              "      <td>0.761904</td>\n",
              "      <td>0.749628</td>\n",
              "    </tr>\n",
              "  </tbody>\n",
              "</table>\n",
              "</div>\n",
              "      <button class=\"colab-df-convert\" onclick=\"convertToInteractive('df-40fb8268-d26c-4633-8acf-1d168a247d65')\"\n",
              "              title=\"Convert this dataframe to an interactive table.\"\n",
              "              style=\"display:none;\">\n",
              "        \n",
              "  <svg xmlns=\"http://www.w3.org/2000/svg\" height=\"24px\"viewBox=\"0 0 24 24\"\n",
              "       width=\"24px\">\n",
              "    <path d=\"M0 0h24v24H0V0z\" fill=\"none\"/>\n",
              "    <path d=\"M18.56 5.44l.94 2.06.94-2.06 2.06-.94-2.06-.94-.94-2.06-.94 2.06-2.06.94zm-11 1L8.5 8.5l.94-2.06 2.06-.94-2.06-.94L8.5 2.5l-.94 2.06-2.06.94zm10 10l.94 2.06.94-2.06 2.06-.94-2.06-.94-.94-2.06-.94 2.06-2.06.94z\"/><path d=\"M17.41 7.96l-1.37-1.37c-.4-.4-.92-.59-1.43-.59-.52 0-1.04.2-1.43.59L10.3 9.45l-7.72 7.72c-.78.78-.78 2.05 0 2.83L4 21.41c.39.39.9.59 1.41.59.51 0 1.02-.2 1.41-.59l7.78-7.78 2.81-2.81c.8-.78.8-2.07 0-2.86zM5.41 20L4 18.59l7.72-7.72 1.47 1.35L5.41 20z\"/>\n",
              "  </svg>\n",
              "      </button>\n",
              "      \n",
              "  <style>\n",
              "    .colab-df-container {\n",
              "      display:flex;\n",
              "      flex-wrap:wrap;\n",
              "      gap: 12px;\n",
              "    }\n",
              "\n",
              "    .colab-df-convert {\n",
              "      background-color: #E8F0FE;\n",
              "      border: none;\n",
              "      border-radius: 50%;\n",
              "      cursor: pointer;\n",
              "      display: none;\n",
              "      fill: #1967D2;\n",
              "      height: 32px;\n",
              "      padding: 0 0 0 0;\n",
              "      width: 32px;\n",
              "    }\n",
              "\n",
              "    .colab-df-convert:hover {\n",
              "      background-color: #E2EBFA;\n",
              "      box-shadow: 0px 1px 2px rgba(60, 64, 67, 0.3), 0px 1px 3px 1px rgba(60, 64, 67, 0.15);\n",
              "      fill: #174EA6;\n",
              "    }\n",
              "\n",
              "    [theme=dark] .colab-df-convert {\n",
              "      background-color: #3B4455;\n",
              "      fill: #D2E3FC;\n",
              "    }\n",
              "\n",
              "    [theme=dark] .colab-df-convert:hover {\n",
              "      background-color: #434B5C;\n",
              "      box-shadow: 0px 1px 3px 1px rgba(0, 0, 0, 0.15);\n",
              "      filter: drop-shadow(0px 1px 2px rgba(0, 0, 0, 0.3));\n",
              "      fill: #FFFFFF;\n",
              "    }\n",
              "  </style>\n",
              "\n",
              "      <script>\n",
              "        const buttonEl =\n",
              "          document.querySelector('#df-40fb8268-d26c-4633-8acf-1d168a247d65 button.colab-df-convert');\n",
              "        buttonEl.style.display =\n",
              "          google.colab.kernel.accessAllowed ? 'block' : 'none';\n",
              "\n",
              "        async function convertToInteractive(key) {\n",
              "          const element = document.querySelector('#df-40fb8268-d26c-4633-8acf-1d168a247d65');\n",
              "          const dataTable =\n",
              "            await google.colab.kernel.invokeFunction('convertToInteractive',\n",
              "                                                     [key], {});\n",
              "          if (!dataTable) return;\n",
              "\n",
              "          const docLinkHtml = 'Like what you see? Visit the ' +\n",
              "            '<a target=\"_blank\" href=https://colab.research.google.com/notebooks/data_table.ipynb>data table notebook</a>'\n",
              "            + ' to learn more about interactive tables.';\n",
              "          element.innerHTML = '';\n",
              "          dataTable['output_type'] = 'display_data';\n",
              "          await google.colab.output.renderOutput(dataTable, element);\n",
              "          const docLink = document.createElement('div');\n",
              "          docLink.innerHTML = docLinkHtml;\n",
              "          element.appendChild(docLink);\n",
              "        }\n",
              "      </script>\n",
              "    </div>\n",
              "  </div>\n",
              "  "
            ]
          },
          "metadata": {},
          "execution_count": 57
        }
      ]
    },
    {
      "cell_type": "code",
      "source": [
        "loss = resnet_history_gramian.history[\"loss\"]\n",
        "acc = resnet_history_gramian.history[\"accuracy\"]\n",
        "val_loss = resnet_history_gramian.history[\"val_loss\"]\n",
        "val_acc = resnet_history_gramian.history[\"val_accuracy\"]\n",
        "epochs_count = np.arange(0,40)"
      ],
      "metadata": {
        "id": "0EKJ4haQzO3a"
      },
      "execution_count": null,
      "outputs": []
    },
    {
      "cell_type": "code",
      "source": [],
      "metadata": {
        "colab": {
          "base_uri": "https://localhost:8080/"
        },
        "id": "u1JpGZbf0Qnz",
        "outputId": "f5edef3c-5d0f-4c77-b043-22c54d48452b"
      },
      "execution_count": null,
      "outputs": [
        {
          "output_type": "execute_result",
          "data": {
            "text/plain": [
              "array([ 0,  1,  2,  3,  4,  5,  6,  7,  8,  9, 10, 11, 12, 13, 14, 15, 16,\n",
              "       17, 18, 19, 20, 21, 22, 23, 24, 25, 26, 27, 28, 29, 30, 31, 32, 33,\n",
              "       34, 35, 36, 37, 38, 39])"
            ]
          },
          "metadata": {},
          "execution_count": 74
        }
      ]
    },
    {
      "cell_type": "code",
      "source": [
        "#And let's plot the best solution\n",
        "\n",
        "fig,ax = plt.subplots(figsize=(20,12))\n",
        "plt.title(\"Resnet on GASF\")\n",
        "ax.plot(epochs_count, loss, label=\"train_loss\")\n",
        "ax.plot(epochs_count, val_loss, label=\"val_loss\", c=\"orange\")\n",
        "ax.set(xlim=(0, 40), ylim=(0, 5))\n",
        "\n",
        "ax1 = ax.twinx()\n",
        "\n",
        "ax1.plot(epochs_count, acc, label=\"train_acc\", c=\"green\")\n",
        "ax1.plot(epochs_count, val_acc, label=\"val_acc\", c=\"purple\")\n",
        "\n",
        "ax.legend(loc=\"upper left\")\n",
        "ax1.legend(loc=\"upper right\")\n",
        "\n",
        "plt.grid()\n",
        "plt.show()"
      ],
      "metadata": {
        "colab": {
          "base_uri": "https://localhost:8080/",
          "height": 716
        },
        "id": "y4gpVWOXz1EN",
        "outputId": "a2401582-18b7-43e5-d270-be716654e2db"
      },
      "execution_count": null,
      "outputs": [
        {
          "output_type": "display_data",
          "data": {
            "text/plain": [
              "<Figure size 1440x864 with 2 Axes>"
            ],
            "image/png": "[encoded data removed]"
          },
          "metadata": {
            "needs_background": "light"
          }
        }
      ]
    },
    {
      "cell_type": "markdown",
      "source": [
        "#6. Final thoughts\n",
        "\n",
        "> 1. Transfer Learninig with feature extraction isn't great help\n",
        "> 2. Using well-known architectures looks promising, but they need to be trained over 40 epochs, as only after 30 epochs their curves of learning (loss and accuracy) are becoming stable, so they are not struggling with generalization."
      ],
      "metadata": {
        "id": "puZ1qSTuY0x6"
      }
    },
    {
      "cell_type": "code",
      "source": [],
      "metadata": {
        "id": "pot9Pi5czLx5"
      },
      "execution_count": null,
      "outputs": []
    }
  ]
}